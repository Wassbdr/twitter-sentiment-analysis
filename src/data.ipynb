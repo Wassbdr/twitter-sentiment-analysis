{
 "cells": [
  {
   "cell_type": "code",
   "execution_count": 3,
   "metadata": {},
   "outputs": [
    {
     "name": "stderr",
     "output_type": "stream",
     "text": [
      "2025-05-10 06:46:15.877513: E external/local_xla/xla/stream_executor/cuda/cuda_fft.cc:467] Unable to register cuFFT factory: Attempting to register factory for plugin cuFFT when one has already been registered\n",
      "WARNING: All log messages before absl::InitializeLog() is called are written to STDERR\n",
      "E0000 00:00:1746859575.899735     104 cuda_dnn.cc:8579] Unable to register cuDNN factory: Attempting to register factory for plugin cuDNN when one has already been registered\n",
      "E0000 00:00:1746859575.905695     104 cuda_blas.cc:1407] Unable to register cuBLAS factory: Attempting to register factory for plugin cuBLAS when one has already been registered\n",
      "W0000 00:00:1746859575.922962     104 computation_placer.cc:177] computation placer already registered. Please check linkage and avoid linking the same target more than once.\n",
      "W0000 00:00:1746859575.922982     104 computation_placer.cc:177] computation placer already registered. Please check linkage and avoid linking the same target more than once.\n",
      "W0000 00:00:1746859575.922984     104 computation_placer.cc:177] computation placer already registered. Please check linkage and avoid linking the same target more than once.\n",
      "W0000 00:00:1746859575.922985     104 computation_placer.cc:177] computation placer already registered. Please check linkage and avoid linking the same target more than once.\n",
      "2025-05-10 06:46:15.927201: I tensorflow/core/platform/cpu_feature_guard.cc:210] This TensorFlow binary is optimized to use available CPU instructions in performance-critical operations.\n",
      "To enable the following instructions: AVX2 FMA, in other operations, rebuild TensorFlow with the appropriate compiler flags.\n"
     ]
    },
    {
     "ename": "RuntimeError",
     "evalue": "Failed to import transformers.trainer because of the following error (look up to see its traceback):\nmodule 'pyarrow.lib' has no attribute 'ListViewType'",
     "output_type": "error",
     "traceback": [
      "\u001b[0;31m---------------------------------------------------------------------------\u001b[0m",
      "\u001b[0;31mAttributeError\u001b[0m                            Traceback (most recent call last)",
      "File \u001b[0;32m/opt/conda/lib/python3.11/site-packages/transformers/utils/import_utils.py:1967\u001b[0m, in \u001b[0;36m_LazyModule._get_module\u001b[0;34m(self, module_name)\u001b[0m\n\u001b[1;32m   1966\u001b[0m \u001b[38;5;28;01mtry\u001b[39;00m:\n\u001b[0;32m-> 1967\u001b[0m     \u001b[38;5;28;01mreturn\u001b[39;00m \u001b[43mimportlib\u001b[49m\u001b[38;5;241;43m.\u001b[39;49m\u001b[43mimport_module\u001b[49m\u001b[43m(\u001b[49m\u001b[38;5;124;43m\"\u001b[39;49m\u001b[38;5;124;43m.\u001b[39;49m\u001b[38;5;124;43m\"\u001b[39;49m\u001b[43m \u001b[49m\u001b[38;5;241;43m+\u001b[39;49m\u001b[43m \u001b[49m\u001b[43mmodule_name\u001b[49m\u001b[43m,\u001b[49m\u001b[43m \u001b[49m\u001b[38;5;28;43mself\u001b[39;49m\u001b[38;5;241;43m.\u001b[39;49m\u001b[38;5;18;43m__name__\u001b[39;49m\u001b[43m)\u001b[49m\n\u001b[1;32m   1968\u001b[0m \u001b[38;5;28;01mexcept\u001b[39;00m \u001b[38;5;167;01mException\u001b[39;00m \u001b[38;5;28;01mas\u001b[39;00m e:\n",
      "File \u001b[0;32m/opt/conda/lib/python3.11/importlib/__init__.py:126\u001b[0m, in \u001b[0;36mimport_module\u001b[0;34m(name, package)\u001b[0m\n\u001b[1;32m    125\u001b[0m         level \u001b[38;5;241m+\u001b[39m\u001b[38;5;241m=\u001b[39m \u001b[38;5;241m1\u001b[39m\n\u001b[0;32m--> 126\u001b[0m \u001b[38;5;28;01mreturn\u001b[39;00m \u001b[43m_bootstrap\u001b[49m\u001b[38;5;241;43m.\u001b[39;49m\u001b[43m_gcd_import\u001b[49m\u001b[43m(\u001b[49m\u001b[43mname\u001b[49m\u001b[43m[\u001b[49m\u001b[43mlevel\u001b[49m\u001b[43m:\u001b[49m\u001b[43m]\u001b[49m\u001b[43m,\u001b[49m\u001b[43m \u001b[49m\u001b[43mpackage\u001b[49m\u001b[43m,\u001b[49m\u001b[43m \u001b[49m\u001b[43mlevel\u001b[49m\u001b[43m)\u001b[49m\n",
      "File \u001b[0;32m<frozen importlib._bootstrap>:1204\u001b[0m, in \u001b[0;36m_gcd_import\u001b[0;34m(name, package, level)\u001b[0m\n",
      "File \u001b[0;32m<frozen importlib._bootstrap>:1176\u001b[0m, in \u001b[0;36m_find_and_load\u001b[0;34m(name, import_)\u001b[0m\n",
      "File \u001b[0;32m<frozen importlib._bootstrap>:1147\u001b[0m, in \u001b[0;36m_find_and_load_unlocked\u001b[0;34m(name, import_)\u001b[0m\n",
      "File \u001b[0;32m<frozen importlib._bootstrap>:690\u001b[0m, in \u001b[0;36m_load_unlocked\u001b[0;34m(spec)\u001b[0m\n",
      "File \u001b[0;32m<frozen importlib._bootstrap_external>:940\u001b[0m, in \u001b[0;36mexec_module\u001b[0;34m(self, module)\u001b[0m\n",
      "File \u001b[0;32m<frozen importlib._bootstrap>:241\u001b[0m, in \u001b[0;36m_call_with_frames_removed\u001b[0;34m(f, *args, **kwds)\u001b[0m\n",
      "File \u001b[0;32m/opt/conda/lib/python3.11/site-packages/transformers/trainer.py:196\u001b[0m\n\u001b[1;32m    195\u001b[0m \u001b[38;5;28;01mif\u001b[39;00m is_datasets_available():\n\u001b[0;32m--> 196\u001b[0m     \u001b[38;5;28;01mimport\u001b[39;00m \u001b[38;5;21;01mdatasets\u001b[39;00m\n\u001b[1;32m    198\u001b[0m \u001b[38;5;28;01mif\u001b[39;00m is_torch_xla_available():\n",
      "File \u001b[0;32m/opt/conda/lib/python3.11/site-packages/datasets/__init__.py:17\u001b[0m\n\u001b[1;32m     15\u001b[0m __version__ \u001b[38;5;241m=\u001b[39m \u001b[38;5;124m\"\u001b[39m\u001b[38;5;124m3.4.1\u001b[39m\u001b[38;5;124m\"\u001b[39m\n\u001b[0;32m---> 17\u001b[0m \u001b[38;5;28;01mfrom\u001b[39;00m \u001b[38;5;21;01m.\u001b[39;00m\u001b[38;5;21;01marrow_dataset\u001b[39;00m \u001b[38;5;28;01mimport\u001b[39;00m Dataset\n\u001b[1;32m     18\u001b[0m \u001b[38;5;28;01mfrom\u001b[39;00m \u001b[38;5;21;01m.\u001b[39;00m\u001b[38;5;21;01marrow_reader\u001b[39;00m \u001b[38;5;28;01mimport\u001b[39;00m ReadInstruction\n",
      "File \u001b[0;32m/opt/conda/lib/python3.11/site-packages/datasets/arrow_dataset.py:73\u001b[0m\n\u001b[1;32m     72\u001b[0m \u001b[38;5;28;01mfrom\u001b[39;00m \u001b[38;5;21;01m.\u001b[39;00m \u001b[38;5;28;01mimport\u001b[39;00m config\n\u001b[0;32m---> 73\u001b[0m \u001b[38;5;28;01mfrom\u001b[39;00m \u001b[38;5;21;01m.\u001b[39;00m\u001b[38;5;21;01marrow_reader\u001b[39;00m \u001b[38;5;28;01mimport\u001b[39;00m ArrowReader\n\u001b[1;32m     74\u001b[0m \u001b[38;5;28;01mfrom\u001b[39;00m \u001b[38;5;21;01m.\u001b[39;00m\u001b[38;5;21;01marrow_writer\u001b[39;00m \u001b[38;5;28;01mimport\u001b[39;00m ArrowWriter, OptimizedTypedSequence\n",
      "File \u001b[0;32m/opt/conda/lib/python3.11/site-packages/datasets/arrow_reader.py:27\u001b[0m\n\u001b[1;32m     26\u001b[0m \u001b[38;5;28;01mimport\u001b[39;00m \u001b[38;5;21;01mpyarrow\u001b[39;00m \u001b[38;5;28;01mas\u001b[39;00m \u001b[38;5;21;01mpa\u001b[39;00m\n\u001b[0;32m---> 27\u001b[0m \u001b[38;5;28;01mimport\u001b[39;00m \u001b[38;5;21;01mpyarrow\u001b[39;00m\u001b[38;5;21;01m.\u001b[39;00m\u001b[38;5;21;01mparquet\u001b[39;00m \u001b[38;5;28;01mas\u001b[39;00m \u001b[38;5;21;01mpq\u001b[39;00m\n\u001b[1;32m     28\u001b[0m \u001b[38;5;28;01mfrom\u001b[39;00m \u001b[38;5;21;01mtqdm\u001b[39;00m\u001b[38;5;21;01m.\u001b[39;00m\u001b[38;5;21;01mcontrib\u001b[39;00m\u001b[38;5;21;01m.\u001b[39;00m\u001b[38;5;21;01mconcurrent\u001b[39;00m \u001b[38;5;28;01mimport\u001b[39;00m thread_map\n",
      "File \u001b[0;32m/opt/conda/lib/python3.11/site-packages/pyarrow/parquet/__init__.py:20\u001b[0m\n\u001b[1;32m      1\u001b[0m \u001b[38;5;66;03m# Licensed to the Apache Software Foundation (ASF) under one\u001b[39;00m\n\u001b[1;32m      2\u001b[0m \u001b[38;5;66;03m# or more contributor license agreements.  See the NOTICE file\u001b[39;00m\n\u001b[1;32m      3\u001b[0m \u001b[38;5;66;03m# distributed with this work for additional information\u001b[39;00m\n\u001b[0;32m   (...)\u001b[0m\n\u001b[1;32m     17\u001b[0m \n\u001b[1;32m     18\u001b[0m \u001b[38;5;66;03m# flake8: noqa\u001b[39;00m\n\u001b[0;32m---> 20\u001b[0m \u001b[38;5;28;01mfrom\u001b[39;00m \u001b[38;5;21;01m.\u001b[39;00m\u001b[38;5;21;01mcore\u001b[39;00m \u001b[38;5;28;01mimport\u001b[39;00m \u001b[38;5;241m*\u001b[39m\n",
      "File \u001b[0;32m/opt/conda/lib/python3.11/site-packages/pyarrow/parquet/core.py:32\u001b[0m\n\u001b[1;32m     31\u001b[0m \u001b[38;5;28;01mtry\u001b[39;00m:\n\u001b[0;32m---> 32\u001b[0m     \u001b[38;5;28;01mimport\u001b[39;00m \u001b[38;5;21;01mpyarrow\u001b[39;00m\u001b[38;5;21;01m.\u001b[39;00m\u001b[38;5;21;01m_parquet\u001b[39;00m \u001b[38;5;28;01mas\u001b[39;00m \u001b[38;5;21;01m_parquet\u001b[39;00m\n\u001b[1;32m     33\u001b[0m \u001b[38;5;28;01mexcept\u001b[39;00m \u001b[38;5;167;01mImportError\u001b[39;00m \u001b[38;5;28;01mas\u001b[39;00m exc:\n",
      "File \u001b[0;32m/opt/conda/lib/python3.11/site-packages/pyarrow/_parquet.pyx:1\u001b[0m, in \u001b[0;36minit pyarrow._parquet\u001b[0;34m()\u001b[0m\n",
      "\u001b[0;31mAttributeError\u001b[0m: module 'pyarrow.lib' has no attribute 'ListViewType'",
      "\nThe above exception was the direct cause of the following exception:\n",
      "\u001b[0;31mRuntimeError\u001b[0m                              Traceback (most recent call last)",
      "Cell \u001b[0;32mIn[3], line 39\u001b[0m\n\u001b[1;32m     35\u001b[0m \u001b[38;5;28;01mfrom\u001b[39;00m \u001b[38;5;21;01mtensorflow\u001b[39;00m\u001b[38;5;21;01m.\u001b[39;00m\u001b[38;5;21;01mkeras\u001b[39;00m\u001b[38;5;21;01m.\u001b[39;00m\u001b[38;5;21;01mcallbacks\u001b[39;00m \u001b[38;5;28;01mimport\u001b[39;00m EarlyStopping, ReduceLROnPlateau\n\u001b[1;32m     38\u001b[0m \u001b[38;5;66;03m# Pour les Transformers (Hugging Face)\u001b[39;00m\n\u001b[0;32m---> 39\u001b[0m \u001b[38;5;28;01mfrom\u001b[39;00m \u001b[38;5;21;01mtransformers\u001b[39;00m \u001b[38;5;28;01mimport\u001b[39;00m AutoTokenizer, AutoModelForSequenceClassification, TrainingArguments, Trainer\n\u001b[1;32m     40\u001b[0m \u001b[38;5;28;01mimport\u001b[39;00m \u001b[38;5;21;01mtorch\u001b[39;00m\n\u001b[1;32m     41\u001b[0m \u001b[38;5;28;01mfrom\u001b[39;00m \u001b[38;5;21;01mdatasets\u001b[39;00m \u001b[38;5;28;01mimport\u001b[39;00m Dataset\n",
      "File \u001b[0;32m<frozen importlib._bootstrap>:1229\u001b[0m, in \u001b[0;36m_handle_fromlist\u001b[0;34m(module, fromlist, import_, recursive)\u001b[0m\n",
      "File \u001b[0;32m/opt/conda/lib/python3.11/site-packages/transformers/utils/import_utils.py:1955\u001b[0m, in \u001b[0;36m_LazyModule.__getattr__\u001b[0;34m(self, name)\u001b[0m\n\u001b[1;32m   1953\u001b[0m     value \u001b[38;5;241m=\u001b[39m Placeholder\n\u001b[1;32m   1954\u001b[0m \u001b[38;5;28;01melif\u001b[39;00m name \u001b[38;5;129;01min\u001b[39;00m \u001b[38;5;28mself\u001b[39m\u001b[38;5;241m.\u001b[39m_class_to_module\u001b[38;5;241m.\u001b[39mkeys():\n\u001b[0;32m-> 1955\u001b[0m     module \u001b[38;5;241m=\u001b[39m \u001b[38;5;28;43mself\u001b[39;49m\u001b[38;5;241;43m.\u001b[39;49m\u001b[43m_get_module\u001b[49m\u001b[43m(\u001b[49m\u001b[38;5;28;43mself\u001b[39;49m\u001b[38;5;241;43m.\u001b[39;49m\u001b[43m_class_to_module\u001b[49m\u001b[43m[\u001b[49m\u001b[43mname\u001b[49m\u001b[43m]\u001b[49m\u001b[43m)\u001b[49m\n\u001b[1;32m   1956\u001b[0m     value \u001b[38;5;241m=\u001b[39m \u001b[38;5;28mgetattr\u001b[39m(module, name)\n\u001b[1;32m   1957\u001b[0m \u001b[38;5;28;01melif\u001b[39;00m name \u001b[38;5;129;01min\u001b[39;00m \u001b[38;5;28mself\u001b[39m\u001b[38;5;241m.\u001b[39m_modules:\n",
      "File \u001b[0;32m/opt/conda/lib/python3.11/site-packages/transformers/utils/import_utils.py:1969\u001b[0m, in \u001b[0;36m_LazyModule._get_module\u001b[0;34m(self, module_name)\u001b[0m\n\u001b[1;32m   1967\u001b[0m     \u001b[38;5;28;01mreturn\u001b[39;00m importlib\u001b[38;5;241m.\u001b[39mimport_module(\u001b[38;5;124m\"\u001b[39m\u001b[38;5;124m.\u001b[39m\u001b[38;5;124m\"\u001b[39m \u001b[38;5;241m+\u001b[39m module_name, \u001b[38;5;28mself\u001b[39m\u001b[38;5;241m.\u001b[39m\u001b[38;5;18m__name__\u001b[39m)\n\u001b[1;32m   1968\u001b[0m \u001b[38;5;28;01mexcept\u001b[39;00m \u001b[38;5;167;01mException\u001b[39;00m \u001b[38;5;28;01mas\u001b[39;00m e:\n\u001b[0;32m-> 1969\u001b[0m     \u001b[38;5;28;01mraise\u001b[39;00m \u001b[38;5;167;01mRuntimeError\u001b[39;00m(\n\u001b[1;32m   1970\u001b[0m         \u001b[38;5;124mf\u001b[39m\u001b[38;5;124m\"\u001b[39m\u001b[38;5;124mFailed to import \u001b[39m\u001b[38;5;132;01m{\u001b[39;00m\u001b[38;5;28mself\u001b[39m\u001b[38;5;241m.\u001b[39m\u001b[38;5;18m__name__\u001b[39m\u001b[38;5;132;01m}\u001b[39;00m\u001b[38;5;124m.\u001b[39m\u001b[38;5;132;01m{\u001b[39;00mmodule_name\u001b[38;5;132;01m}\u001b[39;00m\u001b[38;5;124m because of the following error (look up to see its\u001b[39m\u001b[38;5;124m\"\u001b[39m\n\u001b[1;32m   1971\u001b[0m         \u001b[38;5;124mf\u001b[39m\u001b[38;5;124m\"\u001b[39m\u001b[38;5;124m traceback):\u001b[39m\u001b[38;5;130;01m\\n\u001b[39;00m\u001b[38;5;132;01m{\u001b[39;00me\u001b[38;5;132;01m}\u001b[39;00m\u001b[38;5;124m\"\u001b[39m\n\u001b[1;32m   1972\u001b[0m     ) \u001b[38;5;28;01mfrom\u001b[39;00m \u001b[38;5;21;01me\u001b[39;00m\n",
      "\u001b[0;31mRuntimeError\u001b[0m: Failed to import transformers.trainer because of the following error (look up to see its traceback):\nmodule 'pyarrow.lib' has no attribute 'ListViewType'"
     ]
    }
   ],
   "source": [
    "import pandas as pd\n",
    "import numpy as np\n",
    "import re\n",
    "import string\n",
    "import nltk\n",
    "import matplotlib.pyplot as plt # Pour d'éventuelles visualisations\n",
    "import seaborn as sns # Pour d'éventuelles visualisations\n",
    "\n",
    "# Téléchargement initial des ressources NLTK (à faire une fois par environnement)\n",
    "# nltk.download('stopwords', quiet=True)\n",
    "# nltk.download('punkt', quiet=True)\n",
    "from nltk.corpus import stopwords\n",
    "from nltk.tokenize import word_tokenize\n",
    "\n",
    "from sklearn.model_selection import train_test_split, GridSearchCV\n",
    "from sklearn.feature_extraction.text import CountVectorizer, TfidfVectorizer\n",
    "from sklearn.naive_bayes import MultinomialNB\n",
    "from sklearn.linear_model import LogisticRegression\n",
    "from sklearn.ensemble import RandomForestClassifier\n",
    "from sklearn.metrics import classification_report, accuracy_score, confusion_matrix\n",
    "from sklearn.preprocessing import LabelEncoder\n",
    "from sklearn.utils import class_weight\n",
    "\n",
    "\n",
    "# Pour Word2Vec\n",
    "from gensim.models import Word2Vec\n",
    "\n",
    "# Pour les Réseaux de Neurones avec Keras (TensorFlow backend)\n",
    "import tensorflow as tf\n",
    "from tensorflow.keras.models import Sequential\n",
    "from tensorflow.keras.layers import Dense, Embedding, LSTM, GRU, GlobalAveragePooling1D, Dropout, Bidirectional, Input\n",
    "from tensorflow.keras.preprocessing.text import Tokenizer as KerasTokenizer\n",
    "from tensorflow.keras.preprocessing.sequence import pad_sequences\n",
    "from tensorflow.keras.utils import to_categorical\n",
    "from tensorflow.keras.callbacks import EarlyStopping, ReduceLROnPlateau\n",
    "\n",
    "\n",
    "# Pour les Transformers (Hugging Face)\n",
    "from transformers import AutoTokenizer, AutoModelForSequenceClassification, TrainingArguments, Trainer\n",
    "import torch\n",
    "from datasets import Dataset\n",
    "import evaluate\n",
    "\n",
    "# Configuration\n",
    "SEED = 42 # Pour la reproductibilité\n",
    "np.random.seed(SEED)\n",
    "tf.random.set_seed(SEED)\n",
    "# torch.manual_seed(SEED) # Si vous utilisez PyTorch plus directement\n",
    "\n",
    "# Affichage des dataframes\n",
    "pd.set_option('display.max_colwidth', 200)"
   ]
  },
  {
   "cell_type": "markdown",
   "metadata": {},
   "source": [
    "# 1. Chargement et Préparation des Données\n",
    "\n",
    "Le dataset utilisé est \"TimKoornstra/financial-tweets-sentiment\" de Hugging Face, contenant des tweets financiers avec des labels de sentiment (positif, négatif, neutre)."
   ]
  },
  {
   "cell_type": "code",
   "execution_count": 2,
   "metadata": {},
   "outputs": [
    {
     "name": "stdout",
     "output_type": "stream",
     "text": [
      "--- 1. Chargement et Préparation des Données ---\n",
      "Dataset chargé.\n"
     ]
    }
   ],
   "source": [
    "print(\"--- 1. Chargement et Préparation des Données ---\")\n",
    "import pandas as pd\n",
    "try:\n",
    "    # Assurez-vous d'être connecté à Hugging Face si le dataset est privé ou nécessite une authentification\n",
    "    # from huggingface_hub import notebook_login\n",
    "    # notebook_login() # Décommentez si nécessaire\n",
    "    df = pd.read_parquet(\"hf://datasets/TimKoornstra/financial-tweets-sentiment/data/train-00000-of-00001.parquet\")\n",
    "except Exception as e:\n",
    "    print(f\"Erreur de chargement du dataset depuis Hugging Face: {e}\")\n",
    "    print(\"Utilisation d'un dataset d'exemple simplifié.\")\n",
    "    # Fallback dataset pour les tests hors ligne ou si le chargement échoue\n",
    "    data_dict = {\n",
    "        'tweet': [\n",
    "            \"Stock market is soaring with $AAPL!\", \"This company $XYZ is doing great.\", \"I am neutral about this $TSLA.\",\n",
    "            \"Feeling bearish about the economy.\", \"Lost a lot of money today with $GME.\", \"This is a disaster for $BTC.\",\n",
    "            \"Positive news for $MSFT.\", \"Neutral stance on $AMZN.\", \"Negative outlook for $NVDA.\",\n",
    "            \"Great earnings report from $GOOG.\", \"Uncertainty looms over the $SPX index.\", \"Significant drop in $OIL prices.\"\n",
    "        ] * 100, # Multiplier pour avoir plus de données\n",
    "        'sentiment': [1, 1, 0, 2, 2, 2, 1, 0, 2, 1, 0, 2] * 100\n",
    "    }\n",
    "    df = pd.DataFrame(data_dict)\n",
    "\n",
    "if 'url' in df.columns:\n",
    "    df.drop(columns=['url'], inplace=True)\n",
    "df.rename(columns={'sentiment': 'label_orig_int'}, inplace=True)\n",
    "df.rename(columns={'tweet': 'text'}, inplace=True)\n",
    "\n",
    "map_labels_str = {0: \"neutral\", 1: 'positive',  2: 'negative'}\n",
    "df['label'] = df['label_orig_int'].apply(lambda x: map_labels_str.get(x, \"unknown\")) # .get pour gérer les labels inconnus\n",
    "\n",
    "# Supprimer les lignes avec des labels \"unknown\" si elles existent\n",
    "df = df[df['label'] != \"unknown\"]\n",
    "df.reset_index(drop=True, inplace=True)\n",
    "\n",
    "print(\"Dataset chargé.\")"
   ]
  },
  {
   "cell_type": "code",
   "execution_count": 3,
   "metadata": {},
   "outputs": [
    {
     "name": "stdout",
     "output_type": "stream",
     "text": [
      "Aperçu du DataFrame:\n"
     ]
    },
    {
     "data": {
      "text/html": [
       "<div>\n",
       "<style scoped>\n",
       "    .dataframe tbody tr th:only-of-type {\n",
       "        vertical-align: middle;\n",
       "    }\n",
       "\n",
       "    .dataframe tbody tr th {\n",
       "        vertical-align: top;\n",
       "    }\n",
       "\n",
       "    .dataframe thead th {\n",
       "        text-align: right;\n",
       "    }\n",
       "</style>\n",
       "<table border=\"1\" class=\"dataframe\">\n",
       "  <thead>\n",
       "    <tr style=\"text-align: right;\">\n",
       "      <th></th>\n",
       "      <th>text</th>\n",
       "      <th>label_orig_int</th>\n",
       "      <th>label</th>\n",
       "    </tr>\n",
       "  </thead>\n",
       "  <tbody>\n",
       "    <tr>\n",
       "      <th>0</th>\n",
       "      <td>$BYND - JPMorgan reels in expectations on Beyo...</td>\n",
       "      <td>2</td>\n",
       "      <td>negative</td>\n",
       "    </tr>\n",
       "    <tr>\n",
       "      <th>1</th>\n",
       "      <td>$CCL $RCL - Nomura points to bookings weakness...</td>\n",
       "      <td>2</td>\n",
       "      <td>negative</td>\n",
       "    </tr>\n",
       "    <tr>\n",
       "      <th>2</th>\n",
       "      <td>$CX - Cemex cut at Credit Suisse, J.P. Morgan ...</td>\n",
       "      <td>2</td>\n",
       "      <td>negative</td>\n",
       "    </tr>\n",
       "    <tr>\n",
       "      <th>3</th>\n",
       "      <td>$ESS: BTIG Research cuts to Neutral https://t....</td>\n",
       "      <td>2</td>\n",
       "      <td>negative</td>\n",
       "    </tr>\n",
       "    <tr>\n",
       "      <th>4</th>\n",
       "      <td>$FNKO - Funko slides after Piper Jaffray PT cu...</td>\n",
       "      <td>2</td>\n",
       "      <td>negative</td>\n",
       "    </tr>\n",
       "  </tbody>\n",
       "</table>\n",
       "</div>"
      ],
      "text/plain": [
       "                                                text  label_orig_int     label\n",
       "0  $BYND - JPMorgan reels in expectations on Beyo...               2  negative\n",
       "1  $CCL $RCL - Nomura points to bookings weakness...               2  negative\n",
       "2  $CX - Cemex cut at Credit Suisse, J.P. Morgan ...               2  negative\n",
       "3  $ESS: BTIG Research cuts to Neutral https://t....               2  negative\n",
       "4  $FNKO - Funko slides after Piper Jaffray PT cu...               2  negative"
      ]
     },
     "metadata": {},
     "output_type": "display_data"
    },
    {
     "name": "stdout",
     "output_type": "stream",
     "text": [
      "\n",
      "Informations sur le DataFrame:\n",
      "<class 'pandas.core.frame.DataFrame'>\n",
      "RangeIndex: 38091 entries, 0 to 38090\n",
      "Data columns (total 3 columns):\n",
      " #   Column          Non-Null Count  Dtype \n",
      "---  ------          --------------  ----- \n",
      " 0   text            38091 non-null  object\n",
      " 1   label_orig_int  38091 non-null  int64 \n",
      " 2   label           38091 non-null  object\n",
      "dtypes: int64(1), object(2)\n",
      "memory usage: 892.9+ KB\n",
      "\n",
      "Distribution des labels:\n",
      "label\n",
      "positive    17368\n",
      "neutral     12181\n",
      "negative     8542\n",
      "Name: count, dtype: int64\n"
     ]
    },
    {
     "ename": "NameError",
     "evalue": "name 'plt' is not defined",
     "output_type": "error",
     "traceback": [
      "\u001b[0;31m---------------------------------------------------------------------------\u001b[0m",
      "\u001b[0;31mNameError\u001b[0m                                 Traceback (most recent call last)",
      "Cell \u001b[0;32mIn[3], line 10\u001b[0m\n\u001b[1;32m      7\u001b[0m \u001b[38;5;28mprint\u001b[39m(\u001b[38;5;124m\"\u001b[39m\u001b[38;5;130;01m\\n\u001b[39;00m\u001b[38;5;124mDistribution des labels:\u001b[39m\u001b[38;5;124m\"\u001b[39m)\n\u001b[1;32m      8\u001b[0m \u001b[38;5;28mprint\u001b[39m(df[\u001b[38;5;124m'\u001b[39m\u001b[38;5;124mlabel\u001b[39m\u001b[38;5;124m'\u001b[39m]\u001b[38;5;241m.\u001b[39mvalue_counts())\n\u001b[0;32m---> 10\u001b[0m \u001b[43mplt\u001b[49m\u001b[38;5;241m.\u001b[39mfigure(figsize\u001b[38;5;241m=\u001b[39m(\u001b[38;5;241m6\u001b[39m,\u001b[38;5;241m4\u001b[39m))\n\u001b[1;32m     11\u001b[0m sns\u001b[38;5;241m.\u001b[39mcountplot(x\u001b[38;5;241m=\u001b[39m\u001b[38;5;124m'\u001b[39m\u001b[38;5;124mlabel\u001b[39m\u001b[38;5;124m'\u001b[39m, data\u001b[38;5;241m=\u001b[39mdf, order \u001b[38;5;241m=\u001b[39m df[\u001b[38;5;124m'\u001b[39m\u001b[38;5;124mlabel\u001b[39m\u001b[38;5;124m'\u001b[39m]\u001b[38;5;241m.\u001b[39mvalue_counts()\u001b[38;5;241m.\u001b[39mindex)\n\u001b[1;32m     12\u001b[0m plt\u001b[38;5;241m.\u001b[39mtitle(\u001b[38;5;124m'\u001b[39m\u001b[38;5;124mDistribution des Labels de Sentiment\u001b[39m\u001b[38;5;124m'\u001b[39m)\n",
      "\u001b[0;31mNameError\u001b[0m: name 'plt' is not defined"
     ]
    }
   ],
   "source": [
    "print(\"Aperçu du DataFrame:\")\n",
    "display(df.head())\n",
    "\n",
    "print(\"\\nInformations sur le DataFrame:\")\n",
    "df.info()\n",
    "\n",
    "print(\"\\nDistribution des labels:\")\n",
    "print(df['label'].value_counts())\n",
    "\n",
    "plt.figure(figsize=(6,4))\n",
    "sns.countplot(x='label', data=df, order = df['label'].value_counts().index)\n",
    "plt.title('Distribution des Labels de Sentiment')\n",
    "plt.show()"
   ]
  },
  {
   "cell_type": "markdown",
   "metadata": {},
   "source": [
    "# 2. Nettoyage du Texte\n",
    "\n",
    "Les étapes de nettoyage incluent :\n",
    "\n",
    "    Passage en minuscules.\n",
    "\n",
    "    Suppression des URLs.\n",
    "\n",
    "    Suppression des mentions (@) et hashtags (#) (on garde le mot du hashtag).\n",
    "\n",
    "    Suppression de la ponctuation.\n",
    "\n",
    "    (Optionnel) Suppression des stop-words (peut être géré par les vectoriseurs)."
   ]
  },
  {
   "cell_type": "code",
   "execution_count": 47,
   "metadata": {},
   "outputs": [
    {
     "name": "stdout",
     "output_type": "stream",
     "text": [
      "--- 2. Nettoyage du Texte ---\n"
     ]
    }
   ],
   "source": [
    "print(\"--- 2. Nettoyage du Texte ---\")\n",
    "stop_words_en = set(stopwords.words('english'))\n",
    "\n",
    "def clean_text(text):\n",
    "    text = str(text).lower()\n",
    "    text = re.sub(r\"http\\S+|www\\S+|https\\S+\", \"\", text, flags=re.MULTILINE) # Supprime URLs\n",
    "    text = re.sub(r\"\\@\\w+\", \"\", text) # Supprime mentions\n",
    "    # text = re.sub(r\"#\", \"\", text) # Conserve le mot après le hashtag, supprime juste le #\n",
    "    text = text.translate(str.maketrans(\"\", \"\", string.punctuation.replace('$',''))) # Conserve le $ pour les tickers\n",
    "    text = re.sub(r\"\\s+\", \" \", text).strip() # Supprime les espaces multiples\n",
    "    # Optionnel: suppression des stop words (peut être fait plus tard ou par le vectoriseur)\n",
    "    # tokens = word_tokenize(text)\n",
    "    # tokens = [word for word in tokens if word not in stop_words_en and word.isalpha()]\n",
    "    # text = \" \".join(tokens)\n",
    "    return text"
   ]
  },
  {
   "cell_type": "code",
   "execution_count": 48,
   "metadata": {},
   "outputs": [
    {
     "name": "stdout",
     "output_type": "stream",
     "text": [
      "Exemples de texte nettoyé :\n"
     ]
    },
    {
     "data": {
      "text/html": [
       "<div>\n",
       "<style scoped>\n",
       "    .dataframe tbody tr th:only-of-type {\n",
       "        vertical-align: middle;\n",
       "    }\n",
       "\n",
       "    .dataframe tbody tr th {\n",
       "        vertical-align: top;\n",
       "    }\n",
       "\n",
       "    .dataframe thead th {\n",
       "        text-align: right;\n",
       "    }\n",
       "</style>\n",
       "<table border=\"1\" class=\"dataframe\">\n",
       "  <thead>\n",
       "    <tr style=\"text-align: right;\">\n",
       "      <th></th>\n",
       "      <th>text</th>\n",
       "      <th>cleaned_text</th>\n",
       "    </tr>\n",
       "  </thead>\n",
       "  <tbody>\n",
       "    <tr>\n",
       "      <th>0</th>\n",
       "      <td>$BYND - JPMorgan reels in expectations on Beyond Meat https://t.co/bd0xbFGjkT</td>\n",
       "      <td>$bynd jpmorgan reels in expectations on beyond meat</td>\n",
       "    </tr>\n",
       "    <tr>\n",
       "      <th>1</th>\n",
       "      <td>$CCL $RCL - Nomura points to bookings weakness at Carnival and Royal Caribbean https://t.co/yGjpT2ReD3</td>\n",
       "      <td>$ccl $rcl nomura points to bookings weakness at carnival and royal caribbean</td>\n",
       "    </tr>\n",
       "    <tr>\n",
       "      <th>2</th>\n",
       "      <td>$CX - Cemex cut at Credit Suisse, J.P. Morgan on weak building outlook https://t.co/KN1g4AWFIb</td>\n",
       "      <td>$cx cemex cut at credit suisse jp morgan on weak building outlook</td>\n",
       "    </tr>\n",
       "    <tr>\n",
       "      <th>3</th>\n",
       "      <td>$ESS: BTIG Research cuts to Neutral https://t.co/MCyfTsXc2N</td>\n",
       "      <td>$ess btig research cuts to neutral</td>\n",
       "    </tr>\n",
       "    <tr>\n",
       "      <th>4</th>\n",
       "      <td>$FNKO - Funko slides after Piper Jaffray PT cut https://t.co/z37IJmCQzB</td>\n",
       "      <td>$fnko funko slides after piper jaffray pt cut</td>\n",
       "    </tr>\n",
       "  </tbody>\n",
       "</table>\n",
       "</div>"
      ],
      "text/plain": [
       "                                                                                                     text  \\\n",
       "0                           $BYND - JPMorgan reels in expectations on Beyond Meat https://t.co/bd0xbFGjkT   \n",
       "1  $CCL $RCL - Nomura points to bookings weakness at Carnival and Royal Caribbean https://t.co/yGjpT2ReD3   \n",
       "2          $CX - Cemex cut at Credit Suisse, J.P. Morgan on weak building outlook https://t.co/KN1g4AWFIb   \n",
       "3                                             $ESS: BTIG Research cuts to Neutral https://t.co/MCyfTsXc2N   \n",
       "4                                 $FNKO - Funko slides after Piper Jaffray PT cut https://t.co/z37IJmCQzB   \n",
       "\n",
       "                                                                   cleaned_text  \n",
       "0                           $bynd jpmorgan reels in expectations on beyond meat  \n",
       "1  $ccl $rcl nomura points to bookings weakness at carnival and royal caribbean  \n",
       "2             $cx cemex cut at credit suisse jp morgan on weak building outlook  \n",
       "3                                            $ess btig research cuts to neutral  \n",
       "4                                 $fnko funko slides after piper jaffray pt cut  "
      ]
     },
     "metadata": {},
     "output_type": "display_data"
    }
   ],
   "source": [
    "df[\"cleaned_text\"] = df[\"text\"].apply(clean_text)\n",
    "print(\"Exemples de texte nettoyé :\")\n",
    "display(df[[\"text\", \"cleaned_text\"]].head())"
   ]
  },
  {
   "cell_type": "markdown",
   "metadata": {},
   "source": [
    "### 3. Séparation des Données Train/Test\n",
    "\n",
    "Nous divisons les données en ensembles d'entraînement et de test (80%/20%) en veillant à stratifier par label pour maintenir la proportion des classes."
   ]
  },
  {
   "cell_type": "code",
   "execution_count": 49,
   "metadata": {},
   "outputs": [
    {
     "name": "stdout",
     "output_type": "stream",
     "text": [
      "--- 3. Séparation Train/Test ---\n",
      "Taille de l'ensemble d'entraînement: 30472\n",
      "Taille de l'ensemble de test: 7619\n",
      "Distribution des labels dans y_train_str:\n",
      "label\n",
      "positive    0.455960\n",
      "neutral     0.319802\n",
      "negative    0.224239\n",
      "Name: proportion, dtype: float64\n",
      "Distribution des labels dans y_test_str:\n",
      "label\n",
      "positive    0.455965\n",
      "neutral     0.319727\n",
      "negative    0.224308\n",
      "Name: proportion, dtype: float64\n"
     ]
    }
   ],
   "source": [
    "print(\"--- 3. Séparation Train/Test ---\")\n",
    "X = df[\"cleaned_text\"]\n",
    "y_str = df[\"label\"]\n",
    "y_int = df[\"label_orig_int\"] # Sera utilisé pour les NN et Transformers\n",
    "\n",
    "# Encoder les labels string en int pour certains modèles sklearn si besoin,\n",
    "# mais classification_report peut utiliser les strings.\n",
    "label_encoder_global = LabelEncoder()\n",
    "y_encoded_for_split = label_encoder_global.fit_transform(y_str)\n",
    "\n",
    "\n",
    "X_train_text, X_test_text, y_train_str, y_test_str, y_train_int, y_test_int, y_train_encoded, y_test_encoded = train_test_split(\n",
    "    X, y_str, y_int, y_encoded_for_split, test_size=0.2, random_state=SEED, stratify=y_str\n",
    ")\n",
    "\n",
    "print(f\"Taille de l'ensemble d'entraînement: {len(X_train_text)}\")\n",
    "print(f\"Taille de l'ensemble de test: {len(X_test_text)}\")\n",
    "print(f\"Distribution des labels dans y_train_str:\\n{y_train_str.value_counts(normalize=True)}\")\n",
    "print(f\"Distribution des labels dans y_test_str:\\n{y_test_str.value_counts(normalize=True)}\")"
   ]
  },
  {
   "cell_type": "markdown",
   "metadata": {},
   "source": [
    "# 4. Modèles \"Classiques\" avec Scikit-learn\n",
    "\n",
    "Nous allons commencer par évaluer des modèles de classification textuelle plus traditionnels."
   ]
  },
  {
   "cell_type": "code",
   "execution_count": 50,
   "metadata": {},
   "outputs": [],
   "source": [
    "results_summary = {}\n",
    "\n",
    "def evaluate_model(model_name, y_true, y_pred, y_pred_proba=None):\n",
    "    accuracy = accuracy_score(y_true, y_pred)\n",
    "    report = classification_report(y_true, y_pred, zero_division=0, output_dict=True)\n",
    "    print(f\"Rapport de Classification pour {model_name}:\")\n",
    "    print(classification_report(y_true, y_pred, zero_division=0))\n",
    "\n",
    "    cm = confusion_matrix(y_true, y_pred, labels=label_encoder_global.classes_)\n",
    "    plt.figure(figsize=(6,4))\n",
    "    sns.heatmap(cm, annot=True, fmt='d', cmap='Blues', xticklabels=label_encoder_global.classes_, yticklabels=label_encoder_global.classes_)\n",
    "    plt.xlabel('Prédit')\n",
    "    plt.ylabel('Vrai')\n",
    "    plt.title(f'Matrice de Confusion - {model_name}')\n",
    "    plt.show()\n",
    "\n",
    "    results_summary[model_name] = {\n",
    "        'accuracy': accuracy,\n",
    "        'precision_macro': report['macro avg']['precision'],\n",
    "        'recall_macro': report['macro avg']['recall'],\n",
    "        'f1_macro': report['macro avg']['f1-score']\n",
    "    }"
   ]
  },
  {
   "cell_type": "markdown",
   "metadata": {},
   "source": [
    "### 4.a. Naive Bayes (Multinomial) avec TF-IDF\n",
    "\n",
    "Le classifieur Naive Bayes est un modèle probabiliste simple mais souvent efficace pour la classification de texte. Nous utilisons MultinomialNB qui est adapté aux comptes de mots ou fréquences (TF-IDF). "
   ]
  },
  {
   "cell_type": "code",
   "execution_count": 51,
   "metadata": {},
   "outputs": [
    {
     "name": "stdout",
     "output_type": "stream",
     "text": [
      "--- 4.a. Naive Bayes (Multinomial) ---\n",
      "Rapport de Classification pour Naive Bayes (TF-IDF):\n",
      "              precision    recall  f1-score   support\n",
      "\n",
      "    negative       0.67      0.47      0.55      1709\n",
      "     neutral       0.71      0.68      0.69      2436\n",
      "    positive       0.69      0.82      0.75      3474\n",
      "\n",
      "    accuracy                           0.70      7619\n",
      "   macro avg       0.69      0.66      0.67      7619\n",
      "weighted avg       0.69      0.70      0.69      7619\n",
      "\n"
     ]
    },
    {
     "data": {
      "image/png": "[encoded data removed]",
      "text/plain": [
       "<Figure size 600x400 with 2 Axes>"
      ]
     },
     "metadata": {},
     "output_type": "display_data"
    }
   ],
   "source": [
    "print(\"--- 4.a. Naive Bayes (Multinomial) ---\")\n",
    "tfidf_vectorizer_nb = TfidfVectorizer(max_features=5000, stop_words='english', ngram_range=(1,2))\n",
    "X_train_tfidf_nb = tfidf_vectorizer_nb.fit_transform(X_train_text)\n",
    "X_test_tfidf_nb = tfidf_vectorizer_nb.transform(X_test_text)\n",
    "\n",
    "nb_model = MultinomialNB(alpha=0.1) # alpha est un hyperparamètre à régler\n",
    "# GridSearchCV pour Naive Bayes\n",
    "# params_nb = {'alpha': [0.01, 0.1, 0.5, 1.0, 5.0, 10.0]}\n",
    "# grid_nb = GridSearchCV(MultinomialNB(), params_nb, cv=5, scoring='f1_macro', verbose=1, n_jobs=-1)\n",
    "# grid_nb.fit(X_train_tfidf_nb, y_train_str)\n",
    "# nb_model = grid_nb.best_estimator_\n",
    "# print(f\"Meilleurs paramètres pour Naive Bayes: {grid_nb.best_params_}\")\n",
    "nb_model.fit(X_train_tfidf_nb, y_train_str)\n",
    "\n",
    "y_pred_nb = nb_model.predict(X_test_tfidf_nb)\n",
    "evaluate_model(\"Naive Bayes (TF-IDF)\", y_test_str, y_pred_nb)"
   ]
  },
  {
   "cell_type": "markdown",
   "metadata": {},
   "source": [
    "### 4.b. Régression Logistique avec TF-IDF\n",
    "\n",
    "La Régression Logistique est un autre modèle linéaire robuste, souvent utilisé comme baseline solide."
   ]
  },
  {
   "cell_type": "code",
   "execution_count": 52,
   "metadata": {},
   "outputs": [
    {
     "name": "stdout",
     "output_type": "stream",
     "text": [
      "--- 4.b. Régression Logistique ---\n",
      "Rapport de Classification pour Logistic Regression (TF-IDF):\n",
      "              precision    recall  f1-score   support\n",
      "\n",
      "    negative       0.64      0.61      0.62      1709\n",
      "     neutral       0.71      0.75      0.73      2436\n",
      "    positive       0.77      0.76      0.77      3474\n",
      "\n",
      "    accuracy                           0.72      7619\n",
      "   macro avg       0.71      0.71      0.71      7619\n",
      "weighted avg       0.72      0.72      0.72      7619\n",
      "\n"
     ]
    },
    {
     "data": {
      "image/png": "[encoded data removed]",
      "text/plain": [
       "<Figure size 600x400 with 2 Axes>"
      ]
     },
     "metadata": {},
     "output_type": "display_data"
    }
   ],
   "source": [
    "print(\"--- 4.b. Régression Logistique ---\")\n",
    "# On peut réutiliser le même vectoriseur TF-IDF si les paramètres sont identiques\n",
    "# ou en créer un spécifique si on veut tester des paramètres différents\n",
    "tfidf_vectorizer_lr = TfidfVectorizer(max_features=5000, stop_words='english', ngram_range=(1,2))\n",
    "X_train_tfidf_lr = tfidf_vectorizer_lr.fit_transform(X_train_text)\n",
    "X_test_tfidf_lr = tfidf_vectorizer_lr.transform(X_test_text)\n",
    "\n",
    "lr_model = LogisticRegression(max_iter=1000, random_state=SEED, solver='liblinear', C=1.0, class_weight='balanced')\n",
    "# GridSearchCV pour Logistic Regression\n",
    "# params_lr = {'C': [0.01, 0.1, 1, 10, 100], 'penalty': ['l1', 'l2']}\n",
    "# grid_lr = GridSearchCV(LogisticRegression(max_iter=1000, random_state=SEED, solver='liblinear', class_weight='balanced'),\n",
    "#                        params_lr, cv=5, scoring='f1_macro', verbose=1, n_jobs=-1)\n",
    "# grid_lr.fit(X_train_tfidf_lr, y_train_str)\n",
    "# lr_model = grid_lr.best_estimator_\n",
    "# print(f\"Meilleurs paramètres pour Régression Logistique: {grid_lr.best_params_}\")\n",
    "lr_model.fit(X_train_tfidf_lr, y_train_str)\n",
    "\n",
    "y_pred_lr = lr_model.predict(X_test_tfidf_lr)\n",
    "evaluate_model(\"Logistic Regression (TF-IDF)\", y_test_str, y_pred_lr)"
   ]
  },
  {
   "cell_type": "markdown",
   "metadata": {},
   "source": [
    "### 4.c. Random Forest avec TF-IDF\n",
    "\n",
    "Random Forest est un modèle d'ensemble basé sur les arbres de décision, capable de capturer des interactions non linéaires."
   ]
  },
  {
   "cell_type": "code",
   "execution_count": 53,
   "metadata": {},
   "outputs": [
    {
     "name": "stdout",
     "output_type": "stream",
     "text": [
      "--- 4.c. Random Forest avec Meilleurs Hyperparamètres (issus de RandomizedSearch) ---\n",
      "Entraînement du Random Forest avec les meilleurs hyperparamètres...\n",
      "Rapport de Classification pour Random Forest (Best Params):\n",
      "              precision    recall  f1-score   support\n",
      "\n",
      "    negative       0.54      0.61      0.57      1709\n",
      "     neutral       0.66      0.69      0.67      2436\n",
      "    positive       0.76      0.68      0.72      3474\n",
      "\n",
      "    accuracy                           0.67      7619\n",
      "   macro avg       0.65      0.66      0.66      7619\n",
      "weighted avg       0.68      0.67      0.67      7619\n",
      "\n"
     ]
    },
    {
     "data": {
      "image/png": "[encoded data removed]",
      "text/plain": [
       "<Figure size 600x400 with 2 Axes>"
      ]
     },
     "metadata": {},
     "output_type": "display_data"
    }
   ],
   "source": [
    "## Cellule Code: Random Forest avec les Meilleurs Hyperparamètres Trouvés\n",
    "\n",
    "print(\"--- 4.c. Random Forest avec Meilleurs Hyperparamètres (issus de RandomizedSearch) ---\")\n",
    "\n",
    "# Vectorisation TF-IDF\n",
    "tfidf_vectorizer_rf_best = TfidfVectorizer(max_features=5000, stop_words='english', ngram_range=(1,1))\n",
    "X_train_tfidf_rf_best = tfidf_vectorizer_rf_best.fit_transform(X_train_text)\n",
    "X_test_tfidf_rf_best = tfidf_vectorizer_rf_best.transform(X_test_text)\n",
    "\n",
    "# Meilleurs hyperparamètres trouvés par RandomizedSearchCV \n",
    "best_rf_params_found = {\n",
    "    'bootstrap': False,\n",
    "    'class_weight': 'balanced',\n",
    "    'max_depth': None,\n",
    "    'min_samples_leaf': 8,\n",
    "    'min_samples_split': 9,\n",
    "    'n_estimators': 162\n",
    "}\n",
    "\n",
    "rf_model_best_params = RandomForestClassifier(\n",
    "    n_estimators=best_rf_params_found['n_estimators'],\n",
    "    max_depth=best_rf_params_found['max_depth'],\n",
    "    min_samples_split=best_rf_params_found['min_samples_split'],\n",
    "    min_samples_leaf=best_rf_params_found['min_samples_leaf'],\n",
    "    bootstrap=best_rf_params_found['bootstrap'],\n",
    "    class_weight=best_rf_params_found['class_weight'],\n",
    "    random_state=SEED, \n",
    "    n_jobs=-1        \n",
    ")\n",
    "\n",
    "print(\"Entraînement du Random Forest avec les meilleurs hyperparamètres...\")\n",
    "rf_model_best_params.fit(X_train_tfidf_rf_best, y_train_str)\n",
    "\n",
    "# Évaluer le modèle sur le jeu de test\n",
    "y_pred_rf_best_params = rf_model_best_params.predict(X_test_tfidf_rf_best)\n",
    "evaluate_model(\"Random Forest (Best Params)\", y_test_str, y_pred_rf_best_params)\n"
   ]
  },
  {
   "cell_type": "markdown",
   "metadata": {},
   "source": [
    "# 5. Word2Vec + Classifieur\n",
    "\n",
    "Word2Vec est une technique pour apprendre des représentations vectorielles (embeddings) de mots. Nous allons entraîner un modèle Word2Vec sur nos données d'entraînement, puis utiliser la moyenne des vecteurs des mots d'un tweet comme feature pour un classifieur."
   ]
  },
  {
   "cell_type": "markdown",
   "metadata": {},
   "source": [
    "### 5.a. Entraînement du Modèle Word2Vec"
   ]
  },
  {
   "cell_type": "code",
   "execution_count": 54,
   "metadata": {},
   "outputs": [
    {
     "name": "stdout",
     "output_type": "stream",
     "text": [
      "--- 5.a. Entraînement de Word2Vec ---\n",
      "Exemple de tweet tokenisé: ['sterling', 'hits', 'a', 'sevenmonth', 'high', 'as', 'election', 'nears', 'economy', 'marketscreener']\n"
     ]
    }
   ],
   "source": [
    "print(\"--- 5.a. Entraînement de Word2Vec ---\")\n",
    "# Tokeniser les textes pour Word2Vec (nltk.word_tokenize est une option simple)\n",
    "tokenized_X_train_w2v = [word_tokenize(text) for text in X_train_text]\n",
    "tokenized_X_test_w2v = [word_tokenize(text) for text in X_test_text]\n",
    "\n",
    "print(f\"Exemple de tweet tokenisé: {tokenized_X_train_w2v[0]}\")"
   ]
  },
  {
   "cell_type": "code",
   "execution_count": 55,
   "metadata": {},
   "outputs": [
    {
     "name": "stdout",
     "output_type": "stream",
     "text": [
      "Modèle Word2Vec entraîné. Taille du vocabulaire: 17466\n"
     ]
    }
   ],
   "source": [
    "W2V_VECTOR_SIZE = 100 # Dimension des embeddings Word2Vec\n",
    "W2V_WINDOW = 5      # Taille de la fenêtre de contexte\n",
    "W2V_MIN_COUNT = 2   # Ignorer les mots avec une fréquence totale inférieure à cela\n",
    "W2V_WORKERS = 4     # Nombre de threads pour l'entraînement\n",
    "\n",
    "w2v_model = Word2Vec(sentences=tokenized_X_train_w2v,\n",
    "                     vector_size=W2V_VECTOR_SIZE,\n",
    "                     window=W2V_WINDOW,\n",
    "                     min_count=W2V_MIN_COUNT,\n",
    "                     workers=W2V_WORKERS,\n",
    "                     sg=0, # CBOW (0) ou Skip-gram (1)\n",
    "                     seed=SEED)\n",
    "\n",
    "print(f\"Modèle Word2Vec entraîné. Taille du vocabulaire: {len(w2v_model.wv.index_to_key)}\")\n",
    "\n",
    "# Sauvegarder le modèle (optionnel)\n",
    "# w2v_model.wv.save_word2vec_format(\"word2vec_financial_tweets.bin\", binary=True)"
   ]
  },
  {
   "cell_type": "code",
   "execution_count": 56,
   "metadata": {},
   "outputs": [
    {
     "name": "stdout",
     "output_type": "stream",
     "text": [
      "\n",
      "Mots similaires à 'stock' (si dans le vocabulaire):\n"
     ]
    },
    {
     "data": {
      "text/plain": [
       "[('cap', 0.8520410060882568),\n",
       " ('characteristics', 0.831063985824585),\n",
       " ('bear', 0.8008905053138733),\n",
       " ('economy', 0.7920241951942444),\n",
       " ('share', 0.7873196601867676)]"
      ]
     },
     "metadata": {},
     "output_type": "display_data"
    },
    {
     "name": "stdout",
     "output_type": "stream",
     "text": [
      "\n",
      "Mots similaires à 'market' (si dans le vocabulaire):\n"
     ]
    },
    {
     "data": {
      "text/plain": [
       "[('splits', 0.8589823246002197),\n",
       " ('backbone', 0.8446412682533264),\n",
       " ('chatrooms', 0.8377217054367065),\n",
       " ('performing', 0.822654664516449),\n",
       " ('split', 0.8132709860801697)]"
      ]
     },
     "metadata": {},
     "output_type": "display_data"
    }
   ],
   "source": [
    "# Explorer le modèle Word2Vec (si le vocabulaire est assez grand)\n",
    "try:\n",
    "    print(\"\\nMots similaires à 'stock' (si dans le vocabulaire):\")\n",
    "    display(w2v_model.wv.most_similar('stock', topn=5))\n",
    "except KeyError:\n",
    "    print(\"'stock' n'est pas dans le vocabulaire du modèle Word2Vec.\")\n",
    "\n",
    "try:\n",
    "    print(\"\\nMots similaires à 'market' (si dans le vocabulaire):\")\n",
    "    display(w2v_model.wv.most_similar('market', topn=5))\n",
    "except KeyError:\n",
    "    print(\"'market' n'est pas dans le vocabulaire du modèle Word2Vec.\")"
   ]
  },
  {
   "cell_type": "markdown",
   "metadata": {},
   "source": [
    "### 5.b. Création des Vecteurs de Document et Classification\n",
    "\n",
    "Nous moyennons les vecteurs Word2Vec des mots de chaque tweet pour obtenir un vecteur de document unique."
   ]
  },
  {
   "cell_type": "code",
   "execution_count": 57,
   "metadata": {},
   "outputs": [],
   "source": [
    "def document_vector(doc_tokens, model, num_features):\n",
    "    # Filtrer les mots hors vocabulaire\n",
    "    feature_vec = np.zeros((num_features,), dtype=\"float32\")\n",
    "    num_words = 0\n",
    "    index2word_set = set(model.wv.index_to_key) # Pour une recherche plus rapide\n",
    "\n",
    "    for word in doc_tokens:\n",
    "        if word in index2word_set:\n",
    "            num_words += 1\n",
    "            feature_vec = np.add(feature_vec, model.wv[word])\n",
    "\n",
    "    if num_words > 0:\n",
    "        feature_vec = np.divide(feature_vec, num_words)\n",
    "    return feature_vec"
   ]
  },
  {
   "cell_type": "code",
   "execution_count": 58,
   "metadata": {},
   "outputs": [
    {
     "name": "stdout",
     "output_type": "stream",
     "text": [
      "Shape de X_train_w2v: (30472, 100)\n",
      "Shape de X_test_w2v: (7619, 100)\n"
     ]
    }
   ],
   "source": [
    "X_train_w2v = np.array([document_vector(doc, w2v_model, W2V_VECTOR_SIZE) for doc in tokenized_X_train_w2v])\n",
    "X_test_w2v = np.array([document_vector(doc, w2v_model, W2V_VECTOR_SIZE) for doc in tokenized_X_test_w2v])\n",
    "\n",
    "print(f\"Shape de X_train_w2v: {X_train_w2v.shape}\")\n",
    "print(f\"Shape de X_test_w2v: {X_test_w2v.shape}\")"
   ]
  },
  {
   "cell_type": "code",
   "execution_count": 59,
   "metadata": {},
   "outputs": [
    {
     "name": "stdout",
     "output_type": "stream",
     "text": [
      "Rapport de Classification pour Logistic Regression (Word2Vec Avg):\n",
      "              precision    recall  f1-score   support\n",
      "\n",
      "    negative       0.40      0.33      0.36      1709\n",
      "     neutral       0.56      0.67      0.61      2436\n",
      "    positive       0.65      0.62      0.64      3474\n",
      "\n",
      "    accuracy                           0.57      7619\n",
      "   macro avg       0.54      0.54      0.54      7619\n",
      "weighted avg       0.57      0.57      0.57      7619\n",
      "\n"
     ]
    },
    {
     "data": {
      "image/png": "[encoded data removed]",
      "text/plain": [
       "<Figure size 600x400 with 2 Axes>"
      ]
     },
     "metadata": {},
     "output_type": "display_data"
    }
   ],
   "source": [
    "# Utiliser Word2Vec avec une Régression Logistique\n",
    "lr_w2v_model = LogisticRegression(max_iter=1000, random_state=SEED, solver='liblinear', C=1.0, class_weight='balanced')\n",
    "lr_w2v_model.fit(X_train_w2v, y_train_str)\n",
    "\n",
    "y_pred_lr_w2v = lr_w2v_model.predict(X_test_w2v)\n",
    "evaluate_model(\"Logistic Regression (Word2Vec Avg)\", y_test_str, y_pred_lr_w2v)"
   ]
  },
  {
   "cell_type": "markdown",
   "metadata": {},
   "source": [
    "# 6. Réseaux de Neurones avec Keras/TensorFlow\n",
    "\n",
    "Nous allons maintenant explorer des modèles plus complexes basés sur les réseaux de neurones."
   ]
  },
  {
   "cell_type": "code",
   "execution_count": 60,
   "metadata": {},
   "outputs": [
    {
     "name": "stdout",
     "output_type": "stream",
     "text": [
      "Shape de y_train_categorical: (30472, 3)\n",
      "Exemple de label one-hot: [0. 0. 1.] (correspond à 'positive')\n"
     ]
    }
   ],
   "source": [
    "# y_train_encoded et y_test_encoded ont été créés lors du split initial.\n",
    "# y_train_int et y_test_int sont les labels originaux 0,1,2.\n",
    "# Pour Keras, nous avons besoin de labels one-hot encodés.\n",
    "\n",
    "num_classes = len(label_encoder_global.classes_)\n",
    "y_train_categorical = to_categorical(y_train_encoded, num_classes=num_classes)\n",
    "y_test_categorical = to_categorical(y_test_encoded, num_classes=num_classes)\n",
    "\n",
    "print(f\"Shape de y_train_categorical: {y_train_categorical.shape}\")\n",
    "print(f\"Exemple de label one-hot: {y_train_categorical[0]} (correspond à '{y_train_str.iloc[0]}')\")"
   ]
  },
  {
   "cell_type": "markdown",
   "metadata": {},
   "source": [
    "### 6.a. Réseau Feedforward (MLP) avec TF-IDF\n",
    "\n",
    "Un Perceptron Multi-Couches (MLP) simple utilisant les features TF-IDF."
   ]
  },
  {
   "cell_type": "code",
   "execution_count": 61,
   "metadata": {},
   "outputs": [
    {
     "name": "stdout",
     "output_type": "stream",
     "text": [
      "--- 6.a. Réseau Feedforward (MLP) avec TF-IDF ---\n",
      "Shape de X_train_tfidf_dense_mlp: (30472, 5000)\n"
     ]
    }
   ],
   "source": [
    "print(\"--- 6.a. Réseau Feedforward (MLP) avec TF-IDF ---\")\n",
    "# Utiliser les mêmes Tfidf que pour LR/NB pour la comparaison, ou en créer un nouveau\n",
    "# Nous réutilisons X_train_tfidf_lr et X_test_tfidf_lr (issus du TfidfVectorizer pour la LR)\n",
    "X_train_tfidf_dense_mlp = X_train_tfidf_lr.toarray() # Keras MLP préfère les matrices denses\n",
    "X_test_tfidf_dense_mlp = X_test_tfidf_lr.toarray()\n",
    "\n",
    "print(f\"Shape de X_train_tfidf_dense_mlp: {X_train_tfidf_dense_mlp.shape}\")"
   ]
  },
  {
   "cell_type": "code",
   "execution_count": 62,
   "metadata": {},
   "outputs": [
    {
     "name": "stderr",
     "output_type": "stream",
     "text": [
      "/home/wassim/repos/nlp/projet/.venv/lib/python3.12/site-packages/keras/src/layers/core/dense.py:87: UserWarning: Do not pass an `input_shape`/`input_dim` argument to a layer. When using Sequential models, prefer using an `Input(shape)` object as the first layer in the model instead.\n",
      "  super().__init__(activity_regularizer=activity_regularizer, **kwargs)\n"
     ]
    },
    {
     "data": {
      "text/html": [
       "<pre style=\"white-space:pre;overflow-x:auto;line-height:normal;font-family:Menlo,'DejaVu Sans Mono',consolas,'Courier New',monospace\"><span style=\"font-weight: bold\">Model: \"sequential_1\"</span>\n",
       "</pre>\n"
      ],
      "text/plain": [
       "\u001b[1mModel: \"sequential_1\"\u001b[0m\n"
      ]
     },
     "metadata": {},
     "output_type": "display_data"
    },
    {
     "data": {
      "text/html": [
       "<pre style=\"white-space:pre;overflow-x:auto;line-height:normal;font-family:Menlo,'DejaVu Sans Mono',consolas,'Courier New',monospace\">┏━━━━━━━━━━━━━━━━━━━━━━━━━━━━━━━━━┳━━━━━━━━━━━━━━━━━━━━━━━━┳━━━━━━━━━━━━━━━┓\n",
       "┃<span style=\"font-weight: bold\"> Layer (type)                    </span>┃<span style=\"font-weight: bold\"> Output Shape           </span>┃<span style=\"font-weight: bold\">       Param # </span>┃\n",
       "┡━━━━━━━━━━━━━━━━━━━━━━━━━━━━━━━━━╇━━━━━━━━━━━━━━━━━━━━━━━━╇━━━━━━━━━━━━━━━┩\n",
       "│ dense_3 (<span style=\"color: #0087ff; text-decoration-color: #0087ff\">Dense</span>)                 │ (<span style=\"color: #00d7ff; text-decoration-color: #00d7ff\">None</span>, <span style=\"color: #00af00; text-decoration-color: #00af00\">128</span>)            │       <span style=\"color: #00af00; text-decoration-color: #00af00\">640,128</span> │\n",
       "├─────────────────────────────────┼────────────────────────┼───────────────┤\n",
       "│ dropout_2 (<span style=\"color: #0087ff; text-decoration-color: #0087ff\">Dropout</span>)             │ (<span style=\"color: #00d7ff; text-decoration-color: #00d7ff\">None</span>, <span style=\"color: #00af00; text-decoration-color: #00af00\">128</span>)            │             <span style=\"color: #00af00; text-decoration-color: #00af00\">0</span> │\n",
       "├─────────────────────────────────┼────────────────────────┼───────────────┤\n",
       "│ dense_4 (<span style=\"color: #0087ff; text-decoration-color: #0087ff\">Dense</span>)                 │ (<span style=\"color: #00d7ff; text-decoration-color: #00d7ff\">None</span>, <span style=\"color: #00af00; text-decoration-color: #00af00\">64</span>)             │         <span style=\"color: #00af00; text-decoration-color: #00af00\">8,256</span> │\n",
       "├─────────────────────────────────┼────────────────────────┼───────────────┤\n",
       "│ dropout_3 (<span style=\"color: #0087ff; text-decoration-color: #0087ff\">Dropout</span>)             │ (<span style=\"color: #00d7ff; text-decoration-color: #00d7ff\">None</span>, <span style=\"color: #00af00; text-decoration-color: #00af00\">64</span>)             │             <span style=\"color: #00af00; text-decoration-color: #00af00\">0</span> │\n",
       "├─────────────────────────────────┼────────────────────────┼───────────────┤\n",
       "│ dense_5 (<span style=\"color: #0087ff; text-decoration-color: #0087ff\">Dense</span>)                 │ (<span style=\"color: #00d7ff; text-decoration-color: #00d7ff\">None</span>, <span style=\"color: #00af00; text-decoration-color: #00af00\">3</span>)              │           <span style=\"color: #00af00; text-decoration-color: #00af00\">195</span> │\n",
       "└─────────────────────────────────┴────────────────────────┴───────────────┘\n",
       "</pre>\n"
      ],
      "text/plain": [
       "┏━━━━━━━━━━━━━━━━━━━━━━━━━━━━━━━━━┳━━━━━━━━━━━━━━━━━━━━━━━━┳━━━━━━━━━━━━━━━┓\n",
       "┃\u001b[1m \u001b[0m\u001b[1mLayer (type)                   \u001b[0m\u001b[1m \u001b[0m┃\u001b[1m \u001b[0m\u001b[1mOutput Shape          \u001b[0m\u001b[1m \u001b[0m┃\u001b[1m \u001b[0m\u001b[1m      Param #\u001b[0m\u001b[1m \u001b[0m┃\n",
       "┡━━━━━━━━━━━━━━━━━━━━━━━━━━━━━━━━━╇━━━━━━━━━━━━━━━━━━━━━━━━╇━━━━━━━━━━━━━━━┩\n",
       "│ dense_3 (\u001b[38;5;33mDense\u001b[0m)                 │ (\u001b[38;5;45mNone\u001b[0m, \u001b[38;5;34m128\u001b[0m)            │       \u001b[38;5;34m640,128\u001b[0m │\n",
       "├─────────────────────────────────┼────────────────────────┼───────────────┤\n",
       "│ dropout_2 (\u001b[38;5;33mDropout\u001b[0m)             │ (\u001b[38;5;45mNone\u001b[0m, \u001b[38;5;34m128\u001b[0m)            │             \u001b[38;5;34m0\u001b[0m │\n",
       "├─────────────────────────────────┼────────────────────────┼───────────────┤\n",
       "│ dense_4 (\u001b[38;5;33mDense\u001b[0m)                 │ (\u001b[38;5;45mNone\u001b[0m, \u001b[38;5;34m64\u001b[0m)             │         \u001b[38;5;34m8,256\u001b[0m │\n",
       "├─────────────────────────────────┼────────────────────────┼───────────────┤\n",
       "│ dropout_3 (\u001b[38;5;33mDropout\u001b[0m)             │ (\u001b[38;5;45mNone\u001b[0m, \u001b[38;5;34m64\u001b[0m)             │             \u001b[38;5;34m0\u001b[0m │\n",
       "├─────────────────────────────────┼────────────────────────┼───────────────┤\n",
       "│ dense_5 (\u001b[38;5;33mDense\u001b[0m)                 │ (\u001b[38;5;45mNone\u001b[0m, \u001b[38;5;34m3\u001b[0m)              │           \u001b[38;5;34m195\u001b[0m │\n",
       "└─────────────────────────────────┴────────────────────────┴───────────────┘\n"
      ]
     },
     "metadata": {},
     "output_type": "display_data"
    },
    {
     "data": {
      "text/html": [
       "<pre style=\"white-space:pre;overflow-x:auto;line-height:normal;font-family:Menlo,'DejaVu Sans Mono',consolas,'Courier New',monospace\"><span style=\"font-weight: bold\"> Total params: </span><span style=\"color: #00af00; text-decoration-color: #00af00\">648,579</span> (2.47 MB)\n",
       "</pre>\n"
      ],
      "text/plain": [
       "\u001b[1m Total params: \u001b[0m\u001b[38;5;34m648,579\u001b[0m (2.47 MB)\n"
      ]
     },
     "metadata": {},
     "output_type": "display_data"
    },
    {
     "data": {
      "text/html": [
       "<pre style=\"white-space:pre;overflow-x:auto;line-height:normal;font-family:Menlo,'DejaVu Sans Mono',consolas,'Courier New',monospace\"><span style=\"font-weight: bold\"> Trainable params: </span><span style=\"color: #00af00; text-decoration-color: #00af00\">648,579</span> (2.47 MB)\n",
       "</pre>\n"
      ],
      "text/plain": [
       "\u001b[1m Trainable params: \u001b[0m\u001b[38;5;34m648,579\u001b[0m (2.47 MB)\n"
      ]
     },
     "metadata": {},
     "output_type": "display_data"
    },
    {
     "data": {
      "text/html": [
       "<pre style=\"white-space:pre;overflow-x:auto;line-height:normal;font-family:Menlo,'DejaVu Sans Mono',consolas,'Courier New',monospace\"><span style=\"font-weight: bold\"> Non-trainable params: </span><span style=\"color: #00af00; text-decoration-color: #00af00\">0</span> (0.00 B)\n",
       "</pre>\n"
      ],
      "text/plain": [
       "\u001b[1m Non-trainable params: \u001b[0m\u001b[38;5;34m0\u001b[0m (0.00 B)\n"
      ]
     },
     "metadata": {},
     "output_type": "display_data"
    },
    {
     "name": "stdout",
     "output_type": "stream",
     "text": [
      "Epoch 1/10\n"
     ]
    },
    {
     "name": "stderr",
     "output_type": "stream",
     "text": [
      "2025-05-09 22:26:41.529396: W external/local_xla/xla/tsl/framework/cpu_allocator_impl.cc:83] Allocation of 548480000 exceeds 10% of free system memory.\n"
     ]
    },
    {
     "name": "stdout",
     "output_type": "stream",
     "text": [
      "\u001b[1m857/857\u001b[0m \u001b[32m━━━━━━━━━━━━━━━━━━━━\u001b[0m\u001b[37m\u001b[0m \u001b[1m4s\u001b[0m 3ms/step - accuracy: 0.5663 - loss: 0.9042 - val_accuracy: 0.7093 - val_loss: 0.6658\n",
      "Epoch 2/10\n",
      "\u001b[1m857/857\u001b[0m \u001b[32m━━━━━━━━━━━━━━━━━━━━\u001b[0m\u001b[37m\u001b[0m \u001b[1m3s\u001b[0m 3ms/step - accuracy: 0.7501 - loss: 0.6115 - val_accuracy: 0.7175 - val_loss: 0.6703\n",
      "Epoch 3/10\n",
      "\u001b[1m857/857\u001b[0m \u001b[32m━━━━━━━━━━━━━━━━━━━━\u001b[0m\u001b[37m\u001b[0m \u001b[1m3s\u001b[0m 3ms/step - accuracy: 0.7967 - loss: 0.5122 - val_accuracy: 0.7188 - val_loss: 0.6996\n",
      "Epoch 4/10\n",
      "\u001b[1m857/857\u001b[0m \u001b[32m━━━━━━━━━━━━━━━━━━━━\u001b[0m\u001b[37m\u001b[0m \u001b[1m3s\u001b[0m 3ms/step - accuracy: 0.8331 - loss: 0.4349 - val_accuracy: 0.7215 - val_loss: 0.7595\n"
     ]
    },
    {
     "name": "stderr",
     "output_type": "stream",
     "text": [
      "2025-05-09 22:26:54.285828: W external/local_xla/xla/tsl/framework/cpu_allocator_impl.cc:83] Allocation of 152380000 exceeds 10% of free system memory.\n"
     ]
    },
    {
     "name": "stdout",
     "output_type": "stream",
     "text": [
      "\u001b[1m239/239\u001b[0m \u001b[32m━━━━━━━━━━━━━━━━━━━━\u001b[0m\u001b[37m\u001b[0m \u001b[1m0s\u001b[0m 653us/step\n",
      "Rapport de Classification pour MLP (TF-IDF):\n",
      "              precision    recall  f1-score   support\n",
      "\n",
      "    negative       0.65      0.56      0.60      1709\n",
      "     neutral       0.72      0.73      0.73      2436\n",
      "    positive       0.74      0.79      0.76      3474\n",
      "\n",
      "    accuracy                           0.72      7619\n",
      "   macro avg       0.70      0.69      0.70      7619\n",
      "weighted avg       0.71      0.72      0.71      7619\n",
      "\n"
     ]
    },
    {
     "data": {
      "image/png": "[encoded data removed]",
      "text/plain": [
       "<Figure size 600x400 with 2 Axes>"
      ]
     },
     "metadata": {},
     "output_type": "display_data"
    }
   ],
   "source": [
    "MLP_EPOCHS = 10 # Augmenter pour de meilleurs résultats, mais attention au surapprentissage\n",
    "MLP_BATCH_SIZE = 32\n",
    "\n",
    "mlp_model = Sequential([\n",
    "    Dense(128, activation='relu', input_shape=(X_train_tfidf_dense_mlp.shape[1],)),\n",
    "    Dropout(0.5),\n",
    "    Dense(64, activation='relu'),\n",
    "    Dropout(0.3),\n",
    "    Dense(num_classes, activation='softmax')\n",
    "])\n",
    "mlp_model.compile(optimizer=tf.keras.optimizers.Adam(learning_rate=0.001),\n",
    "                  loss='categorical_crossentropy',\n",
    "                  metrics=['accuracy'])\n",
    "mlp_model.summary()\n",
    "\n",
    "early_stopping_mlp = EarlyStopping(monitor='val_loss', patience=3, restore_best_weights=True)\n",
    "\n",
    "history_mlp = mlp_model.fit(X_train_tfidf_dense_mlp, y_train_categorical,\n",
    "                            epochs=MLP_EPOCHS,\n",
    "                            batch_size=MLP_BATCH_SIZE,\n",
    "                            validation_split=0.1, # Utilise 10% des données d'entraînement pour la validation\n",
    "                            callbacks=[early_stopping_mlp],\n",
    "                            verbose=1)\n",
    "\n",
    "loss_mlp, acc_mlp = mlp_model.evaluate(X_test_tfidf_dense_mlp, y_test_categorical, verbose=0)\n",
    "y_pred_mlp_probs = mlp_model.predict(X_test_tfidf_dense_mlp)\n",
    "y_pred_mlp_encoded = np.argmax(y_pred_mlp_probs, axis=1)\n",
    "y_pred_mlp_str = label_encoder_global.inverse_transform(y_pred_mlp_encoded)\n",
    "\n",
    "evaluate_model(\"MLP (TF-IDF)\", y_test_str, y_pred_mlp_str)\n",
    "# Remplacer la valeur d'accuracy par celle obtenue sur le test set si EarlyStopping est utilisé\n",
    "results_summary[\"MLP (TF-IDF)\"]['accuracy'] = acc_mlp"
   ]
  },
  {
   "cell_type": "markdown",
   "metadata": {},
   "source": [
    "### 6.b. Réseau Récurrent (LSTM) avec Embeddings\n",
    "\n",
    "Les LSTM (Long Short-Term Memory) sont bien adaptés au traitement de séquences comme le texte. Nous utiliserons une couche d'embedding apprise conjointement avec le modèle."
   ]
  },
  {
   "cell_type": "code",
   "execution_count": 63,
   "metadata": {},
   "outputs": [
    {
     "name": "stdout",
     "output_type": "stream",
     "text": [
      "--- 6.b. Réseau Récurrent (LSTM) ---\n"
     ]
    }
   ],
   "source": [
    "print(\"--- 6.b. Réseau Récurrent (LSTM) ---\")\n",
    "NN_MAX_WORDS = 15000      # Nombre max de mots à garder dans le vocabulaire du Tokenizer Keras\n",
    "NN_MAX_SEQUENCE_LENGTH = 100 # Longueur max des séquences (tweets)\n",
    "NN_EMBEDDING_DIM = 100    # Dimension de la couche d'embedding (peut être la même que W2V_VECTOR_SIZE)\n",
    "LSTM_EPOCHS = 5           # Peut nécessiter plus d'époques, mais attention au temps\n",
    "LSTM_BATCH_SIZE = 64"
   ]
  },
  {
   "cell_type": "code",
   "execution_count": 64,
   "metadata": {},
   "outputs": [
    {
     "name": "stdout",
     "output_type": "stream",
     "text": [
      "Vocabulaire du Tokenizer Keras contient 40361 mots uniques.\n",
      "Shape de X_train_padded: (30472, 100)\n"
     ]
    }
   ],
   "source": [
    "keras_tokenizer = KerasTokenizer(num_words=NN_MAX_WORDS, oov_token=\"<unk>\") # <unk> pour les mots inconnus\n",
    "keras_tokenizer.fit_on_texts(X_train_text)\n",
    "\n",
    "X_train_sequences = keras_tokenizer.texts_to_sequences(X_train_text)\n",
    "X_test_sequences = keras_tokenizer.texts_to_sequences(X_test_text)\n",
    "\n",
    "X_train_padded = pad_sequences(X_train_sequences, maxlen=NN_MAX_SEQUENCE_LENGTH, padding='post', truncating='post')\n",
    "X_test_padded = pad_sequences(X_test_sequences, maxlen=NN_MAX_SEQUENCE_LENGTH, padding='post', truncating='post')\n",
    "\n",
    "word_index_keras = keras_tokenizer.word_index\n",
    "print(f\"Vocabulaire du Tokenizer Keras contient {len(word_index_keras)} mots uniques.\")\n",
    "print(f\"Shape de X_train_padded: {X_train_padded.shape}\")"
   ]
  },
  {
   "cell_type": "code",
   "execution_count": 65,
   "metadata": {},
   "outputs": [
    {
     "name": "stdout",
     "output_type": "stream",
     "text": [
      "14847 vecteurs de mots chargés depuis Word2Vec dans la matrice d'embedding LSTM.\n"
     ]
    }
   ],
   "source": [
    "# Optionnel : Utiliser les embeddings Word2Vec pré-entraînés comme poids initiaux pour la couche Embedding\n",
    "# Cela peut aider si le dataset d'entraînement est petit.\n",
    "\n",
    "embedding_matrix_lstm = np.zeros((min(NN_MAX_WORDS, len(word_index_keras) + 1), NN_EMBEDDING_DIM))\n",
    "num_w2v_loaded = 0\n",
    "for word, i in word_index_keras.items():\n",
    "    if i >= NN_MAX_WORDS:\n",
    "        continue\n",
    "    if word in w2v_model.wv: # Utiliser le w2v_model entraîné précédemment\n",
    "        embedding_vector = w2v_model.wv[word]\n",
    "        embedding_matrix_lstm[i] = embedding_vector\n",
    "        num_w2v_loaded +=1\n",
    "\n",
    "print(f\"{num_w2v_loaded} vecteurs de mots chargés depuis Word2Vec dans la matrice d'embedding LSTM.\")\n",
    "\n",
    "# Si True, les poids de la couche Embedding seront figés (ceux de Word2Vec).\n",
    "# Si False, ils seront fine-tunés pendant l'entraînement du LSTM.\n",
    "USE_PRETRAINED_W2V_FOR_LSTM = True\n",
    "TRAINABLE_EMBEDDING_LSTM = not USE_PRETRAINED_W2V_FOR_LSTM if USE_PRETRAINED_W2V_FOR_LSTM else True"
   ]
  },
  {
   "cell_type": "code",
   "execution_count": 66,
   "metadata": {},
   "outputs": [
    {
     "name": "stdout",
     "output_type": "stream",
     "text": [
      "--- 6.b. Réseau Récurrent (LSTM) - AMÉLIORÉ avec Word2Vec ---\n",
      "Tokenisation des textes pour le LSTM avec Word2Vec...\n",
      "Vocabulaire du Tokenizer Keras (pour W2V LSTM) contient 40361 mots uniques.\n",
      "Shape de X_train_padded (pour W2V LSTM): (30472, 100)\n",
      "Création de la matrice d'embedding à partir de votre modèle Word2Vec...\n",
      "14847 vecteurs de mots chargés depuis VOTRE Word2Vec dans la matrice d'embedding LSTM.\n",
      "Calcul des poids des classes pour la fonction de perte...\n",
      "Poids des classes calculés (pour W2V LSTM): {0: 1.4865115371481536, 1: 1.0423122969043954, 2: 0.73105897029893}\n",
      "Définition de l'architecture du modèle LSTM amélioré...\n",
      "Résumé du modèle LSTM amélioré:\n"
     ]
    },
    {
     "data": {
      "text/html": [
       "<pre style=\"white-space:pre;overflow-x:auto;line-height:normal;font-family:Menlo,'DejaVu Sans Mono',consolas,'Courier New',monospace\"><span style=\"font-weight: bold\">Model: \"sequential_2\"</span>\n",
       "</pre>\n"
      ],
      "text/plain": [
       "\u001b[1mModel: \"sequential_2\"\u001b[0m\n"
      ]
     },
     "metadata": {},
     "output_type": "display_data"
    },
    {
     "data": {
      "text/html": [
       "<pre style=\"white-space:pre;overflow-x:auto;line-height:normal;font-family:Menlo,'DejaVu Sans Mono',consolas,'Courier New',monospace\">┏━━━━━━━━━━━━━━━━━━━━━━━━━━━━━━━━━┳━━━━━━━━━━━━━━━━━━━━━━━━┳━━━━━━━━━━━━━━━┓\n",
       "┃<span style=\"font-weight: bold\"> Layer (type)                    </span>┃<span style=\"font-weight: bold\"> Output Shape           </span>┃<span style=\"font-weight: bold\">       Param # </span>┃\n",
       "┡━━━━━━━━━━━━━━━━━━━━━━━━━━━━━━━━━╇━━━━━━━━━━━━━━━━━━━━━━━━╇━━━━━━━━━━━━━━━┩\n",
       "│ word_embedding (<span style=\"color: #0087ff; text-decoration-color: #0087ff\">Embedding</span>)      │ (<span style=\"color: #00d7ff; text-decoration-color: #00d7ff\">None</span>, <span style=\"color: #00af00; text-decoration-color: #00af00\">100</span>, <span style=\"color: #00af00; text-decoration-color: #00af00\">100</span>)       │     <span style=\"color: #00af00; text-decoration-color: #00af00\">1,500,000</span> │\n",
       "├─────────────────────────────────┼────────────────────────┼───────────────┤\n",
       "│ bidirectional_lstm_1            │ (<span style=\"color: #00d7ff; text-decoration-color: #00d7ff\">None</span>, <span style=\"color: #00af00; text-decoration-color: #00af00\">100</span>, <span style=\"color: #00af00; text-decoration-color: #00af00\">256</span>)       │       <span style=\"color: #00af00; text-decoration-color: #00af00\">234,496</span> │\n",
       "│ (<span style=\"color: #0087ff; text-decoration-color: #0087ff\">Bidirectional</span>)                 │                        │               │\n",
       "├─────────────────────────────────┼────────────────────────┼───────────────┤\n",
       "│ bidirectional_lstm_2            │ (<span style=\"color: #00d7ff; text-decoration-color: #00d7ff\">None</span>, <span style=\"color: #00af00; text-decoration-color: #00af00\">128</span>)            │       <span style=\"color: #00af00; text-decoration-color: #00af00\">164,352</span> │\n",
       "│ (<span style=\"color: #0087ff; text-decoration-color: #0087ff\">Bidirectional</span>)                 │                        │               │\n",
       "├─────────────────────────────────┼────────────────────────┼───────────────┤\n",
       "│ dense_intermediate (<span style=\"color: #0087ff; text-decoration-color: #0087ff\">Dense</span>)      │ (<span style=\"color: #00d7ff; text-decoration-color: #00d7ff\">None</span>, <span style=\"color: #00af00; text-decoration-color: #00af00\">64</span>)             │         <span style=\"color: #00af00; text-decoration-color: #00af00\">8,256</span> │\n",
       "├─────────────────────────────────┼────────────────────────┼───────────────┤\n",
       "│ dropout_final (<span style=\"color: #0087ff; text-decoration-color: #0087ff\">Dropout</span>)         │ (<span style=\"color: #00d7ff; text-decoration-color: #00d7ff\">None</span>, <span style=\"color: #00af00; text-decoration-color: #00af00\">64</span>)             │             <span style=\"color: #00af00; text-decoration-color: #00af00\">0</span> │\n",
       "├─────────────────────────────────┼────────────────────────┼───────────────┤\n",
       "│ output_softmax (<span style=\"color: #0087ff; text-decoration-color: #0087ff\">Dense</span>)          │ (<span style=\"color: #00d7ff; text-decoration-color: #00d7ff\">None</span>, <span style=\"color: #00af00; text-decoration-color: #00af00\">3</span>)              │           <span style=\"color: #00af00; text-decoration-color: #00af00\">195</span> │\n",
       "└─────────────────────────────────┴────────────────────────┴───────────────┘\n",
       "</pre>\n"
      ],
      "text/plain": [
       "┏━━━━━━━━━━━━━━━━━━━━━━━━━━━━━━━━━┳━━━━━━━━━━━━━━━━━━━━━━━━┳━━━━━━━━━━━━━━━┓\n",
       "┃\u001b[1m \u001b[0m\u001b[1mLayer (type)                   \u001b[0m\u001b[1m \u001b[0m┃\u001b[1m \u001b[0m\u001b[1mOutput Shape          \u001b[0m\u001b[1m \u001b[0m┃\u001b[1m \u001b[0m\u001b[1m      Param #\u001b[0m\u001b[1m \u001b[0m┃\n",
       "┡━━━━━━━━━━━━━━━━━━━━━━━━━━━━━━━━━╇━━━━━━━━━━━━━━━━━━━━━━━━╇━━━━━━━━━━━━━━━┩\n",
       "│ word_embedding (\u001b[38;5;33mEmbedding\u001b[0m)      │ (\u001b[38;5;45mNone\u001b[0m, \u001b[38;5;34m100\u001b[0m, \u001b[38;5;34m100\u001b[0m)       │     \u001b[38;5;34m1,500,000\u001b[0m │\n",
       "├─────────────────────────────────┼────────────────────────┼───────────────┤\n",
       "│ bidirectional_lstm_1            │ (\u001b[38;5;45mNone\u001b[0m, \u001b[38;5;34m100\u001b[0m, \u001b[38;5;34m256\u001b[0m)       │       \u001b[38;5;34m234,496\u001b[0m │\n",
       "│ (\u001b[38;5;33mBidirectional\u001b[0m)                 │                        │               │\n",
       "├─────────────────────────────────┼────────────────────────┼───────────────┤\n",
       "│ bidirectional_lstm_2            │ (\u001b[38;5;45mNone\u001b[0m, \u001b[38;5;34m128\u001b[0m)            │       \u001b[38;5;34m164,352\u001b[0m │\n",
       "│ (\u001b[38;5;33mBidirectional\u001b[0m)                 │                        │               │\n",
       "├─────────────────────────────────┼────────────────────────┼───────────────┤\n",
       "│ dense_intermediate (\u001b[38;5;33mDense\u001b[0m)      │ (\u001b[38;5;45mNone\u001b[0m, \u001b[38;5;34m64\u001b[0m)             │         \u001b[38;5;34m8,256\u001b[0m │\n",
       "├─────────────────────────────────┼────────────────────────┼───────────────┤\n",
       "│ dropout_final (\u001b[38;5;33mDropout\u001b[0m)         │ (\u001b[38;5;45mNone\u001b[0m, \u001b[38;5;34m64\u001b[0m)             │             \u001b[38;5;34m0\u001b[0m │\n",
       "├─────────────────────────────────┼────────────────────────┼───────────────┤\n",
       "│ output_softmax (\u001b[38;5;33mDense\u001b[0m)          │ (\u001b[38;5;45mNone\u001b[0m, \u001b[38;5;34m3\u001b[0m)              │           \u001b[38;5;34m195\u001b[0m │\n",
       "└─────────────────────────────────┴────────────────────────┴───────────────┘\n"
      ]
     },
     "metadata": {},
     "output_type": "display_data"
    },
    {
     "data": {
      "text/html": [
       "<pre style=\"white-space:pre;overflow-x:auto;line-height:normal;font-family:Menlo,'DejaVu Sans Mono',consolas,'Courier New',monospace\"><span style=\"font-weight: bold\"> Total params: </span><span style=\"color: #00af00; text-decoration-color: #00af00\">1,907,299</span> (7.28 MB)\n",
       "</pre>\n"
      ],
      "text/plain": [
       "\u001b[1m Total params: \u001b[0m\u001b[38;5;34m1,907,299\u001b[0m (7.28 MB)\n"
      ]
     },
     "metadata": {},
     "output_type": "display_data"
    },
    {
     "data": {
      "text/html": [
       "<pre style=\"white-space:pre;overflow-x:auto;line-height:normal;font-family:Menlo,'DejaVu Sans Mono',consolas,'Courier New',monospace\"><span style=\"font-weight: bold\"> Trainable params: </span><span style=\"color: #00af00; text-decoration-color: #00af00\">1,907,299</span> (7.28 MB)\n",
       "</pre>\n"
      ],
      "text/plain": [
       "\u001b[1m Trainable params: \u001b[0m\u001b[38;5;34m1,907,299\u001b[0m (7.28 MB)\n"
      ]
     },
     "metadata": {},
     "output_type": "display_data"
    },
    {
     "data": {
      "text/html": [
       "<pre style=\"white-space:pre;overflow-x:auto;line-height:normal;font-family:Menlo,'DejaVu Sans Mono',consolas,'Courier New',monospace\"><span style=\"font-weight: bold\"> Non-trainable params: </span><span style=\"color: #00af00; text-decoration-color: #00af00\">0</span> (0.00 B)\n",
       "</pre>\n"
      ],
      "text/plain": [
       "\u001b[1m Non-trainable params: \u001b[0m\u001b[38;5;34m0\u001b[0m (0.00 B)\n"
      ]
     },
     "metadata": {},
     "output_type": "display_data"
    },
    {
     "name": "stdout",
     "output_type": "stream",
     "text": [
      "Début de l'entraînement du modèle LSTM amélioré avec Word2Vec...\n",
      "Epoch 1/15\n",
      "\u001b[1m429/429\u001b[0m \u001b[32m━━━━━━━━━━━━━━━━━━━━\u001b[0m\u001b[37m\u001b[0m \u001b[1m80s\u001b[0m 170ms/step - accuracy: 0.4592 - loss: 1.0941 - val_accuracy: 0.5636 - val_loss: 0.8911 - learning_rate: 0.0010\n",
      "Epoch 2/15\n",
      "\u001b[1m429/429\u001b[0m \u001b[32m━━━━━━━━━━━━━━━━━━━━\u001b[0m\u001b[37m\u001b[0m \u001b[1m76s\u001b[0m 177ms/step - accuracy: 0.6008 - loss: 0.8679 - val_accuracy: 0.6906 - val_loss: 0.7292 - learning_rate: 0.0010\n",
      "Epoch 3/15\n",
      "\u001b[1m429/429\u001b[0m \u001b[32m━━━━━━━━━━━━━━━━━━━━\u001b[0m\u001b[37m\u001b[0m \u001b[1m73s\u001b[0m 170ms/step - accuracy: 0.7441 - loss: 0.6329 - val_accuracy: 0.7028 - val_loss: 0.7731 - learning_rate: 0.0010\n",
      "Epoch 4/15\n",
      "\u001b[1m429/429\u001b[0m \u001b[32m━━━━━━━━━━━━━━━━━━━━\u001b[0m\u001b[37m\u001b[0m \u001b[1m0s\u001b[0m 166ms/step - accuracy: 0.8210 - loss: 0.4637\n",
      "Epoch 4: ReduceLROnPlateau reducing learning rate to 0.00020000000949949026.\n",
      "\u001b[1m429/429\u001b[0m \u001b[32m━━━━━━━━━━━━━━━━━━━━\u001b[0m\u001b[37m\u001b[0m \u001b[1m73s\u001b[0m 170ms/step - accuracy: 0.8210 - loss: 0.4636 - val_accuracy: 0.7182 - val_loss: 0.8257 - learning_rate: 0.0010\n",
      "Epoch 5/15\n",
      "\u001b[1m429/429\u001b[0m \u001b[32m━━━━━━━━━━━━━━━━━━━━\u001b[0m\u001b[37m\u001b[0m \u001b[1m73s\u001b[0m 170ms/step - accuracy: 0.8716 - loss: 0.3584 - val_accuracy: 0.7283 - val_loss: 0.9034 - learning_rate: 2.0000e-04\n",
      "Epoch 6/15\n",
      "\u001b[1m429/429\u001b[0m \u001b[32m━━━━━━━━━━━━━━━━━━━━\u001b[0m\u001b[37m\u001b[0m \u001b[1m0s\u001b[0m 166ms/step - accuracy: 0.8794 - loss: 0.3306\n",
      "Epoch 6: ReduceLROnPlateau reducing learning rate to 4.0000001899898055e-05.\n",
      "\u001b[1m429/429\u001b[0m \u001b[32m━━━━━━━━━━━━━━━━━━━━\u001b[0m\u001b[37m\u001b[0m \u001b[1m73s\u001b[0m 171ms/step - accuracy: 0.8795 - loss: 0.3305 - val_accuracy: 0.7290 - val_loss: 0.9277 - learning_rate: 2.0000e-04\n",
      "Epoch 6: early stopping\n",
      "Restoring model weights from the end of the best epoch: 2.\n",
      "Évaluation du modèle LSTM amélioré sur le jeu de test...\n",
      "Génération des prédictions et du rapport de classification...\n",
      "\u001b[1m239/239\u001b[0m \u001b[32m━━━━━━━━━━━━━━━━━━━━\u001b[0m\u001b[37m\u001b[0m \u001b[1m8s\u001b[0m 30ms/step\n",
      "Rapport de Classification pour Bidirectional LSTM (Improved with fine-tuned Word2Vec):\n",
      "              precision    recall  f1-score   support\n",
      "\n",
      "    negative       0.51      0.78      0.62      1709\n",
      "     neutral       0.76      0.72      0.74      2436\n",
      "    positive       0.82      0.64      0.71      3474\n",
      "\n",
      "    accuracy                           0.70      7619\n",
      "   macro avg       0.70      0.71      0.69      7619\n",
      "weighted avg       0.73      0.70      0.70      7619\n",
      "\n"
     ]
    },
    {
     "data": {
      "image/png": "[encoded data removed]",
      "text/plain": [
       "<Figure size 600x400 with 2 Axes>"
      ]
     },
     "metadata": {},
     "output_type": "display_data"
    },
    {
     "name": "stdout",
     "output_type": "stream",
     "text": [
      "Analyse du LSTM amélioré avec Word2Vec terminée.\n"
     ]
    }
   ],
   "source": [
    "print(\"--- 6.b. Réseau Récurrent (LSTM) - AMÉLIORÉ avec Word2Vec ---\")\n",
    "\n",
    "# --- Paramètres Configurables ---\n",
    "# Ces paramètres sont essentiels pour la performance et la reproductibilité.\n",
    "# NN_MAX_WORDS: Taille maximale du vocabulaire à considérer par le Tokenizer Keras.\n",
    "# NN_MAX_SEQUENCE_LENGTH: Longueur à laquelle toutes les séquences de mots (tweets) seront paddées ou tronquées.\n",
    "# NN_EMBEDDING_DIM: Dimension des vecteurs d'embedding (doit correspondre à la dimension de vos embeddings Word2Vec).\n",
    "# LSTM_EPOCHS_IMPROVED_W2V: Nombre maximal d'époques pour l'entraînement. EarlyStopping peut l'arrêter plus tôt.\n",
    "# LSTM_BATCH_SIZE_IMPROVED_W2V: Nombre d'échantillons par mise à jour des poids du gradient.\n",
    "# LSTM_LEARNING_RATE_W2V: Taux d'apprentissage initial pour l'optimiseur Adam.\n",
    "\n",
    "# Assurez-vous que ces constantes sont définies à partir de vos étapes précédentes.\n",
    "# Exemple de valeurs typiques (adaptez si vos variables ont d'autres noms ou valeurs):\n",
    "# NN_MAX_WORDS = 15000 (valeur utilisée précédemment pour Keras Tokenizer)\n",
    "# NN_MAX_SEQUENCE_LENGTH = 100 (valeur utilisée précédemment pour le padding)\n",
    "# NN_EMBEDDING_DIM = 100 (si W2V_VECTOR_SIZE était 100)\n",
    "\n",
    "LSTM_EPOCHS_IMPROVED_W2V = 15\n",
    "LSTM_BATCH_SIZE_IMPROVED_W2V = 64\n",
    "LSTM_LEARNING_RATE_W2V = 0.001\n",
    "\n",
    "# --- Vérification des variables prérequises ---\n",
    "# Ce code suppose que les variables suivantes sont déjà définies et chargées\n",
    "# à partir des étapes précédentes de votre notebook :\n",
    "# - X_train_text, X_test_text: Textes nettoyés pour l'entraînement et le test.\n",
    "# - y_train_encoded, y_test_encoded: Labels encodés numériquement (ex: 0, 1, 2) pour l'entraînement et le test.\n",
    "# - y_train_categorical, y_test_categorical: Labels one-hot encodés pour l'entraînement et le test.\n",
    "# - label_encoder_global: L'instance de LabelEncoder fittée sur vos labels string.\n",
    "# - num_classes: Le nombre de classes de sentiment uniques.\n",
    "# - w2v_model: Votre modèle Gensim Word2Vec entraîné.\n",
    "# - SEED: La graine aléatoire pour la reproductibilité.\n",
    "\n",
    "# --- Tokenisation Keras (si non déjà faite ou pour s'assurer de la cohérence) ---\n",
    "# Si X_train_padded, X_test_padded, word_index_keras sont déjà définis avec les bons paramètres,\n",
    "# vous pouvez sauter cette re-tokenisation. Sinon, il est crucial de la refaire ici\n",
    "# pour s'assurer que le word_index correspond à embedding_matrix_lstm.\n",
    "\n",
    "print(\"Tokenisation des textes pour le LSTM avec Word2Vec...\")\n",
    "keras_tokenizer_w2v_imp = KerasTokenizer(num_words=NN_MAX_WORDS, oov_token=\"<unk>\") # oov_token gère les mots hors vocabulaire\n",
    "keras_tokenizer_w2v_imp.fit_on_texts(X_train_text)\n",
    "word_index_keras = keras_tokenizer_w2v_imp.word_index # Remplacer l'ancien word_index si vous re-tokenisez\n",
    "\n",
    "X_train_sequences_w2v_imp = keras_tokenizer_w2v_imp.texts_to_sequences(X_train_text)\n",
    "X_test_sequences_w2v_imp = keras_tokenizer_w2v_imp.texts_to_sequences(X_test_text)\n",
    "\n",
    "# Remplacer X_train_padded et X_test_padded par les nouvelles séquences paddées\n",
    "X_train_padded = pad_sequences(X_train_sequences_w2v_imp, maxlen=NN_MAX_SEQUENCE_LENGTH, padding='post', truncating='post')\n",
    "X_test_padded = pad_sequences(X_test_sequences_w2v_imp, maxlen=NN_MAX_SEQUENCE_LENGTH, padding='post', truncating='post')\n",
    "\n",
    "print(f\"Vocabulaire du Tokenizer Keras (pour W2V LSTM) contient {len(word_index_keras)} mots uniques.\")\n",
    "print(f\"Shape de X_train_padded (pour W2V LSTM): {X_train_padded.shape}\")\n",
    "\n",
    "\n",
    "# --- Création de la Matrice d'Embedding Word2Vec ---\n",
    "# Cette matrice sert à initialiser les poids de la couche Embedding du LSTM.\n",
    "# Elle mappe les indices de mots du Tokenizer Keras aux vecteurs de votre modèle Word2Vec.\n",
    "print(\"Création de la matrice d'embedding à partir de votre modèle Word2Vec...\")\n",
    "embedding_matrix_lstm = np.zeros((min(NN_MAX_WORDS, len(word_index_keras) + 1), NN_EMBEDDING_DIM))\n",
    "num_w2v_loaded_in_matrix = 0\n",
    "for word, i in word_index_keras.items():\n",
    "    if i >= NN_MAX_WORDS: # Ne considérer que les mots dans la limite du vocabulaire du Tokenizer\n",
    "        continue\n",
    "    if word in w2v_model.wv: # Vérifier si le mot existe dans le vocabulaire Word2Vec\n",
    "        embedding_vector = w2v_model.wv[word]\n",
    "        embedding_matrix_lstm[i] = embedding_vector # Assigner le vecteur\n",
    "        num_w2v_loaded_in_matrix +=1\n",
    "print(f\"{num_w2v_loaded_in_matrix} vecteurs de mots chargés depuis VOTRE Word2Vec dans la matrice d'embedding LSTM.\")\n",
    "\n",
    "\n",
    "# --- Calcul des Poids des Classes ---\n",
    "# Utile pour les datasets déséquilibrés. Cela donne plus de poids dans la fonction de perte\n",
    "# aux erreurs faites sur les classes minoritaires.\n",
    "print(\"Calcul des poids des classes pour la fonction de perte...\")\n",
    "class_weights_values_w2v = class_weight.compute_class_weight(\n",
    "    class_weight='balanced',\n",
    "    classes=np.unique(y_train_encoded), # Utilise les labels encodés numériquement\n",
    "    y=y_train_encoded\n",
    ")\n",
    "class_weights_dict_w2v = dict(enumerate(class_weights_values_w2v))\n",
    "print(f\"Poids des classes calculés (pour W2V LSTM): {class_weights_dict_w2v}\")\n",
    "\n",
    "\n",
    "# --- Définition du Modèle LSTM Amélioré avec vos Word2Vec ---\n",
    "print(\"Définition de l'architecture du modèle LSTM amélioré...\")\n",
    "lstm_model_improved_w2v = Sequential([\n",
    "    # Couche d'Input explicite (bonne pratique, aide Keras à construire le modèle tôt)\n",
    "    Input(shape=(NN_MAX_SEQUENCE_LENGTH,), name=\"input_sequence\"),\n",
    "\n",
    "    # Couche d'Embedding\n",
    "    # input_dim: Taille du vocabulaire (+1 pour le padding/OOV si l'indice 0 est utilisé).\n",
    "    # output_dim: Dimension des vecteurs d'embedding.\n",
    "    # weights: Initialise les poids avec la matrice Word2Vec pré-calculée.\n",
    "    # trainable=True: TRÈS IMPORTANT! Permet au réseau d'ajuster (fine-tuner) ces embeddings\n",
    "    #                 Word2Vec pendant l'entraînement pour les adapter à la tâche spécifique.\n",
    "    Embedding(input_dim=min(NN_MAX_WORDS, len(word_index_keras) + 1),\n",
    "              output_dim=NN_EMBEDDING_DIM,\n",
    "              weights=[embedding_matrix_lstm],\n",
    "              trainable=True, # Fine-tuning des embeddings Word2Vec\n",
    "              name=\"word_embedding\"\n",
    "              ),\n",
    "\n",
    "    # Couches LSTM Bidirectionnelles\n",
    "    # Bidirectional permet au LSTM de traiter la séquence dans les deux sens (passé et futur).\n",
    "    # units: Dimension de l'espace de sortie (et de l'état interne).\n",
    "    # dropout: Taux de dropout pour les connexions linéaires d'entrée.\n",
    "    # recurrent_dropout: Taux de dropout pour les connexions récurrentes (états).\n",
    "    # return_sequences=True: Nécessaire si la couche LSTM suivante attend une séquence en entrée.\n",
    "    Bidirectional(LSTM(128, dropout=0.4, recurrent_dropout=0.4, return_sequences=True), name=\"bidirectional_lstm_1\"),\n",
    "    Bidirectional(LSTM(64, dropout=0.4, recurrent_dropout=0.4), name=\"bidirectional_lstm_2\"), # La dernière couche LSTM ne retourne pas de séquence\n",
    "\n",
    "    # Couche Dense intermédiaire\n",
    "    # kernel_regularizer: Ajoute une pénalité L2 aux poids pour réduire le surapprentissage.\n",
    "    Dense(64, activation='relu', kernel_regularizer=tf.keras.regularizers.l2(0.001), name=\"dense_intermediate\"),\n",
    "    Dropout(0.5, name=\"dropout_final\"), # Dropout avant la couche de sortie\n",
    "\n",
    "    # Couche de Sortie\n",
    "    # units: Nombre de classes de sortie.\n",
    "    # activation='softmax': Pour la classification multi-classe, produit une distribution de probabilité.\n",
    "    Dense(num_classes, activation='softmax', name=\"output_softmax\")\n",
    "])\n",
    "\n",
    "# --- Compilation du Modèle ---\n",
    "# optimizer: Algorithme pour mettre à jour les poids (Adam est un choix courant).\n",
    "# loss: Fonction à minimiser (categorical_crossentropy pour la classification multi-classe avec labels one-hot).\n",
    "# metrics: Métriques à suivre pendant l'entraînement.\n",
    "optimizer_lstm_w2v = tf.keras.optimizers.Adam(learning_rate=LSTM_LEARNING_RATE_W2V)\n",
    "lstm_model_improved_w2v.compile(optimizer=optimizer_lstm_w2v,\n",
    "                                loss='categorical_crossentropy',\n",
    "                                metrics=['accuracy'])\n",
    "\n",
    "# --- Affichage du Résumé du Modèle ---\n",
    "# Maintenant que la couche Input est définie, le summary devrait être complet.\n",
    "print(\"Résumé du modèle LSTM amélioré:\")\n",
    "lstm_model_improved_w2v.summary()\n",
    "\n",
    "# --- Callbacks pour l'Entraînement ---\n",
    "# EarlyStopping: Arrête l'entraînement si une métrique monitorée (val_loss) ne s'améliore plus\n",
    "#                après un certain nombre d'époques (patience). Restore_best_weights garde les\n",
    "#                meilleurs poids trouvés.\n",
    "# ReduceLROnPlateau: Réduit le taux d'apprentissage si la métrique monitorée stagne.\n",
    "#                    Cela peut aider le modèle à converger vers un meilleur minimum.\n",
    "early_stopping_lstm_imp_w2v = EarlyStopping(monitor='val_loss', patience=4, restore_best_weights=True, verbose=1)\n",
    "reduce_lr_lstm_imp_w2v = ReduceLROnPlateau(monitor='val_loss', factor=0.2, patience=2, min_lr=0.000001, verbose=1) # min_lr ajusté\n",
    "\n",
    "# --- Entraînement du Modèle ---\n",
    "print(\"Début de l'entraînement du modèle LSTM amélioré avec Word2Vec...\")\n",
    "history_lstm_improved_w2v = lstm_model_improved_w2v.fit(\n",
    "    X_train_padded,       # Données d'entraînement paddées\n",
    "    y_train_categorical,  # Labels d'entraînement one-hot encodés\n",
    "    epochs=LSTM_EPOCHS_IMPROVED_W2V,\n",
    "    batch_size=LSTM_BATCH_SIZE_IMPROVED_W2V,\n",
    "    validation_split=0.1, # Utilise 10% des données d'entraînement pour la validation pendant l'entraînement\n",
    "    callbacks=[early_stopping_lstm_imp_w2v, reduce_lr_lstm_imp_w2v],\n",
    "    class_weight=class_weights_dict_w2v, # Appliquer les poids des classes pour gérer le déséquilibre\n",
    "    verbose=1 # Afficher la progression de l'entraînement\n",
    ")\n",
    "\n",
    "# --- Évaluation du Modèle sur le Jeu de Test ---\n",
    "print(\"Évaluation du modèle LSTM amélioré sur le jeu de test...\")\n",
    "loss_lstm_imp_w2v, acc_lstm_imp_w2v = lstm_model_improved_w2v.evaluate(\n",
    "    X_test_padded,        # Données de test paddées\n",
    "    y_test_categorical,   # Labels de test one-hot encodés\n",
    "    verbose=0 # Pas besoin d'afficher la progression ici\n",
    ")\n",
    "\n",
    "# --- Prédictions et Rapport de Classification ---\n",
    "print(\"Génération des prédictions et du rapport de classification...\")\n",
    "y_pred_lstm_probs_imp_w2v = lstm_model_improved_w2v.predict(X_test_padded)\n",
    "y_pred_lstm_encoded_imp_w2v = np.argmax(y_pred_lstm_probs_imp_w2v, axis=1) # Convertir probabilités en classes prédites (encodées)\n",
    "y_pred_lstm_str_imp_w2v = label_encoder_global.inverse_transform(y_pred_lstm_encoded_imp_w2v) # Reconvertir en labels string\n",
    "\n",
    "# Utiliser votre fonction evaluate_model pour afficher le rapport et la matrice de confusion\n",
    "evaluate_model(\"Bidirectional LSTM (Improved with fine-tuned Word2Vec)\", y_test_str, y_pred_lstm_str_imp_w2v)\n",
    "\n",
    "# Mise à jour du dictionnaire des résultats\n",
    "results_summary[\"Bidirectional LSTM (Improved with fine-tuned Word2Vec)\"] = {\n",
    "    'accuracy': acc_lstm_imp_w2v,\n",
    "    'precision_macro': classification_report(y_test_str, y_pred_lstm_str_imp_w2v, output_dict=True, zero_division=0)['macro avg']['precision'],\n",
    "    'recall_macro': classification_report(y_test_str, y_pred_lstm_str_imp_w2v, output_dict=True, zero_division=0)['macro avg']['recall'],\n",
    "    'f1_macro': classification_report(y_test_str, y_pred_lstm_str_imp_w2v, output_dict=True, zero_division=0)['macro avg']['f1-score']\n",
    "}\n",
    "\n",
    "print(\"Analyse du LSTM amélioré avec Word2Vec terminée.\")"
   ]
  },
  {
   "cell_type": "markdown",
   "metadata": {},
   "source": [
    "# 7. Transformers avec Hugging Face\n",
    "\n",
    "Les modèles Transformers sont l'état de l'art pour de nombreuses tâches NLP. Nous allons fine-tuner un modèle pré-entraîné (comme DistilBERT ou FinBERT) sur notre dataset.\n",
    "Attention : Cette partie est gourmande en ressources et peut être longue à exécuter, surtout sans GPU. Un GPU est fortement recommandé."
   ]
  },
  {
   "cell_type": "code",
   "execution_count": 67,
   "metadata": {},
   "outputs": [
    {
     "name": "stdout",
     "output_type": "stream",
     "text": [
      "Utilisation du device: cpu pour Transformers\n"
     ]
    }
   ],
   "source": [
    "device = torch.device(\"cuda\" if torch.cuda.is_available() else \"cpu\")\n",
    "print(f\"Utilisation du device: {device} pour Transformers\")\n",
    "if device.type == 'cuda':\n",
    "    print(torch.cuda.get_device_name(0))"
   ]
  },
  {
   "cell_type": "code",
   "execution_count": 68,
   "metadata": {},
   "outputs": [
    {
     "name": "stdout",
     "output_type": "stream",
     "text": [
      "--- 7. Transformers (Fine-tuning) ---\n",
      "Dataset d'entraînement Hugging Face: Dataset({\n",
      "    features: ['text', 'label', '__index_level_0__'],\n",
      "    num_rows: 30472\n",
      "})\n",
      "Dataset de test Hugging Face: Dataset({\n",
      "    features: ['text', 'label', '__index_level_0__'],\n",
      "    num_rows: 7619\n",
      "})\n"
     ]
    }
   ],
   "source": [
    "print(\"--- 7. Transformers (Fine-tuning) ---\")\n",
    "\n",
    "# Utiliser les labels entiers (0,1,2...) pour les Transformers.\n",
    "# y_train_int et y_test_int contiennent déjà ces labels.\n",
    "# La bibliothèque `datasets` attend une colonne nommée 'label'.\n",
    "train_df_hf = pd.DataFrame({'text': X_train_text.copy(), 'label': y_train_int.copy()})\n",
    "test_df_hf = pd.DataFrame({'text': X_test_text.copy(), 'label': y_test_int.copy()})\n",
    "\n",
    "# Optionnel : Sous-échantillonner pour des tests rapides sur CPU\n",
    "# SAMPLE_SIZE_HF_TRAIN = 1000 # ou plus si vous avez de la patience/GPU\n",
    "# SAMPLE_SIZE_HF_TEST = 200\n",
    "# if len(train_df_hf) > SAMPLE_SIZE_HF_TRAIN:\n",
    "#     train_df_hf = train_df_hf.sample(n=SAMPLE_SIZE_HF_TRAIN, random_state=SEED)\n",
    "# if len(test_df_hf) > SAMPLE_SIZE_HF_TEST:\n",
    "#     test_df_hf = test_df_hf.sample(n=SAMPLE_SIZE_HF_TEST, random_state=SEED)\n",
    "\n",
    "train_dataset_hf = Dataset.from_pandas(train_df_hf)\n",
    "test_dataset_hf = Dataset.from_pandas(test_df_hf)\n",
    "\n",
    "print(f\"Dataset d'entraînement Hugging Face: {train_dataset_hf}\")\n",
    "print(f\"Dataset de test Hugging Face: {test_dataset_hf}\")"
   ]
  },
  {
   "cell_type": "code",
   "execution_count": 69,
   "metadata": {},
   "outputs": [
    {
     "name": "stderr",
     "output_type": "stream",
     "text": [
      "Some weights of DistilBertForSequenceClassification were not initialized from the model checkpoint at distilbert-base-uncased and are newly initialized: ['classifier.bias', 'classifier.weight', 'pre_classifier.bias', 'pre_classifier.weight']\n",
      "You should probably TRAIN this model on a down-stream task to be able to use it for predictions and inference.\n"
     ]
    }
   ],
   "source": [
    "# Modèles possibles:\n",
    "# - 'distilbert-base-uncased': Léger, rapide, bon pour l'anglais général.\n",
    "# - 'ProsusAI/finbert': Spécialisé pour les textes financiers en anglais. (Peut être plus lourd)\n",
    "# - 'nlptown/bert-base-multilingual-uncased-sentiment': Si les tweets sont multilingues et pour du sentiment, mais moins spécifique que FinBERT.\n",
    "MODEL_NAME_HF = 'distilbert-base-uncased'\n",
    "# MODEL_NAME_HF = 'ProsusAI/finbert' # Décommentez pour essayer FinBERT\n",
    "\n",
    "try:\n",
    "    tokenizer_hf = AutoTokenizer.from_pretrained(MODEL_NAME_HF)\n",
    "    # Pour num_labels, s'assurer que c'est bien le nombre de classes uniques dans y_train_int\n",
    "    model_hf = AutoModelForSequenceClassification.from_pretrained(MODEL_NAME_HF, num_labels=len(np.unique(y_train_int)))\n",
    "    model_hf.to(device) # Déplacer le modèle sur le GPU si disponible\n",
    "except Exception as e:\n",
    "    print(f\"Erreur lors du chargement du modèle/tokenizer Transformer {MODEL_NAME_HF}: {e}\")\n",
    "    print(\"Vérifiez le nom du modèle et votre connexion internet.\")\n",
    "    model_hf = None # Pour éviter les erreurs plus loin"
   ]
  },
  {
   "cell_type": "code",
   "execution_count": 70,
   "metadata": {},
   "outputs": [
    {
     "data": {
      "application/vnd.jupyter.widget-view+json": {
       "model_id": "a53e1f5498af49be88ae9372a720fece",
       "version_major": 2,
       "version_minor": 0
      },
      "text/plain": [
       "Map:   0%|          | 0/30472 [00:00<?, ? examples/s]"
      ]
     },
     "metadata": {},
     "output_type": "display_data"
    },
    {
     "data": {
      "application/vnd.jupyter.widget-view+json": {
       "model_id": "91f00c81851c4f74bcc67e41274d84b1",
       "version_major": 2,
       "version_minor": 0
      },
      "text/plain": [
       "Map:   0%|          | 0/7619 [00:00<?, ? examples/s]"
      ]
     },
     "metadata": {},
     "output_type": "display_data"
    },
    {
     "name": "stdout",
     "output_type": "stream",
     "text": [
      "\n",
      "Datasets tokenisés prêts.\n"
     ]
    }
   ],
   "source": [
    "def tokenize_function_hf(examples):\n",
    "    # Truncation et padding seront gérés par le DataCollator par défaut\n",
    "    # Mais on peut spécifier max_length pour le tokenizer aussi\n",
    "    return tokenizer_hf(examples[\"text\"], truncation=True, padding=False, max_length=128) # max_length est un hyperparamètre\n",
    "\n",
    "if model_hf: # Continuer seulement si le modèle a été chargé\n",
    "    train_tokenized_dataset_hf = train_dataset_hf.map(tokenize_function_hf, batched=True)\n",
    "    test_tokenized_dataset_hf = test_dataset_hf.map(tokenize_function_hf, batched=True)\n",
    "\n",
    "    # Supprimer la colonne 'text' car le modèle n'en a plus besoin après tokenisation\n",
    "    # et __index_level_0__ si elle a été ajoutée par from_pandas\n",
    "    train_tokenized_dataset_hf = train_tokenized_dataset_hf.remove_columns(\n",
    "        [col for col in train_tokenized_dataset_hf.column_names if col not in ['input_ids', 'attention_mask', 'label']]\n",
    "    )\n",
    "    test_tokenized_dataset_hf = test_tokenized_dataset_hf.remove_columns(\n",
    "        [col for col in test_tokenized_dataset_hf.column_names if col not in ['input_ids', 'attention_mask', 'label']]\n",
    "    )\n",
    "    print(\"\\nDatasets tokenisés prêts.\")\n",
    "else:\n",
    "    print(\"Le modèle Transformer n'a pas été chargé, la suite de cette section est sautée.\")"
   ]
  },
  {
   "cell_type": "code",
   "execution_count": 71,
   "metadata": {},
   "outputs": [],
   "source": [
    "# Charger les métriques avec la nouvelle API evaluate\n",
    "accuracy_metric_hf = evaluate.load(\"accuracy\")\n",
    "f1_metric_hf = evaluate.load(\"f1\")\n",
    "\n",
    "def compute_metrics_hf(eval_pred):\n",
    "    logits, labels = eval_pred\n",
    "    predictions = np.argmax(logits, axis=-1)\n",
    "    \n",
    "    acc_results = accuracy_metric_hf.compute(predictions=predictions, references=labels)\n",
    "    f1_results = f1_metric_hf.compute(predictions=predictions, references=labels, average=\"macro\") # 'macro' est souvent un bon choix pour la classification multi-classe\n",
    "    \n",
    "    return {\n",
    "        \"accuracy\": acc_results[\"accuracy\"],\n",
    "        \"f1_macro\": f1_results[\"f1\"]\n",
    "    }"
   ]
  },
  {
   "cell_type": "code",
   "execution_count": 72,
   "metadata": {},
   "outputs": [],
   "source": [
    "HF_EPOCHS = 1 # Commencer avec 1-2 époques pour un test rapide, augmenter à 3-5 pour de meilleurs résultats.\n",
    "HF_BATCH_SIZE_TRAIN = 16 # Ajuster selon la mémoire GPU (8, 16, 32)\n",
    "HF_BATCH_SIZE_EVAL = HF_BATCH_SIZE_TRAIN * 2 # Peut être plus grand pour l'évaluation\n",
    "\n",
    "if model_hf:\n",
    "    training_args = TrainingArguments(\n",
    "        output_dir=f\"./results_hf_{MODEL_NAME_HF.split('/')[-1]}\",\n",
    "        num_train_epochs=HF_EPOCHS,\n",
    "        per_device_train_batch_size=HF_BATCH_SIZE_TRAIN,\n",
    "        per_device_eval_batch_size=HF_BATCH_SIZE_EVAL,\n",
    "        warmup_ratio=0.1, # warmup_steps = int(len(train_tokenized_dataset_hf) * HF_EPOCHS * 0.1 / HF_BATCH_SIZE_TRAIN)\n",
    "        weight_decay=0.01,\n",
    "        logging_dir=f'./logs_hf_{MODEL_NAME_HF.split('/')[-1]}',\n",
    "        logging_strategy=\"steps\",\n",
    "        logging_steps=max(1, int(len(train_tokenized_dataset_hf) / (HF_BATCH_SIZE_TRAIN * 4) )), # Log ~4 fois par époque\n",
    "        eval_strategy=\"epoch\",\n",
    "        save_strategy=\"epoch\", # Sauvegarde le meilleur modèle à la fin de chaque époque\n",
    "        load_best_model_at_end=True, # Charge le meilleur modèle à la fin de l'entraînement\n",
    "        metric_for_best_model=\"f1_macro\", # Choisir la métrique pour sélectionner le \"meilleur\" modèle\n",
    "        greater_is_better=True,\n",
    "        report_to=\"none\", # \"tensorboard\", \"wandb\" si configuré, \"none\" pour désactiver\n",
    "        # fp16=torch.cuda.is_available(), # Active le mixed-precision training si GPU et CUDA (peut accélérer et réduire la mémoire)\n",
    "        seed=SEED,\n",
    "        disable_tqdm=False # Mettre à True si les barres de progression sont gênantes\n",
    "    )"
   ]
  },
  {
   "cell_type": "code",
   "execution_count": 73,
   "metadata": {},
   "outputs": [],
   "source": [
    "if model_hf:\n",
    "    trainer = Trainer(\n",
    "        model=model_hf,\n",
    "        args=training_args,\n",
    "        train_dataset=train_tokenized_dataset_hf,\n",
    "        eval_dataset=test_tokenized_dataset_hf, # Idéalement, un vrai jeu de validation séparé ici\n",
    "        compute_metrics=compute_metrics_hf,\n",
    "        processing_class=tokenizer_hf # Le DataCollator utilisera le padding du tokenizer\n",
    "    )"
   ]
  },
  {
   "cell_type": "code",
   "execution_count": 74,
   "metadata": {},
   "outputs": [
    {
     "name": "stdout",
     "output_type": "stream",
     "text": [
      "Entraînement du Transformer distilbert-base-uncased (peut être long)...\n"
     ]
    },
    {
     "name": "stderr",
     "output_type": "stream",
     "text": [
      "/home/wassim/repos/nlp/projet/.venv/lib/python3.12/site-packages/torch/utils/data/dataloader.py:665: UserWarning: 'pin_memory' argument is set as true but no accelerator is found, then device pinned memory won't be used.\n",
      "  warnings.warn(warn_msg)\n"
     ]
    },
    {
     "data": {
      "text/html": [
       "\n",
       "    <div>\n",
       "      \n",
       "      <progress value='1905' max='1905' style='width:300px; height:20px; vertical-align: middle;'></progress>\n",
       "      [1905/1905 33:01, Epoch 1/1]\n",
       "    </div>\n",
       "    <table border=\"1\" class=\"dataframe\">\n",
       "  <thead>\n",
       " <tr style=\"text-align: left;\">\n",
       "      <th>Epoch</th>\n",
       "      <th>Training Loss</th>\n",
       "      <th>Validation Loss</th>\n",
       "      <th>Accuracy</th>\n",
       "      <th>F1 Macro</th>\n",
       "    </tr>\n",
       "  </thead>\n",
       "  <tbody>\n",
       "    <tr>\n",
       "      <td>1</td>\n",
       "      <td>0.510000</td>\n",
       "      <td>0.482127</td>\n",
       "      <td>0.804043</td>\n",
       "      <td>0.792608</td>\n",
       "    </tr>\n",
       "  </tbody>\n",
       "</table><p>"
      ],
      "text/plain": [
       "<IPython.core.display.HTML object>"
      ]
     },
     "metadata": {},
     "output_type": "display_data"
    },
    {
     "name": "stdout",
     "output_type": "stream",
     "text": [
      "\n",
      "Entraînement terminé.\n"
     ]
    }
   ],
   "source": [
    "if model_hf:\n",
    "    print(f\"Entraînement du Transformer {MODEL_NAME_HF} (peut être long)...\")\n",
    "    try:\n",
    "        train_result = trainer.train()\n",
    "        print(\"\\nEntraînement terminé.\")\n",
    "        # Sauvegarder le meilleur modèle et le tokenizer\n",
    "        trainer.save_model(f\"./best_model_{MODEL_NAME_HF.split('/')[-1]}\")\n",
    "        tokenizer_hf.save_pretrained(f\"./best_model_{MODEL_NAME_HF.split('/')[-1]}\")\n",
    "    except Exception as e:\n",
    "        print(f\"Erreur pendant l'entraînement du Transformer: {e}\")\n",
    "        train_result = None # Indiquer que l'entraînement a échoué\n",
    "else:\n",
    "    print(\"Entraînement du Transformer sauté car le modèle n'a pas été chargé.\")\n",
    "    train_result = None"
   ]
  },
  {
   "cell_type": "code",
   "execution_count": 75,
   "metadata": {},
   "outputs": [
    {
     "name": "stdout",
     "output_type": "stream",
     "text": [
      "\n",
      "Évaluation du Transformer distilbert-base-uncased sur le jeu de test...\n"
     ]
    },
    {
     "name": "stderr",
     "output_type": "stream",
     "text": [
      "/home/wassim/repos/nlp/projet/.venv/lib/python3.12/site-packages/torch/utils/data/dataloader.py:665: UserWarning: 'pin_memory' argument is set as true but no accelerator is found, then device pinned memory won't be used.\n",
      "  warnings.warn(warn_msg)\n"
     ]
    },
    {
     "data": {
      "text/html": [],
      "text/plain": [
       "<IPython.core.display.HTML object>"
      ]
     },
     "metadata": {},
     "output_type": "display_data"
    },
    {
     "name": "stdout",
     "output_type": "stream",
     "text": [
      "Résultats de l'évaluation: {'eval_loss': 0.48212730884552, 'eval_accuracy': 0.8040425252657829, 'eval_f1_macro': 0.7926083430690986, 'eval_runtime': 115.2077, 'eval_samples_per_second': 66.133, 'eval_steps_per_second': 2.075, 'epoch': 1.0}\n",
      "\n",
      "Prédictions sur le jeu de test...\n"
     ]
    },
    {
     "name": "stderr",
     "output_type": "stream",
     "text": [
      "/home/wassim/repos/nlp/projet/.venv/lib/python3.12/site-packages/torch/utils/data/dataloader.py:665: UserWarning: 'pin_memory' argument is set as true but no accelerator is found, then device pinned memory won't be used.\n",
      "  warnings.warn(warn_msg)\n"
     ]
    },
    {
     "name": "stdout",
     "output_type": "stream",
     "text": [
      "Rapport de Classification pour Transformer (distilbert-base-uncased):\n",
      "              precision    recall  f1-score   support\n",
      "\n",
      "    negative       0.07      0.10      0.09      1709\n",
      "     neutral       0.09      0.13      0.10      2436\n",
      "    positive       0.15      0.07      0.09      3474\n",
      "\n",
      "    accuracy                           0.10      7619\n",
      "   macro avg       0.10      0.10      0.09      7619\n",
      "weighted avg       0.11      0.10      0.10      7619\n",
      "\n"
     ]
    },
    {
     "data": {
      "image/png": "[encoded data removed]",
      "text/plain": [
       "<Figure size 600x400 with 2 Axes>"
      ]
     },
     "metadata": {},
     "output_type": "display_data"
    }
   ],
   "source": [
    "acc_transformer = 0.0 # Valeur par défaut\n",
    "if model_hf and train_result: # S'assurer que l'entraînement a eu lieu\n",
    "    print(f\"\\nÉvaluation du Transformer {MODEL_NAME_HF} sur le jeu de test...\")\n",
    "    eval_results = trainer.evaluate(test_tokenized_dataset_hf)\n",
    "    print(f\"Résultats de l'évaluation: {eval_results}\")\n",
    "    acc_transformer = eval_results.get('eval_accuracy', 0.0) # Utiliser .get pour éviter KeyError\n",
    "    f1_transformer = eval_results.get('eval_f1_macro', 0.0)\n",
    "\n",
    "    print(\"\\nPrédictions sur le jeu de test...\")\n",
    "    predictions_hf_output = trainer.predict(test_tokenized_dataset_hf)\n",
    "    y_pred_hf_logits = predictions_hf_output.predictions\n",
    "    y_pred_hf_int = np.argmax(y_pred_hf_logits, axis=1)\n",
    "    # Reconvertir les prédictions (int) en labels string pour classification_report\n",
    "    # S'assurer que label_encoder_global a été fitté sur les labels string 'negative', 'neutral', 'positive'\n",
    "    # Et que y_pred_hf_int correspond bien aux indices de ces classes\n",
    "    # Vérifier l'ordre des classes dans label_encoder_global.classes_ et l'ordre de sortie du modèle\n",
    "    # Normalement, si y_train_int (0,1,2) a été utilisé pour l'entraînement, et que model_hf.config.id2label\n",
    "    # est correctement mappé (ou par défaut 0->LABEL_0, 1->LABEL_1, etc.), cela devrait fonctionner.\n",
    "    # Il faut s'assurer que l'entier 0 prédit par le transformer correspond bien à la classe\n",
    "    # que label_encoder_global.inverse_transform([0]) donnerait.\n",
    "    # Si le mapping des labels dans le transformer est {0: \"neutral\", 1: \"positive\", 2: \"negative\"}\n",
    "    # et label_encoder_global.classes_ est ['negative', 'neutral', 'positive']\n",
    "    # alors il faut remapper y_pred_hf_int.\n",
    "\n",
    "    # Hypothèse : le modèle Transformer sort les classes dans l'ordre 0, 1, 2\n",
    "    # et label_encoder_global.classes_ est ['negative', 'neutral', 'positive']\n",
    "    # et map_labels_str = {0: \"neutral\", 1: 'positive',  2: 'negative'}\n",
    "    # Il faut donc un mapping.\n",
    "\n",
    "    # Solution plus simple : utiliser le mapping du config du modèle si disponible\n",
    "    id2label_hf = model_hf.config.id2label if hasattr(model_hf.config, 'id2label') else \\\n",
    "                  {i: f\"LABEL_{i}\" for i in range(model_hf.config.num_labels)}\n",
    "    \n",
    "    # Si id2label_hf est {0: \"neutral\", 1: \"positive\", 2: \"negative\"}\n",
    "    # et que vos y_test_str sont dans cet ordre, c'est bon.\n",
    "    # Sinon, il faut aligner.\n",
    "    # Pour l'instant, supposons que y_pred_hf_int sont les indices pour label_encoder_global\n",
    "    try:\n",
    "        y_pred_hf_str = label_encoder_global.inverse_transform(y_pred_hf_int)\n",
    "        evaluate_model(f\"Transformer ({MODEL_NAME_HF.split('/')[-1]})\", y_test_str, y_pred_hf_str)\n",
    "        # Mettre à jour results_summary avec les métriques de compute_metrics_hf\n",
    "        results_summary[f\"Transformer ({MODEL_NAME_HF.split('/')[-1]})\"]['accuracy'] = acc_transformer\n",
    "        results_summary[f\"Transformer ({MODEL_NAME_HF.split('/')[-1]})\"]['f1_macro'] = f1_transformer\n",
    "\n",
    "    except Exception as e:\n",
    "        print(f\"Erreur lors de la reconversion des labels Transformer ou de l'évaluation: {e}\")\n",
    "        # Fallback si la reconversion échoue\n",
    "        results_summary[f\"Transformer ({MODEL_NAME_HF.split('/')[-1]})\"] = {\n",
    "            'accuracy': acc_transformer, 'precision_macro': 0, 'recall_macro': 0, 'f1_macro': 0\n",
    "        }\n",
    "\n",
    "elif model_hf and not train_result:\n",
    "    print(\"L'entraînement du Transformer a échoué ou a été sauté, pas d'évaluation.\")\n",
    "    results_summary[f\"Transformer ({MODEL_NAME_HF.split('/')[-1]})\"] = {\n",
    "        'accuracy': 0, 'precision_macro': 0, 'recall_macro': 0, 'f1_macro': \"Erreur/Non exécuté\"\n",
    "    }\n",
    "else:\n",
    "    print(\"Transformer non évalué car le modèle n'a pas été chargé.\")\n",
    "    results_summary[f\"Transformer (Non exécuté)\"] = {\n",
    "        'accuracy': 0, 'precision_macro': 0, 'recall_macro': 0, 'f1_macro': \"Non exécuté\"\n",
    "    }"
   ]
  },
  {
   "cell_type": "markdown",
   "metadata": {},
   "source": [
    "# 8. Génération de Tweet"
   ]
  },
  {
   "cell_type": "code",
   "execution_count": 4,
   "metadata": {},
   "outputs": [],
   "source": [
    "import pandas as pd\n",
    "\n",
    "# On nettoie le dataset pour avoir des tweets ayant plus de 20 charactères\n",
    "df = df.dropna()\n",
    "df = df[df['text'].str.len() > 20]\n",
    "\n",
    "# Format with prefix tags\n",
    "df['formatted'] = df['label'].apply(lambda s: f\"<{s.lower()}>\") + \" \" + df['text']\n",
    "\n",
    "# On prends un sample de 100 tweet aléatoires (trop long a s'entrainer sinon\"\n",
    "df = df.sample(n=100, random_state=42).copy()\n",
    "\n",
    "# Save as plain text, one sample per line\n",
    "with open(\"formatted_tweets.txt\", \"w\", encoding=\"utf-8\") as f:\n",
    "    for line in df['formatted']:\n",
    "        f.write(line.strip() + \"\\n\")\n"
   ]
  },
  {
   "cell_type": "code",
   "execution_count": 5,
   "metadata": {},
   "outputs": [
    {
     "name": "stderr",
     "output_type": "stream",
     "text": [
      "2025-05-10 07:12:57.582598: E external/local_xla/xla/stream_executor/cuda/cuda_fft.cc:467] Unable to register cuFFT factory: Attempting to register factory for plugin cuFFT when one has already been registered\n",
      "WARNING: All log messages before absl::InitializeLog() is called are written to STDERR\n",
      "E0000 00:00:1746861177.599923    2164 cuda_dnn.cc:8579] Unable to register cuDNN factory: Attempting to register factory for plugin cuDNN when one has already been registered\n",
      "E0000 00:00:1746861177.604868    2164 cuda_blas.cc:1407] Unable to register cuBLAS factory: Attempting to register factory for plugin cuBLAS when one has already been registered\n",
      "W0000 00:00:1746861177.617162    2164 computation_placer.cc:177] computation placer already registered. Please check linkage and avoid linking the same target more than once.\n",
      "W0000 00:00:1746861177.617183    2164 computation_placer.cc:177] computation placer already registered. Please check linkage and avoid linking the same target more than once.\n",
      "W0000 00:00:1746861177.617184    2164 computation_placer.cc:177] computation placer already registered. Please check linkage and avoid linking the same target more than once.\n",
      "W0000 00:00:1746861177.617185    2164 computation_placer.cc:177] computation placer already registered. Please check linkage and avoid linking the same target more than once.\n",
      "2025-05-10 07:12:57.621395: I tensorflow/core/platform/cpu_feature_guard.cc:210] This TensorFlow binary is optimized to use available CPU instructions in performance-critical operations.\n",
      "To enable the following instructions: AVX2 FMA, in other operations, rebuild TensorFlow with the appropriate compiler flags.\n"
     ]
    },
    {
     "data": {
      "application/vnd.jupyter.widget-view+json": {
       "model_id": "170af916c40b4d98898240a8dc4dffe1",
       "version_major": 2,
       "version_minor": 0
      },
      "text/plain": [
       "Generating train split: 0 examples [00:00, ? examples/s]"
      ]
     },
     "metadata": {},
     "output_type": "display_data"
    },
    {
     "data": {
      "application/vnd.jupyter.widget-view+json": {
       "model_id": "d580d0e9f95f480db6a11ed54fcd26c4",
       "version_major": 2,
       "version_minor": 0
      },
      "text/plain": [
       "Map:   0%|          | 0/136 [00:00<?, ? examples/s]"
      ]
     },
     "metadata": {},
     "output_type": "display_data"
    },
    {
     "name": "stderr",
     "output_type": "stream",
     "text": [
      "/tmp/ipykernel_2164/2770332370.py:36: FutureWarning: `tokenizer` is deprecated and will be removed in version 5.0.0 for `Trainer.__init__`. Use `processing_class` instead.\n",
      "  trainer = Trainer(\n",
      "/opt/conda/lib/python3.11/site-packages/torch/utils/data/dataloader.py:665: UserWarning: 'pin_memory' argument is set as true but no accelerator is found, then device pinned memory won't be used.\n",
      "  warnings.warn(warn_msg)\n",
      "`loss_type=None` was set in the config but it is unrecognised.Using the default loss: `ForCausalLMLoss`.\n"
     ]
    },
    {
     "data": {
      "text/html": [
       "\n",
       "    <div>\n",
       "      \n",
       "      <progress value='51' max='51' style='width:300px; height:20px; vertical-align: middle;'></progress>\n",
       "      [51/51 02:54, Epoch 3/3]\n",
       "    </div>\n",
       "    <table border=\"1\" class=\"dataframe\">\n",
       "  <thead>\n",
       " <tr style=\"text-align: left;\">\n",
       "      <th>Step</th>\n",
       "      <th>Training Loss</th>\n",
       "    </tr>\n",
       "  </thead>\n",
       "  <tbody>\n",
       "  </tbody>\n",
       "</table><p>"
      ],
      "text/plain": [
       "<IPython.core.display.HTML object>"
      ]
     },
     "metadata": {},
     "output_type": "display_data"
    },
    {
     "data": {
      "text/plain": [
       "('./tweet-model/tokenizer_config.json',\n",
       " './tweet-model/special_tokens_map.json',\n",
       " './tweet-model/vocab.json',\n",
       " './tweet-model/merges.txt',\n",
       " './tweet-model/added_tokens.json')"
      ]
     },
     "execution_count": 5,
     "metadata": {},
     "output_type": "execute_result"
    }
   ],
   "source": [
    "from datasets import load_dataset\n",
    "from transformers import GPT2Tokenizer, GPT2LMHeadModel, Trainer, TrainingArguments, DataCollatorForLanguageModeling\n",
    "\n",
    "# On va utiliser gpt2 comme base pour notre transformer\n",
    "model_name = \"gpt2\"\n",
    "tokenizer = GPT2Tokenizer.from_pretrained(model_name)\n",
    "tokenizer.pad_token = tokenizer.eos_token\n",
    "\n",
    "model = GPT2LMHeadModel.from_pretrained(model_name)\n",
    "\n",
    "# On va utiliser notre dataset comme base d'entrainement pour gpt2\n",
    "dataset = load_dataset(\"text\", data_files={\"train\": \"formatted_tweets.txt\"})\n",
    "\n",
    "def tokenize_function(examples):\n",
    "    return tokenizer(examples[\"text\"], truncation=True, padding=\"max_length\", max_length=64)\n",
    "\n",
    "tokenized_datasets = dataset.map(tokenize_function, batched=True)\n",
    "\n",
    "data_collator = DataCollatorForLanguageModeling(tokenizer=tokenizer, mlm=False)\n",
    "\n",
    "#HyperParametres pour l'entrainement\n",
    "training_args = TrainingArguments(\n",
    "    output_dir=\"./tweet-model\",\n",
    "    overwrite_output_dir=True,\n",
    "    per_device_train_batch_size=8,\n",
    "    num_train_epochs=3,\n",
    "    save_steps=500,\n",
    "    save_total_limit=2,\n",
    "    prediction_loss_only=True,\n",
    "    fp16=True,\n",
    ")\n",
    "\n",
    "trainer = Trainer(\n",
    "    model=model,\n",
    "    args=training_args,\n",
    "    train_dataset=tokenized_datasets[\"train\"],\n",
    "    tokenizer=tokenizer,\n",
    "    data_collator=data_collator,\n",
    ")\n",
    "\n",
    "# On entraine gpt2 avec nos données\n",
    "trainer.train()\n",
    "\n",
    "# On sauvegarde les modèles\n",
    "trainer.save_model(\"./tweet-model\")\n",
    "tokenizer.save_pretrained(\"./tweet-model\")"
   ]
  },
  {
   "cell_type": "code",
   "execution_count": 10,
   "metadata": {},
   "outputs": [
    {
     "name": "stdout",
     "output_type": "stream",
     "text": [
      "$QC is $15.50 or $20.50, not that you know. I am not going to do any stock trading. $QC is $15.50 or $20.50, not that you know\n"
     ]
    }
   ],
   "source": [
    "from transformers import GPT2Tokenizer, GPT2LMHeadModel\n",
    "\n",
    "model_path = \"./tweet-model\"\n",
    "tokenizer = GPT2Tokenizer.from_pretrained(model_path)\n",
    "model = GPT2LMHeadModel.from_pretrained(model_path)\n",
    "\n",
    "#On va generé des tweet a l'aide de nos données d'entrainement\n",
    "def generate_tweet_finetuned(sentiment=\"positive\", max_length=50):\n",
    "    prompt = f\"<{sentiment}>\"\n",
    "    inputs = tokenizer(prompt, return_tensors=\"pt\")\n",
    "    outputs = model.generate(\n",
    "        **inputs,\n",
    "        max_length=max_length,\n",
    "        do_sample=True,\n",
    "        top_p=0.95,\n",
    "        top_k=50,\n",
    "        temperature=0.8,\n",
    "        pad_token_id=tokenizer.eos_token_id\n",
    "    )\n",
    "    return tokenizer.decode(outputs[0], skip_special_tokens=True).replace(prompt, \"\").strip()\n",
    "\n",
    "print(generate_tweet_finetuned(\"negative\"))"
   ]
  },
  {
   "cell_type": "markdown",
   "metadata": {},
   "source": [
    "# 9. Tableau Récapitulatif et Conclusion\n",
    "\n",
    "Synthèse des performances des différents modèles."
   ]
  },
  {
   "cell_type": "code",
   "execution_count": 76,
   "metadata": {},
   "outputs": [
    {
     "name": "stdout",
     "output_type": "stream",
     "text": [
      "--- 8. Tableau Récapitulatif des Performances ---\n",
      "\n",
      "Tableau Récapitulatif (trié par F1-score Macro):\n"
     ]
    },
    {
     "data": {
      "text/html": [
       "<div>\n",
       "<style scoped>\n",
       "    .dataframe tbody tr th:only-of-type {\n",
       "        vertical-align: middle;\n",
       "    }\n",
       "\n",
       "    .dataframe tbody tr th {\n",
       "        vertical-align: top;\n",
       "    }\n",
       "\n",
       "    .dataframe thead th {\n",
       "        text-align: right;\n",
       "    }\n",
       "</style>\n",
       "<table border=\"1\" class=\"dataframe\">\n",
       "  <thead>\n",
       "    <tr style=\"text-align: right;\">\n",
       "      <th></th>\n",
       "      <th>accuracy</th>\n",
       "      <th>precision_macro</th>\n",
       "      <th>recall_macro</th>\n",
       "      <th>f1_macro</th>\n",
       "    </tr>\n",
       "  </thead>\n",
       "  <tbody>\n",
       "    <tr>\n",
       "      <th>Transformer (distilbert-base-uncased)</th>\n",
       "      <td>0.804043</td>\n",
       "      <td>0.102729</td>\n",
       "      <td>0.100306</td>\n",
       "      <td>0.792608</td>\n",
       "    </tr>\n",
       "    <tr>\n",
       "      <th>Logistic Regression (TF-IDF)</th>\n",
       "      <td>0.723192</td>\n",
       "      <td>0.707241</td>\n",
       "      <td>0.706620</td>\n",
       "      <td>0.706677</td>\n",
       "    </tr>\n",
       "    <tr>\n",
       "      <th>MLP (TF-IDF)</th>\n",
       "      <td>0.717155</td>\n",
       "      <td>0.704365</td>\n",
       "      <td>0.691524</td>\n",
       "      <td>0.696534</td>\n",
       "    </tr>\n",
       "    <tr>\n",
       "      <th>Bidirectional LSTM (Improved with fine-tuned Word2Vec)</th>\n",
       "      <td>0.696023</td>\n",
       "      <td>0.696351</td>\n",
       "      <td>0.712927</td>\n",
       "      <td>0.691670</td>\n",
       "    </tr>\n",
       "    <tr>\n",
       "      <th>Naive Bayes (TF-IDF)</th>\n",
       "      <td>0.695761</td>\n",
       "      <td>0.692242</td>\n",
       "      <td>0.655506</td>\n",
       "      <td>0.666051</td>\n",
       "    </tr>\n",
       "    <tr>\n",
       "      <th>Random Forest (Best Params)</th>\n",
       "      <td>0.668592</td>\n",
       "      <td>0.651776</td>\n",
       "      <td>0.661733</td>\n",
       "      <td>0.655004</td>\n",
       "    </tr>\n",
       "    <tr>\n",
       "      <th>Logistic Regression (Word2Vec Avg)</th>\n",
       "      <td>0.570547</td>\n",
       "      <td>0.537697</td>\n",
       "      <td>0.539935</td>\n",
       "      <td>0.535881</td>\n",
       "    </tr>\n",
       "  </tbody>\n",
       "</table>\n",
       "</div>"
      ],
      "text/plain": [
       "                                                        accuracy  \\\n",
       "Transformer (distilbert-base-uncased)                   0.804043   \n",
       "Logistic Regression (TF-IDF)                            0.723192   \n",
       "MLP (TF-IDF)                                            0.717155   \n",
       "Bidirectional LSTM (Improved with fine-tuned Word2Vec)  0.696023   \n",
       "Naive Bayes (TF-IDF)                                    0.695761   \n",
       "Random Forest (Best Params)                             0.668592   \n",
       "Logistic Regression (Word2Vec Avg)                      0.570547   \n",
       "\n",
       "                                                        precision_macro  \\\n",
       "Transformer (distilbert-base-uncased)                          0.102729   \n",
       "Logistic Regression (TF-IDF)                                   0.707241   \n",
       "MLP (TF-IDF)                                                   0.704365   \n",
       "Bidirectional LSTM (Improved with fine-tuned Word2Vec)         0.696351   \n",
       "Naive Bayes (TF-IDF)                                           0.692242   \n",
       "Random Forest (Best Params)                                    0.651776   \n",
       "Logistic Regression (Word2Vec Avg)                             0.537697   \n",
       "\n",
       "                                                        recall_macro  f1_macro  \n",
       "Transformer (distilbert-base-uncased)                       0.100306  0.792608  \n",
       "Logistic Regression (TF-IDF)                                0.706620  0.706677  \n",
       "MLP (TF-IDF)                                                0.691524  0.696534  \n",
       "Bidirectional LSTM (Improved with fine-tuned Word2Vec)      0.712927  0.691670  \n",
       "Naive Bayes (TF-IDF)                                        0.655506  0.666051  \n",
       "Random Forest (Best Params)                                 0.661733  0.655004  \n",
       "Logistic Regression (Word2Vec Avg)                          0.539935  0.535881  "
      ]
     },
     "metadata": {},
     "output_type": "display_data"
    },
    {
     "data": {
      "image/png": "[encoded data removed]",
      "text/plain": [
       "<Figure size 1200x700 with 1 Axes>"
      ]
     },
     "metadata": {},
     "output_type": "display_data"
    }
   ],
   "source": [
    "print(\"--- 9. Tableau Récapitulatif des Performances ---\")\n",
    "results_df = pd.DataFrame.from_dict(results_summary, orient='index')\n",
    "results_df = results_df.sort_values(by='f1_macro', ascending=False) # Trier par F1-score macro\n",
    "\n",
    "print(\"\\nTableau Récapitulatif (trié par F1-score Macro):\")\n",
    "display(results_df)\n",
    "\n",
    "# Visualisation comparative\n",
    "results_df[['accuracy', 'f1_macro']].plot(kind='bar', figsize=(12, 7), rot=45)\n",
    "plt.title('Comparaison des Performances des Modèles')\n",
    "plt.ylabel('Score')\n",
    "plt.ylim(0, 1) # Scores entre 0 et 1\n",
    "plt.legend(loc='lower right')\n",
    "plt.tight_layout()\n",
    "plt.show()"
   ]
  },
  {
   "cell_type": "markdown",
   "metadata": {},
   "source": [
    "# --- Fin du Notebook ---"
   ]
  }
 ],
 "metadata": {
  "kernelspec": {
   "display_name": "Python 3 (ipykernel)",
   "language": "python",
   "name": "python3"
  },
  "language_info": {
   "codemirror_mode": {
    "name": "ipython",
    "version": 3
   },
   "file_extension": ".py",
   "mimetype": "text/x-python",
   "name": "python",
   "nbconvert_exporter": "python",
   "pygments_lexer": "ipython3",
   "version": "3.11.6"
  }
 },
 "nbformat": 4,
 "nbformat_minor": 4
}
