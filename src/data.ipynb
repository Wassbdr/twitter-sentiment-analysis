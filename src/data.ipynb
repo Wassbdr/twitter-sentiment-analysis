{
 "cells": [
  {
   "cell_type": "code",
   "execution_count": 3,
   "metadata": {},
   "outputs": [
    {
     "name": "stderr",
     "output_type": "stream",
     "text": [
      "[nltk_data] Downloading package averaged_perceptron_tagger to\n",
      "[nltk_data]     /home/wassim/nltk_data...\n",
      "[nltk_data]   Package averaged_perceptron_tagger is already up-to-\n",
      "[nltk_data]       date!\n"
     ]
    }
   ],
   "source": [
    "import pandas as pd\n",
    "import numpy as np\n",
    "import re\n",
    "import string\n",
    "import nltk\n",
    "\n",
    "import matplotlib.pyplot as plt # Pour d'éventuelles visualisations\n",
    "import seaborn as sns # Pour d'éventuelles visualisations\n",
    "\n",
    "# Téléchargement initial des ressources NLTK (à faire une fois par environnement)\n",
    "nltk.download('stopwords', quiet=True)\n",
    "nltk.download('punkt', quiet=True)\n",
    "nltk.download('averaged_perceptron_tagger')\n",
    "nltk.download('wordnet', quiet=True)\n",
    "nltk.download('omw-1.4', quiet=True)\n",
    "from nltk.corpus import stopwords\n",
    "from nltk.tokenize import word_tokenize\n",
    "\n",
    "from sklearn.model_selection import train_test_split, GridSearchCV\n",
    "from sklearn.feature_extraction.text import CountVectorizer, TfidfVectorizer\n",
    "from sklearn.naive_bayes import MultinomialNB\n",
    "from sklearn.linear_model import LogisticRegression\n",
    "from sklearn.ensemble import RandomForestClassifier\n",
    "from sklearn.metrics import classification_report, accuracy_score, confusion_matrix\n",
    "from sklearn.preprocessing import LabelEncoder\n",
    "from sklearn.utils import class_weight\n",
    "\n",
    "\n",
    "# Pour Word2Vec\n",
    "from gensim.models import Word2Vec\n",
    "\n",
    "# Pour les Réseaux de Neurones avec Keras (TensorFlow backend)\n",
    "import tensorflow as tf\n",
    "from tensorflow.keras.models import Sequential\n",
    "from tensorflow.keras.layers import Dense, Embedding, LSTM, GRU, GlobalAveragePooling1D, Dropout, Bidirectional, Input\n",
    "from tensorflow.keras.preprocessing.text import Tokenizer as KerasTokenizer\n",
    "from tensorflow.keras.preprocessing.sequence import pad_sequences\n",
    "from tensorflow.keras.utils import to_categorical\n",
    "from tensorflow.keras.callbacks import EarlyStopping, ReduceLROnPlateau\n",
    "\n",
    "\n",
    "# Pour les Transformers (Hugging Face)\n",
    "from transformers import AutoTokenizer, AutoModelForSequenceClassification, TrainingArguments, Trainer\n",
    "import torch\n",
    "from datasets import Dataset\n",
    "import evaluate\n",
    "\n",
    "# Configuration\n",
    "SEED = 42 # Pour la reproductibilité\n",
    "np.random.seed(SEED)\n",
    "tf.random.set_seed(SEED)\n",
    "# torch.manual_seed(SEED) # Si vous utilisez PyTorch plus directement\n",
    "\n",
    "# Affichage des dataframes\n",
    "pd.set_option('display.max_colwidth', 200)"
   ]
  },
  {
   "cell_type": "markdown",
   "metadata": {},
   "source": [
    "# 1. Chargement et Préparation des Données\n",
    "\n",
    "Le dataset utilisé est \"TimKoornstra/financial-tweets-sentiment\" de Hugging Face, contenant des tweets financiers avec des labels de sentiment (positif, négatif, neutre)."
   ]
  },
  {
   "cell_type": "code",
   "execution_count": 4,
   "metadata": {},
   "outputs": [
    {
     "name": "stdout",
     "output_type": "stream",
     "text": [
      "--- 1. Chargement et Préparation des Données ---\n",
      "Dataset chargé.\n"
     ]
    }
   ],
   "source": [
    "print(\"--- 1. Chargement et Préparation des Données ---\")\n",
    "import pandas as pd\n",
    "try:\n",
    "    # Assurez-vous d'être connecté à Hugging Face si le dataset est privé ou nécessite une authentification\n",
    "    # from huggingface_hub import notebook_login\n",
    "    # notebook_login() # Décommentez si nécessaire\n",
    "    df = pd.read_parquet(\"hf://datasets/TimKoornstra/financial-tweets-sentiment/data/train-00000-of-00001.parquet\")\n",
    "except Exception as e:\n",
    "    print(f\"Erreur de chargement du dataset depuis Hugging Face: {e}\")\n",
    "    print(\"Utilisation d'un dataset d'exemple simplifié.\")\n",
    "    # Fallback dataset pour les tests hors ligne ou si le chargement échoue\n",
    "    data_dict = {\n",
    "        'tweet': [\n",
    "            \"Stock market is soaring with $AAPL!\", \"This company $XYZ is doing great.\", \"I am neutral about this $TSLA.\",\n",
    "            \"Feeling bearish about the economy.\", \"Lost a lot of money today with $GME.\", \"This is a disaster for $BTC.\",\n",
    "            \"Positive news for $MSFT.\", \"Neutral stance on $AMZN.\", \"Negative outlook for $NVDA.\",\n",
    "            \"Great earnings report from $GOOG.\", \"Uncertainty looms over the $SPX index.\", \"Significant drop in $OIL prices.\"\n",
    "        ] * 100, # Multiplier pour avoir plus de données\n",
    "        'sentiment': [1, 1, 0, 2, 2, 2, 1, 0, 2, 1, 0, 2] * 100\n",
    "    }\n",
    "    df = pd.DataFrame(data_dict)\n",
    "\n",
    "if 'url' in df.columns:\n",
    "    df.drop(columns=['url'], inplace=True)\n",
    "df.rename(columns={'sentiment': 'label_orig_int'}, inplace=True)\n",
    "df.rename(columns={'tweet': 'text'}, inplace=True)\n",
    "\n",
    "map_labels_str = {0: \"neutral\", 1: 'positive',  2: 'negative'}\n",
    "df['label'] = df['label_orig_int'].apply(lambda x: map_labels_str.get(x, \"unknown\")) # .get pour gérer les labels inconnus\n",
    "\n",
    "# Supprimer les lignes avec des labels \"unknown\" si elles existent\n",
    "df = df[df['label'] != \"unknown\"]\n",
    "df.reset_index(drop=True, inplace=True)\n",
    "\n",
    "print(\"Dataset chargé.\")"
   ]
  },
  {
   "cell_type": "code",
   "execution_count": 5,
   "metadata": {},
   "outputs": [
    {
     "name": "stdout",
     "output_type": "stream",
     "text": [
      "Aperçu du DataFrame:\n"
     ]
    },
    {
     "data": {
      "text/html": [
       "<div>\n",
       "<style scoped>\n",
       "    .dataframe tbody tr th:only-of-type {\n",
       "        vertical-align: middle;\n",
       "    }\n",
       "\n",
       "    .dataframe tbody tr th {\n",
       "        vertical-align: top;\n",
       "    }\n",
       "\n",
       "    .dataframe thead th {\n",
       "        text-align: right;\n",
       "    }\n",
       "</style>\n",
       "<table border=\"1\" class=\"dataframe\">\n",
       "  <thead>\n",
       "    <tr style=\"text-align: right;\">\n",
       "      <th></th>\n",
       "      <th>text</th>\n",
       "      <th>label_orig_int</th>\n",
       "      <th>label</th>\n",
       "    </tr>\n",
       "  </thead>\n",
       "  <tbody>\n",
       "    <tr>\n",
       "      <th>0</th>\n",
       "      <td>$BYND - JPMorgan reels in expectations on Beyond Meat https://t.co/bd0xbFGjkT</td>\n",
       "      <td>2</td>\n",
       "      <td>negative</td>\n",
       "    </tr>\n",
       "    <tr>\n",
       "      <th>1</th>\n",
       "      <td>$CCL $RCL - Nomura points to bookings weakness at Carnival and Royal Caribbean https://t.co/yGjpT2ReD3</td>\n",
       "      <td>2</td>\n",
       "      <td>negative</td>\n",
       "    </tr>\n",
       "    <tr>\n",
       "      <th>2</th>\n",
       "      <td>$CX - Cemex cut at Credit Suisse, J.P. Morgan on weak building outlook https://t.co/KN1g4AWFIb</td>\n",
       "      <td>2</td>\n",
       "      <td>negative</td>\n",
       "    </tr>\n",
       "    <tr>\n",
       "      <th>3</th>\n",
       "      <td>$ESS: BTIG Research cuts to Neutral https://t.co/MCyfTsXc2N</td>\n",
       "      <td>2</td>\n",
       "      <td>negative</td>\n",
       "    </tr>\n",
       "    <tr>\n",
       "      <th>4</th>\n",
       "      <td>$FNKO - Funko slides after Piper Jaffray PT cut https://t.co/z37IJmCQzB</td>\n",
       "      <td>2</td>\n",
       "      <td>negative</td>\n",
       "    </tr>\n",
       "  </tbody>\n",
       "</table>\n",
       "</div>"
      ],
      "text/plain": [
       "                                                                                                     text  \\\n",
       "0                           $BYND - JPMorgan reels in expectations on Beyond Meat https://t.co/bd0xbFGjkT   \n",
       "1  $CCL $RCL - Nomura points to bookings weakness at Carnival and Royal Caribbean https://t.co/yGjpT2ReD3   \n",
       "2          $CX - Cemex cut at Credit Suisse, J.P. Morgan on weak building outlook https://t.co/KN1g4AWFIb   \n",
       "3                                             $ESS: BTIG Research cuts to Neutral https://t.co/MCyfTsXc2N   \n",
       "4                                 $FNKO - Funko slides after Piper Jaffray PT cut https://t.co/z37IJmCQzB   \n",
       "\n",
       "   label_orig_int     label  \n",
       "0               2  negative  \n",
       "1               2  negative  \n",
       "2               2  negative  \n",
       "3               2  negative  \n",
       "4               2  negative  "
      ]
     },
     "metadata": {},
     "output_type": "display_data"
    },
    {
     "name": "stdout",
     "output_type": "stream",
     "text": [
      "\n",
      "Informations sur le DataFrame:\n",
      "<class 'pandas.core.frame.DataFrame'>\n",
      "RangeIndex: 38091 entries, 0 to 38090\n",
      "Data columns (total 3 columns):\n",
      " #   Column          Non-Null Count  Dtype \n",
      "---  ------          --------------  ----- \n",
      " 0   text            38091 non-null  object\n",
      " 1   label_orig_int  38091 non-null  int64 \n",
      " 2   label           38091 non-null  object\n",
      "dtypes: int64(1), object(2)\n",
      "memory usage: 892.9+ KB\n",
      "\n",
      "Distribution des labels:\n",
      "label\n",
      "positive    17368\n",
      "neutral     12181\n",
      "negative     8542\n",
      "Name: count, dtype: int64\n"
     ]
    },
    {
     "data": {
      "image/png": "[encoded data removed]",
      "text/plain": [
       "<Figure size 600x400 with 1 Axes>"
      ]
     },
     "metadata": {},
     "output_type": "display_data"
    }
   ],
   "source": [
    "print(\"Aperçu du DataFrame:\")\n",
    "display(df.head())\n",
    "\n",
    "print(\"\\nInformations sur le DataFrame:\")\n",
    "df.info()\n",
    "\n",
    "print(\"\\nDistribution des labels:\")\n",
    "print(df['label'].value_counts())\n",
    "\n",
    "plt.figure(figsize=(6,4))\n",
    "sns.countplot(x='label', data=df, order = df['label'].value_counts().index)\n",
    "plt.title('Distribution des Labels de Sentiment')\n",
    "plt.show()"
   ]
  },
  {
   "cell_type": "markdown",
   "metadata": {},
   "source": [
    "# 2. Nettoyage du Texte\n",
    "\n",
    "Les étapes de nettoyage incluent :\n",
    "\n",
    "    Passage en minuscules.\n",
    "\n",
    "    Suppression des URLs.\n",
    "\n",
    "    Suppression des mentions (@) et hashtags (#) (on garde le mot du hashtag).\n",
    "\n",
    "    Suppression de la ponctuation.\n",
    "\n",
    "    (Optionnel) Suppression des stop-words (peut être géré par les vectoriseurs)."
   ]
  },
  {
   "cell_type": "code",
   "execution_count": 6,
   "metadata": {},
   "outputs": [
    {
     "name": "stdout",
     "output_type": "stream",
     "text": [
      "--- 2. Nettoyage du Texte ---\n"
     ]
    }
   ],
   "source": [
    "print(\"--- 2. Nettoyage du Texte ---\")\n",
    "stop_words_en = set(stopwords.words('english'))\n",
    "\n",
    "def clean_text(text):\n",
    "    text = str(text).lower()\n",
    "    text = re.sub(r\"http\\S+|www\\S+|https\\S+\", \"\", text, flags=re.MULTILINE) # Supprime URLs\n",
    "    text = re.sub(r\"\\@\\w+\", \"\", text) # Supprime mentions\n",
    "    # text = re.sub(r\"#\", \"\", text) # Conserve le mot après le hashtag, supprime juste le #\n",
    "    text = text.translate(str.maketrans(\"\", \"\", string.punctuation.replace('$',''))) # Conserve le $ pour les tickers\n",
    "    text = re.sub(r\"\\s+\", \" \", text).strip() # Supprime les espaces multiples\n",
    "    # Optionnel: suppression des stop words (peut être fait plus tard ou par le vectoriseur)\n",
    "    # tokens = word_tokenize(text)\n",
    "    # tokens = [word for word in tokens if word not in stop_words_en and word.isalpha()]\n",
    "    # text = \" \".join(tokens)\n",
    "    return text"
   ]
  },
  {
   "cell_type": "code",
   "execution_count": 7,
   "metadata": {},
   "outputs": [
    {
     "name": "stdout",
     "output_type": "stream",
     "text": [
      "Exemples de texte nettoyé :\n"
     ]
    },
    {
     "data": {
      "text/html": [
       "<div>\n",
       "<style scoped>\n",
       "    .dataframe tbody tr th:only-of-type {\n",
       "        vertical-align: middle;\n",
       "    }\n",
       "\n",
       "    .dataframe tbody tr th {\n",
       "        vertical-align: top;\n",
       "    }\n",
       "\n",
       "    .dataframe thead th {\n",
       "        text-align: right;\n",
       "    }\n",
       "</style>\n",
       "<table border=\"1\" class=\"dataframe\">\n",
       "  <thead>\n",
       "    <tr style=\"text-align: right;\">\n",
       "      <th></th>\n",
       "      <th>text</th>\n",
       "      <th>cleaned_text</th>\n",
       "    </tr>\n",
       "  </thead>\n",
       "  <tbody>\n",
       "    <tr>\n",
       "      <th>0</th>\n",
       "      <td>$BYND - JPMorgan reels in expectations on Beyond Meat https://t.co/bd0xbFGjkT</td>\n",
       "      <td>$bynd jpmorgan reels in expectations on beyond meat</td>\n",
       "    </tr>\n",
       "    <tr>\n",
       "      <th>1</th>\n",
       "      <td>$CCL $RCL - Nomura points to bookings weakness at Carnival and Royal Caribbean https://t.co/yGjpT2ReD3</td>\n",
       "      <td>$ccl $rcl nomura points to bookings weakness at carnival and royal caribbean</td>\n",
       "    </tr>\n",
       "    <tr>\n",
       "      <th>2</th>\n",
       "      <td>$CX - Cemex cut at Credit Suisse, J.P. Morgan on weak building outlook https://t.co/KN1g4AWFIb</td>\n",
       "      <td>$cx cemex cut at credit suisse jp morgan on weak building outlook</td>\n",
       "    </tr>\n",
       "    <tr>\n",
       "      <th>3</th>\n",
       "      <td>$ESS: BTIG Research cuts to Neutral https://t.co/MCyfTsXc2N</td>\n",
       "      <td>$ess btig research cuts to neutral</td>\n",
       "    </tr>\n",
       "    <tr>\n",
       "      <th>4</th>\n",
       "      <td>$FNKO - Funko slides after Piper Jaffray PT cut https://t.co/z37IJmCQzB</td>\n",
       "      <td>$fnko funko slides after piper jaffray pt cut</td>\n",
       "    </tr>\n",
       "  </tbody>\n",
       "</table>\n",
       "</div>"
      ],
      "text/plain": [
       "                                                                                                     text  \\\n",
       "0                           $BYND - JPMorgan reels in expectations on Beyond Meat https://t.co/bd0xbFGjkT   \n",
       "1  $CCL $RCL - Nomura points to bookings weakness at Carnival and Royal Caribbean https://t.co/yGjpT2ReD3   \n",
       "2          $CX - Cemex cut at Credit Suisse, J.P. Morgan on weak building outlook https://t.co/KN1g4AWFIb   \n",
       "3                                             $ESS: BTIG Research cuts to Neutral https://t.co/MCyfTsXc2N   \n",
       "4                                 $FNKO - Funko slides after Piper Jaffray PT cut https://t.co/z37IJmCQzB   \n",
       "\n",
       "                                                                   cleaned_text  \n",
       "0                           $bynd jpmorgan reels in expectations on beyond meat  \n",
       "1  $ccl $rcl nomura points to bookings weakness at carnival and royal caribbean  \n",
       "2             $cx cemex cut at credit suisse jp morgan on weak building outlook  \n",
       "3                                            $ess btig research cuts to neutral  \n",
       "4                                 $fnko funko slides after piper jaffray pt cut  "
      ]
     },
     "metadata": {},
     "output_type": "display_data"
    }
   ],
   "source": [
    "df[\"cleaned_text\"] = df[\"text\"].apply(clean_text)\n",
    "print(\"Exemples de texte nettoyé :\")\n",
    "display(df[[\"text\", \"cleaned_text\"]].head())"
   ]
  },
  {
   "cell_type": "markdown",
   "metadata": {},
   "source": [
    "### 3. Séparation des Données Train/Test\n",
    "\n",
    "Nous divisons les données en ensembles d'entraînement et de test (80%/20%) en veillant à stratifier par label pour maintenir la proportion des classes."
   ]
  },
  {
   "cell_type": "code",
   "execution_count": 8,
   "metadata": {},
   "outputs": [
    {
     "name": "stdout",
     "output_type": "stream",
     "text": [
      "--- 3. Séparation Train/Test ---\n",
      "Taille de l'ensemble d'entraînement: 30472\n",
      "Taille de l'ensemble de test: 7619\n",
      "Distribution des labels dans y_train_str:\n",
      "label\n",
      "positive    0.455960\n",
      "neutral     0.319802\n",
      "negative    0.224239\n",
      "Name: proportion, dtype: float64\n",
      "Distribution des labels dans y_test_str:\n",
      "label\n",
      "positive    0.455965\n",
      "neutral     0.319727\n",
      "negative    0.224308\n",
      "Name: proportion, dtype: float64\n"
     ]
    }
   ],
   "source": [
    "print(\"--- 3. Séparation Train/Test ---\")\n",
    "X = df[\"cleaned_text\"]\n",
    "y_str = df[\"label\"]\n",
    "y_int = df[\"label_orig_int\"] # Sera utilisé pour les NN et Transformers\n",
    "\n",
    "# Encoder les labels string en int pour certains modèles sklearn si besoin,\n",
    "# mais classification_report peut utiliser les strings.\n",
    "label_encoder_global = LabelEncoder()\n",
    "y_encoded_for_split = label_encoder_global.fit_transform(y_str)\n",
    "\n",
    "\n",
    "X_train_text, X_test_text, y_train_str, y_test_str, y_train_int, y_test_int, y_train_encoded, y_test_encoded = train_test_split(\n",
    "    X, y_str, y_int, y_encoded_for_split, test_size=0.2, random_state=SEED, stratify=y_str\n",
    ")\n",
    "\n",
    "print(f\"Taille de l'ensemble d'entraînement: {len(X_train_text)}\")\n",
    "print(f\"Taille de l'ensemble de test: {len(X_test_text)}\")\n",
    "print(f\"Distribution des labels dans y_train_str:\\n{y_train_str.value_counts(normalize=True)}\")\n",
    "print(f\"Distribution des labels dans y_test_str:\\n{y_test_str.value_counts(normalize=True)}\")"
   ]
  },
  {
   "cell_type": "markdown",
   "metadata": {},
   "source": [
    "# 4. Modèles \"Classiques\" avec Scikit-learn\n",
    "\n",
    "Nous allons commencer par évaluer des modèles de classification textuelle plus traditionnels."
   ]
  },
  {
   "cell_type": "code",
   "execution_count": 9,
   "metadata": {},
   "outputs": [],
   "source": [
    "results_summary = {}\n",
    "\n",
    "def evaluate_model(model_name, y_true, y_pred, y_pred_proba=None):\n",
    "    accuracy = accuracy_score(y_true, y_pred)\n",
    "    report = classification_report(y_true, y_pred, zero_division=0, output_dict=True)\n",
    "    print(f\"Rapport de Classification pour {model_name}:\")\n",
    "    print(classification_report(y_true, y_pred, zero_division=0))\n",
    "\n",
    "    cm = confusion_matrix(y_true, y_pred, labels=label_encoder_global.classes_)\n",
    "    plt.figure(figsize=(6,4))\n",
    "    sns.heatmap(cm, annot=True, fmt='d', cmap='Blues', xticklabels=label_encoder_global.classes_, yticklabels=label_encoder_global.classes_)\n",
    "    plt.xlabel('Prédit')\n",
    "    plt.ylabel('Vrai')\n",
    "    plt.title(f'Matrice de Confusion - {model_name}')\n",
    "    plt.show()\n",
    "\n",
    "    results_summary[model_name] = {\n",
    "        'accuracy': accuracy,\n",
    "        'precision_macro': report['macro avg']['precision'],\n",
    "        'recall_macro': report['macro avg']['recall'],\n",
    "        'f1_macro': report['macro avg']['f1-score']\n",
    "    }"
   ]
  },
  {
   "cell_type": "markdown",
   "metadata": {},
   "source": [
    "### 4.a. Naive Bayes (Multinomial) avec TF-IDF\n",
    "\n",
    "Le classifieur Naive Bayes est un modèle probabiliste simple mais souvent efficace pour la classification de texte. Nous utilisons MultinomialNB qui est adapté aux comptes de mots ou fréquences (TF-IDF). "
   ]
  },
  {
   "cell_type": "code",
   "execution_count": 10,
   "metadata": {},
   "outputs": [
    {
     "name": "stdout",
     "output_type": "stream",
     "text": [
      "--- 4.a. Naive Bayes (Multinomial) ---\n",
      "Rapport de Classification pour Naive Bayes (TF-IDF):\n",
      "              precision    recall  f1-score   support\n",
      "\n",
      "    negative       0.67      0.47      0.55      1709\n",
      "     neutral       0.71      0.68      0.69      2436\n",
      "    positive       0.69      0.82      0.75      3474\n",
      "\n",
      "    accuracy                           0.70      7619\n",
      "   macro avg       0.69      0.66      0.67      7619\n",
      "weighted avg       0.69      0.70      0.69      7619\n",
      "\n"
     ]
    },
    {
     "data": {
      "image/png": "[encoded data removed]",
      "text/plain": [
       "<Figure size 600x400 with 2 Axes>"
      ]
     },
     "metadata": {},
     "output_type": "display_data"
    }
   ],
   "source": [
    "print(\"--- 4.a. Naive Bayes (Multinomial) ---\")\n",
    "tfidf_vectorizer_nb = TfidfVectorizer(max_features=5000, stop_words='english', ngram_range=(1,2))\n",
    "X_train_tfidf_nb = tfidf_vectorizer_nb.fit_transform(X_train_text)\n",
    "X_test_tfidf_nb = tfidf_vectorizer_nb.transform(X_test_text)\n",
    "\n",
    "nb_model = MultinomialNB(alpha=0.1) # alpha est un hyperparamètre à régler\n",
    "# GridSearchCV pour Naive Bayes\n",
    "# params_nb = {'alpha': [0.01, 0.1, 0.5, 1.0, 5.0, 10.0]}\n",
    "# grid_nb = GridSearchCV(MultinomialNB(), params_nb, cv=5, scoring='f1_macro', verbose=1, n_jobs=-1)\n",
    "# grid_nb.fit(X_train_tfidf_nb, y_train_str)\n",
    "# nb_model = grid_nb.best_estimator_\n",
    "# print(f\"Meilleurs paramètres pour Naive Bayes: {grid_nb.best_params_}\")\n",
    "nb_model.fit(X_train_tfidf_nb, y_train_str)\n",
    "\n",
    "y_pred_nb = nb_model.predict(X_test_tfidf_nb)\n",
    "evaluate_model(\"Naive Bayes (TF-IDF)\", y_test_str, y_pred_nb)"
   ]
  },
  {
   "cell_type": "markdown",
   "metadata": {},
   "source": [
    "### 4.b. Régression Logistique avec TF-IDF\n",
    "\n",
    "La Régression Logistique est un autre modèle linéaire robuste, souvent utilisé comme baseline solide."
   ]
  },
  {
   "cell_type": "code",
   "execution_count": 11,
   "metadata": {},
   "outputs": [
    {
     "name": "stdout",
     "output_type": "stream",
     "text": [
      "--- 4.b. Régression Logistique ---\n",
      "Rapport de Classification pour Logistic Regression (TF-IDF):\n",
      "              precision    recall  f1-score   support\n",
      "\n",
      "    negative       0.64      0.61      0.62      1709\n",
      "     neutral       0.71      0.75      0.73      2436\n",
      "    positive       0.77      0.76      0.77      3474\n",
      "\n",
      "    accuracy                           0.72      7619\n",
      "   macro avg       0.71      0.71      0.71      7619\n",
      "weighted avg       0.72      0.72      0.72      7619\n",
      "\n"
     ]
    },
    {
     "data": {
      "image/png": "[encoded data removed]",
      "text/plain": [
       "<Figure size 600x400 with 2 Axes>"
      ]
     },
     "metadata": {},
     "output_type": "display_data"
    }
   ],
   "source": [
    "print(\"--- 4.b. Régression Logistique ---\")\n",
    "# On peut réutiliser le même vectoriseur TF-IDF si les paramètres sont identiques\n",
    "# ou en créer un spécifique si on veut tester des paramètres différents\n",
    "tfidf_vectorizer_lr = TfidfVectorizer(max_features=5000, stop_words='english', ngram_range=(1,2))\n",
    "X_train_tfidf_lr = tfidf_vectorizer_lr.fit_transform(X_train_text)\n",
    "X_test_tfidf_lr = tfidf_vectorizer_lr.transform(X_test_text)\n",
    "\n",
    "lr_model = LogisticRegression(max_iter=1000, random_state=SEED, solver='liblinear', C=1.0, class_weight='balanced')\n",
    "# GridSearchCV pour Logistic Regression\n",
    "# params_lr = {'C': [0.01, 0.1, 1, 10, 100], 'penalty': ['l1', 'l2']}\n",
    "# grid_lr = GridSearchCV(LogisticRegression(max_iter=1000, random_state=SEED, solver='liblinear', class_weight='balanced'),\n",
    "#                        params_lr, cv=5, scoring='f1_macro', verbose=1, n_jobs=-1)\n",
    "# grid_lr.fit(X_train_tfidf_lr, y_train_str)\n",
    "# lr_model = grid_lr.best_estimator_\n",
    "# print(f\"Meilleurs paramètres pour Régression Logistique: {grid_lr.best_params_}\")\n",
    "lr_model.fit(X_train_tfidf_lr, y_train_str)\n",
    "\n",
    "y_pred_lr = lr_model.predict(X_test_tfidf_lr)\n",
    "evaluate_model(\"Logistic Regression (TF-IDF)\", y_test_str, y_pred_lr)"
   ]
  },
  {
   "cell_type": "markdown",
   "metadata": {},
   "source": [
    "### 4.c. Random Forest avec TF-IDF\n",
    "\n",
    "Random Forest est un modèle d'ensemble basé sur les arbres de décision, capable de capturer des interactions non linéaires."
   ]
  },
  {
   "cell_type": "code",
   "execution_count": 12,
   "metadata": {},
   "outputs": [
    {
     "name": "stdout",
     "output_type": "stream",
     "text": [
      "--- 4.c. Random Forest avec Meilleurs Hyperparamètres (issus de RandomizedSearch) ---\n",
      "Entraînement du Random Forest avec les meilleurs hyperparamètres...\n",
      "Rapport de Classification pour Random Forest (Best Params):\n",
      "              precision    recall  f1-score   support\n",
      "\n",
      "    negative       0.54      0.61      0.57      1709\n",
      "     neutral       0.66      0.69      0.67      2436\n",
      "    positive       0.76      0.68      0.72      3474\n",
      "\n",
      "    accuracy                           0.67      7619\n",
      "   macro avg       0.65      0.66      0.66      7619\n",
      "weighted avg       0.68      0.67      0.67      7619\n",
      "\n"
     ]
    },
    {
     "data": {
      "image/png": "[encoded data removed]",
      "text/plain": [
       "<Figure size 600x400 with 2 Axes>"
      ]
     },
     "metadata": {},
     "output_type": "display_data"
    }
   ],
   "source": [
    "## Cellule Code: Random Forest avec les Meilleurs Hyperparamètres Trouvés\n",
    "\n",
    "print(\"--- 4.c. Random Forest avec Meilleurs Hyperparamètres (issus de RandomizedSearch) ---\")\n",
    "\n",
    "# Vectorisation TF-IDF\n",
    "tfidf_vectorizer_rf_best = TfidfVectorizer(max_features=5000, stop_words='english', ngram_range=(1,1))\n",
    "X_train_tfidf_rf_best = tfidf_vectorizer_rf_best.fit_transform(X_train_text)\n",
    "X_test_tfidf_rf_best = tfidf_vectorizer_rf_best.transform(X_test_text)\n",
    "\n",
    "# Meilleurs hyperparamètres trouvés par RandomizedSearchCV \n",
    "best_rf_params_found = {\n",
    "    'bootstrap': False,\n",
    "    'class_weight': 'balanced',\n",
    "    'max_depth': None,\n",
    "    'min_samples_leaf': 8,\n",
    "    'min_samples_split': 9,\n",
    "    'n_estimators': 162\n",
    "}\n",
    "\n",
    "rf_model_best_params = RandomForestClassifier(\n",
    "    n_estimators=best_rf_params_found['n_estimators'],\n",
    "    max_depth=best_rf_params_found['max_depth'],\n",
    "    min_samples_split=best_rf_params_found['min_samples_split'],\n",
    "    min_samples_leaf=best_rf_params_found['min_samples_leaf'],\n",
    "    bootstrap=best_rf_params_found['bootstrap'],\n",
    "    class_weight=best_rf_params_found['class_weight'],\n",
    "    random_state=SEED, \n",
    "    n_jobs=-1        \n",
    ")\n",
    "\n",
    "print(\"Entraînement du Random Forest avec les meilleurs hyperparamètres...\")\n",
    "rf_model_best_params.fit(X_train_tfidf_rf_best, y_train_str)\n",
    "\n",
    "# Évaluer le modèle sur le jeu de test\n",
    "y_pred_rf_best_params = rf_model_best_params.predict(X_test_tfidf_rf_best)\n",
    "evaluate_model(\"Random Forest (Best Params)\", y_test_str, y_pred_rf_best_params)\n"
   ]
  },
  {
   "cell_type": "markdown",
   "metadata": {},
   "source": [
    "# 5. Word2Vec + Classifieur\n",
    "\n",
    "Word2Vec est une technique pour apprendre des représentations vectorielles (embeddings) de mots. Nous allons entraîner un modèle Word2Vec sur nos données d'entraînement, puis utiliser la moyenne des vecteurs des mots d'un tweet comme feature pour un classifieur."
   ]
  },
  {
   "cell_type": "markdown",
   "metadata": {},
   "source": [
    "### 5.a. Entraînement du Modèle Word2Vec"
   ]
  },
  {
   "cell_type": "code",
   "execution_count": 13,
   "metadata": {},
   "outputs": [
    {
     "name": "stdout",
     "output_type": "stream",
     "text": [
      "--- 5.a. Entraînement de Word2Vec ---\n",
      "Exemple de tweet tokenisé: ['sterling', 'hits', 'a', 'sevenmonth', 'high', 'as', 'election', 'nears', 'economy', 'marketscreener']\n"
     ]
    }
   ],
   "source": [
    "print(\"--- 5.a. Entraînement de Word2Vec ---\")\n",
    "# Tokeniser les textes pour Word2Vec (nltk.word_tokenize est une option simple)\n",
    "tokenized_X_train_w2v = [word_tokenize(text) for text in X_train_text]\n",
    "tokenized_X_test_w2v = [word_tokenize(text) for text in X_test_text]\n",
    "\n",
    "print(f\"Exemple de tweet tokenisé: {tokenized_X_train_w2v[0]}\")"
   ]
  },
  {
   "cell_type": "code",
   "execution_count": 14,
   "metadata": {},
   "outputs": [
    {
     "name": "stdout",
     "output_type": "stream",
     "text": [
      "Modèle Word2Vec entraîné. Taille du vocabulaire: 17466\n"
     ]
    }
   ],
   "source": [
    "W2V_VECTOR_SIZE = 100 # Dimension des embeddings Word2Vec\n",
    "W2V_WINDOW = 5      # Taille de la fenêtre de contexte\n",
    "W2V_MIN_COUNT = 2   # Ignorer les mots avec une fréquence totale inférieure à cela\n",
    "W2V_WORKERS = 4     # Nombre de threads pour l'entraînement\n",
    "\n",
    "w2v_model = Word2Vec(sentences=tokenized_X_train_w2v,\n",
    "                     vector_size=W2V_VECTOR_SIZE,\n",
    "                     window=W2V_WINDOW,\n",
    "                     min_count=W2V_MIN_COUNT,\n",
    "                     workers=W2V_WORKERS,\n",
    "                     sg=0, # CBOW (0) ou Skip-gram (1)\n",
    "                     seed=SEED)\n",
    "\n",
    "print(f\"Modèle Word2Vec entraîné. Taille du vocabulaire: {len(w2v_model.wv.index_to_key)}\")\n",
    "\n",
    "# Sauvegarder le modèle (optionnel)\n",
    "# w2v_model.wv.save_word2vec_format(\"word2vec_financial_tweets.bin\", binary=True)"
   ]
  },
  {
   "cell_type": "code",
   "execution_count": 15,
   "metadata": {},
   "outputs": [
    {
     "name": "stdout",
     "output_type": "stream",
     "text": [
      "\n",
      "Mots similaires à 'stock' (si dans le vocabulaire):\n"
     ]
    },
    {
     "data": {
      "text/plain": [
       "[('characteristics', 0.8676854968070984),\n",
       " ('cap', 0.8441227674484253),\n",
       " ('bear', 0.8006476759910583),\n",
       " ('share', 0.7961100339889526),\n",
       " ('100b', 0.7873205542564392)]"
      ]
     },
     "metadata": {},
     "output_type": "display_data"
    },
    {
     "name": "stdout",
     "output_type": "stream",
     "text": [
      "\n",
      "Mots similaires à 'market' (si dans le vocabulaire):\n"
     ]
    },
    {
     "data": {
      "text/plain": [
       "[('splits', 0.8844784498214722),\n",
       " ('performing', 0.8551607728004456),\n",
       " ('split', 0.8290551900863647),\n",
       " ('trade', 0.8248071074485779),\n",
       " ('bear', 0.8170798420906067)]"
      ]
     },
     "metadata": {},
     "output_type": "display_data"
    }
   ],
   "source": [
    "# Explorer le modèle Word2Vec (si le vocabulaire est assez grand)\n",
    "try:\n",
    "    print(\"\\nMots similaires à 'stock' (si dans le vocabulaire):\")\n",
    "    display(w2v_model.wv.most_similar('stock', topn=5))\n",
    "except KeyError:\n",
    "    print(\"'stock' n'est pas dans le vocabulaire du modèle Word2Vec.\")\n",
    "\n",
    "try:\n",
    "    print(\"\\nMots similaires à 'market' (si dans le vocabulaire):\")\n",
    "    display(w2v_model.wv.most_similar('market', topn=5))\n",
    "except KeyError:\n",
    "    print(\"'market' n'est pas dans le vocabulaire du modèle Word2Vec.\")"
   ]
  },
  {
   "cell_type": "markdown",
   "metadata": {},
   "source": [
    "### 5.b. Création des Vecteurs de Document et Classification\n",
    "\n",
    "Nous moyennons les vecteurs Word2Vec des mots de chaque tweet pour obtenir un vecteur de document unique."
   ]
  },
  {
   "cell_type": "code",
   "execution_count": 16,
   "metadata": {},
   "outputs": [],
   "source": [
    "def document_vector(doc_tokens, model, num_features):\n",
    "    # Filtrer les mots hors vocabulaire\n",
    "    feature_vec = np.zeros((num_features,), dtype=\"float32\")\n",
    "    num_words = 0\n",
    "    index2word_set = set(model.wv.index_to_key) # Pour une recherche plus rapide\n",
    "\n",
    "    for word in doc_tokens:\n",
    "        if word in index2word_set:\n",
    "            num_words += 1\n",
    "            feature_vec = np.add(feature_vec, model.wv[word])\n",
    "\n",
    "    if num_words > 0:\n",
    "        feature_vec = np.divide(feature_vec, num_words)\n",
    "    return feature_vec"
   ]
  },
  {
   "cell_type": "code",
   "execution_count": 17,
   "metadata": {},
   "outputs": [
    {
     "name": "stdout",
     "output_type": "stream",
     "text": [
      "Shape de X_train_w2v: (30472, 100)\n",
      "Shape de X_test_w2v: (7619, 100)\n"
     ]
    }
   ],
   "source": [
    "X_train_w2v = np.array([document_vector(doc, w2v_model, W2V_VECTOR_SIZE) for doc in tokenized_X_train_w2v])\n",
    "X_test_w2v = np.array([document_vector(doc, w2v_model, W2V_VECTOR_SIZE) for doc in tokenized_X_test_w2v])\n",
    "\n",
    "print(f\"Shape de X_train_w2v: {X_train_w2v.shape}\")\n",
    "print(f\"Shape de X_test_w2v: {X_test_w2v.shape}\")"
   ]
  },
  {
   "cell_type": "code",
   "execution_count": 18,
   "metadata": {},
   "outputs": [
    {
     "name": "stdout",
     "output_type": "stream",
     "text": [
      "Rapport de Classification pour Logistic Regression (Word2Vec Avg):\n",
      "              precision    recall  f1-score   support\n",
      "\n",
      "    negative       0.39      0.32      0.35      1709\n",
      "     neutral       0.56      0.67      0.61      2436\n",
      "    positive       0.64      0.62      0.63      3474\n",
      "\n",
      "    accuracy                           0.57      7619\n",
      "   macro avg       0.53      0.53      0.53      7619\n",
      "weighted avg       0.56      0.57      0.56      7619\n",
      "\n"
     ]
    },
    {
     "data": {
      "image/png": "[encoded data removed]",
      "text/plain": [
       "<Figure size 600x400 with 2 Axes>"
      ]
     },
     "metadata": {},
     "output_type": "display_data"
    }
   ],
   "source": [
    "# Utiliser Word2Vec avec une Régression Logistique\n",
    "lr_w2v_model = LogisticRegression(max_iter=1000, random_state=SEED, solver='liblinear', C=1.0, class_weight='balanced')\n",
    "lr_w2v_model.fit(X_train_w2v, y_train_str)\n",
    "\n",
    "y_pred_lr_w2v = lr_w2v_model.predict(X_test_w2v)\n",
    "evaluate_model(\"Logistic Regression (Word2Vec Avg)\", y_test_str, y_pred_lr_w2v)"
   ]
  },
  {
   "cell_type": "markdown",
   "metadata": {},
   "source": [
    "# 6. Réseaux de Neurones avec Keras/TensorFlow\n",
    "\n",
    "Nous allons maintenant explorer des modèles plus complexes basés sur les réseaux de neurones."
   ]
  },
  {
   "cell_type": "code",
   "execution_count": 19,
   "metadata": {},
   "outputs": [
    {
     "name": "stdout",
     "output_type": "stream",
     "text": [
      "Shape de y_train_categorical: (30472, 3)\n",
      "Exemple de label one-hot: [0. 0. 1.] (correspond à 'positive')\n"
     ]
    }
   ],
   "source": [
    "# y_train_encoded et y_test_encoded ont été créés lors du split initial.\n",
    "# y_train_int et y_test_int sont les labels originaux 0,1,2.\n",
    "# Pour Keras, nous avons besoin de labels one-hot encodés.\n",
    "\n",
    "num_classes = len(label_encoder_global.classes_)\n",
    "y_train_categorical = to_categorical(y_train_encoded, num_classes=num_classes)\n",
    "y_test_categorical = to_categorical(y_test_encoded, num_classes=num_classes)\n",
    "\n",
    "print(f\"Shape de y_train_categorical: {y_train_categorical.shape}\")\n",
    "print(f\"Exemple de label one-hot: {y_train_categorical[0]} (correspond à '{y_train_str.iloc[0]}')\")"
   ]
  },
  {
   "cell_type": "markdown",
   "metadata": {},
   "source": [
    "### 6.a. Réseau Feedforward (MLP) avec TF-IDF\n",
    "\n",
    "Un Perceptron Multi-Couches (MLP) simple utilisant les features TF-IDF."
   ]
  },
  {
   "cell_type": "code",
   "execution_count": 20,
   "metadata": {},
   "outputs": [
    {
     "name": "stdout",
     "output_type": "stream",
     "text": [
      "--- 6.a. Réseau Feedforward (MLP) avec TF-IDF ---\n",
      "Shape de X_train_tfidf_dense_mlp: (30472, 5000)\n"
     ]
    }
   ],
   "source": [
    "print(\"--- 6.a. Réseau Feedforward (MLP) avec TF-IDF ---\")\n",
    "# Utiliser les mêmes Tfidf que pour LR/NB pour la comparaison, ou en créer un nouveau\n",
    "# Nous réutilisons X_train_tfidf_lr et X_test_tfidf_lr (issus du TfidfVectorizer pour la LR)\n",
    "X_train_tfidf_dense_mlp = X_train_tfidf_lr.toarray() # Keras MLP préfère les matrices denses\n",
    "X_test_tfidf_dense_mlp = X_test_tfidf_lr.toarray()\n",
    "\n",
    "print(f\"Shape de X_train_tfidf_dense_mlp: {X_train_tfidf_dense_mlp.shape}\")"
   ]
  },
  {
   "cell_type": "code",
   "execution_count": 21,
   "metadata": {},
   "outputs": [
    {
     "name": "stderr",
     "output_type": "stream",
     "text": [
      "/home/wassim/repos/nlp/projet/twitter-sentiment-analysis/.venv/lib/python3.12/site-packages/keras/src/layers/core/dense.py:87: UserWarning: Do not pass an `input_shape`/`input_dim` argument to a layer. When using Sequential models, prefer using an `Input(shape)` object as the first layer in the model instead.\n",
      "  super().__init__(activity_regularizer=activity_regularizer, **kwargs)\n",
      "2025-05-12 06:28:55.580344: E external/local_xla/xla/stream_executor/cuda/cuda_platform.cc:51] failed call to cuInit: INTERNAL: CUDA error: Failed call to cuInit: UNKNOWN ERROR (303)\n"
     ]
    },
    {
     "data": {
      "text/html": [
       "<pre style=\"white-space:pre;overflow-x:auto;line-height:normal;font-family:Menlo,'DejaVu Sans Mono',consolas,'Courier New',monospace\"><span style=\"font-weight: bold\">Model: \"sequential\"</span>\n",
       "</pre>\n"
      ],
      "text/plain": [
       "\u001b[1mModel: \"sequential\"\u001b[0m\n"
      ]
     },
     "metadata": {},
     "output_type": "display_data"
    },
    {
     "data": {
      "text/html": [
       "<pre style=\"white-space:pre;overflow-x:auto;line-height:normal;font-family:Menlo,'DejaVu Sans Mono',consolas,'Courier New',monospace\">┏━━━━━━━━━━━━━━━━━━━━━━━━━━━━━━━━━┳━━━━━━━━━━━━━━━━━━━━━━━━┳━━━━━━━━━━━━━━━┓\n",
       "┃<span style=\"font-weight: bold\"> Layer (type)                    </span>┃<span style=\"font-weight: bold\"> Output Shape           </span>┃<span style=\"font-weight: bold\">       Param # </span>┃\n",
       "┡━━━━━━━━━━━━━━━━━━━━━━━━━━━━━━━━━╇━━━━━━━━━━━━━━━━━━━━━━━━╇━━━━━━━━━━━━━━━┩\n",
       "│ dense (<span style=\"color: #0087ff; text-decoration-color: #0087ff\">Dense</span>)                   │ (<span style=\"color: #00d7ff; text-decoration-color: #00d7ff\">None</span>, <span style=\"color: #00af00; text-decoration-color: #00af00\">128</span>)            │       <span style=\"color: #00af00; text-decoration-color: #00af00\">640,128</span> │\n",
       "├─────────────────────────────────┼────────────────────────┼───────────────┤\n",
       "│ dropout (<span style=\"color: #0087ff; text-decoration-color: #0087ff\">Dropout</span>)               │ (<span style=\"color: #00d7ff; text-decoration-color: #00d7ff\">None</span>, <span style=\"color: #00af00; text-decoration-color: #00af00\">128</span>)            │             <span style=\"color: #00af00; text-decoration-color: #00af00\">0</span> │\n",
       "├─────────────────────────────────┼────────────────────────┼───────────────┤\n",
       "│ dense_1 (<span style=\"color: #0087ff; text-decoration-color: #0087ff\">Dense</span>)                 │ (<span style=\"color: #00d7ff; text-decoration-color: #00d7ff\">None</span>, <span style=\"color: #00af00; text-decoration-color: #00af00\">64</span>)             │         <span style=\"color: #00af00; text-decoration-color: #00af00\">8,256</span> │\n",
       "├─────────────────────────────────┼────────────────────────┼───────────────┤\n",
       "│ dropout_1 (<span style=\"color: #0087ff; text-decoration-color: #0087ff\">Dropout</span>)             │ (<span style=\"color: #00d7ff; text-decoration-color: #00d7ff\">None</span>, <span style=\"color: #00af00; text-decoration-color: #00af00\">64</span>)             │             <span style=\"color: #00af00; text-decoration-color: #00af00\">0</span> │\n",
       "├─────────────────────────────────┼────────────────────────┼───────────────┤\n",
       "│ dense_2 (<span style=\"color: #0087ff; text-decoration-color: #0087ff\">Dense</span>)                 │ (<span style=\"color: #00d7ff; text-decoration-color: #00d7ff\">None</span>, <span style=\"color: #00af00; text-decoration-color: #00af00\">3</span>)              │           <span style=\"color: #00af00; text-decoration-color: #00af00\">195</span> │\n",
       "└─────────────────────────────────┴────────────────────────┴───────────────┘\n",
       "</pre>\n"
      ],
      "text/plain": [
       "┏━━━━━━━━━━━━━━━━━━━━━━━━━━━━━━━━━┳━━━━━━━━━━━━━━━━━━━━━━━━┳━━━━━━━━━━━━━━━┓\n",
       "┃\u001b[1m \u001b[0m\u001b[1mLayer (type)                   \u001b[0m\u001b[1m \u001b[0m┃\u001b[1m \u001b[0m\u001b[1mOutput Shape          \u001b[0m\u001b[1m \u001b[0m┃\u001b[1m \u001b[0m\u001b[1m      Param #\u001b[0m\u001b[1m \u001b[0m┃\n",
       "┡━━━━━━━━━━━━━━━━━━━━━━━━━━━━━━━━━╇━━━━━━━━━━━━━━━━━━━━━━━━╇━━━━━━━━━━━━━━━┩\n",
       "│ dense (\u001b[38;5;33mDense\u001b[0m)                   │ (\u001b[38;5;45mNone\u001b[0m, \u001b[38;5;34m128\u001b[0m)            │       \u001b[38;5;34m640,128\u001b[0m │\n",
       "├─────────────────────────────────┼────────────────────────┼───────────────┤\n",
       "│ dropout (\u001b[38;5;33mDropout\u001b[0m)               │ (\u001b[38;5;45mNone\u001b[0m, \u001b[38;5;34m128\u001b[0m)            │             \u001b[38;5;34m0\u001b[0m │\n",
       "├─────────────────────────────────┼────────────────────────┼───────────────┤\n",
       "│ dense_1 (\u001b[38;5;33mDense\u001b[0m)                 │ (\u001b[38;5;45mNone\u001b[0m, \u001b[38;5;34m64\u001b[0m)             │         \u001b[38;5;34m8,256\u001b[0m │\n",
       "├─────────────────────────────────┼────────────────────────┼───────────────┤\n",
       "│ dropout_1 (\u001b[38;5;33mDropout\u001b[0m)             │ (\u001b[38;5;45mNone\u001b[0m, \u001b[38;5;34m64\u001b[0m)             │             \u001b[38;5;34m0\u001b[0m │\n",
       "├─────────────────────────────────┼────────────────────────┼───────────────┤\n",
       "│ dense_2 (\u001b[38;5;33mDense\u001b[0m)                 │ (\u001b[38;5;45mNone\u001b[0m, \u001b[38;5;34m3\u001b[0m)              │           \u001b[38;5;34m195\u001b[0m │\n",
       "└─────────────────────────────────┴────────────────────────┴───────────────┘\n"
      ]
     },
     "metadata": {},
     "output_type": "display_data"
    },
    {
     "data": {
      "text/html": [
       "<pre style=\"white-space:pre;overflow-x:auto;line-height:normal;font-family:Menlo,'DejaVu Sans Mono',consolas,'Courier New',monospace\"><span style=\"font-weight: bold\"> Total params: </span><span style=\"color: #00af00; text-decoration-color: #00af00\">648,579</span> (2.47 MB)\n",
       "</pre>\n"
      ],
      "text/plain": [
       "\u001b[1m Total params: \u001b[0m\u001b[38;5;34m648,579\u001b[0m (2.47 MB)\n"
      ]
     },
     "metadata": {},
     "output_type": "display_data"
    },
    {
     "data": {
      "text/html": [
       "<pre style=\"white-space:pre;overflow-x:auto;line-height:normal;font-family:Menlo,'DejaVu Sans Mono',consolas,'Courier New',monospace\"><span style=\"font-weight: bold\"> Trainable params: </span><span style=\"color: #00af00; text-decoration-color: #00af00\">648,579</span> (2.47 MB)\n",
       "</pre>\n"
      ],
      "text/plain": [
       "\u001b[1m Trainable params: \u001b[0m\u001b[38;5;34m648,579\u001b[0m (2.47 MB)\n"
      ]
     },
     "metadata": {},
     "output_type": "display_data"
    },
    {
     "data": {
      "text/html": [
       "<pre style=\"white-space:pre;overflow-x:auto;line-height:normal;font-family:Menlo,'DejaVu Sans Mono',consolas,'Courier New',monospace\"><span style=\"font-weight: bold\"> Non-trainable params: </span><span style=\"color: #00af00; text-decoration-color: #00af00\">0</span> (0.00 B)\n",
       "</pre>\n"
      ],
      "text/plain": [
       "\u001b[1m Non-trainable params: \u001b[0m\u001b[38;5;34m0\u001b[0m (0.00 B)\n"
      ]
     },
     "metadata": {},
     "output_type": "display_data"
    },
    {
     "name": "stdout",
     "output_type": "stream",
     "text": [
      "Epoch 1/10\n"
     ]
    },
    {
     "name": "stderr",
     "output_type": "stream",
     "text": [
      "2025-05-12 06:28:55.925484: W external/local_xla/xla/tsl/framework/cpu_allocator_impl.cc:83] Allocation of 548480000 exceeds 10% of free system memory.\n"
     ]
    },
    {
     "name": "stdout",
     "output_type": "stream",
     "text": [
      "\u001b[1m857/857\u001b[0m \u001b[32m━━━━━━━━━━━━━━━━━━━━\u001b[0m\u001b[37m\u001b[0m \u001b[1m4s\u001b[0m 3ms/step - accuracy: 0.5564 - loss: 0.9042 - val_accuracy: 0.7116 - val_loss: 0.6704\n",
      "Epoch 2/10\n",
      "\u001b[1m857/857\u001b[0m \u001b[32m━━━━━━━━━━━━━━━━━━━━\u001b[0m\u001b[37m\u001b[0m \u001b[1m3s\u001b[0m 3ms/step - accuracy: 0.7489 - loss: 0.6139 - val_accuracy: 0.7182 - val_loss: 0.6724\n",
      "Epoch 3/10\n",
      "\u001b[1m857/857\u001b[0m \u001b[32m━━━━━━━━━━━━━━━━━━━━\u001b[0m\u001b[37m\u001b[0m \u001b[1m3s\u001b[0m 3ms/step - accuracy: 0.7953 - loss: 0.5136 - val_accuracy: 0.7169 - val_loss: 0.7072\n",
      "Epoch 4/10\n",
      "\u001b[1m857/857\u001b[0m \u001b[32m━━━━━━━━━━━━━━━━━━━━\u001b[0m\u001b[37m\u001b[0m \u001b[1m3s\u001b[0m 3ms/step - accuracy: 0.8325 - loss: 0.4335 - val_accuracy: 0.7198 - val_loss: 0.7606\n",
      "\u001b[1m239/239\u001b[0m \u001b[32m━━━━━━━━━━━━━━━━━━━━\u001b[0m\u001b[37m\u001b[0m \u001b[1m0s\u001b[0m 641us/step\n",
      "Rapport de Classification pour MLP (TF-IDF):\n",
      "              precision    recall  f1-score   support\n",
      "\n",
      "    negative       0.66      0.53      0.59      1709\n",
      "     neutral       0.72      0.73      0.72      2436\n",
      "    positive       0.74      0.79      0.76      3474\n",
      "\n",
      "    accuracy                           0.72      7619\n",
      "   macro avg       0.70      0.69      0.69      7619\n",
      "weighted avg       0.71      0.72      0.71      7619\n",
      "\n"
     ]
    },
    {
     "data": {
      "image/png": "[encoded data removed]",
      "text/plain": [
       "<Figure size 600x400 with 2 Axes>"
      ]
     },
     "metadata": {},
     "output_type": "display_data"
    }
   ],
   "source": [
    "MLP_EPOCHS = 10 # Augmenter pour de meilleurs résultats, mais attention au surapprentissage\n",
    "MLP_BATCH_SIZE = 32\n",
    "\n",
    "mlp_model = Sequential([\n",
    "    Dense(128, activation='relu', input_shape=(X_train_tfidf_dense_mlp.shape[1],)),\n",
    "    Dropout(0.5),\n",
    "    Dense(64, activation='relu'),\n",
    "    Dropout(0.3),\n",
    "    Dense(num_classes, activation='softmax')\n",
    "])\n",
    "mlp_model.compile(optimizer=tf.keras.optimizers.Adam(learning_rate=0.001),\n",
    "                  loss='categorical_crossentropy',\n",
    "                  metrics=['accuracy'])\n",
    "mlp_model.summary()\n",
    "\n",
    "early_stopping_mlp = EarlyStopping(monitor='val_loss', patience=3, restore_best_weights=True)\n",
    "\n",
    "history_mlp = mlp_model.fit(X_train_tfidf_dense_mlp, y_train_categorical,\n",
    "                            epochs=MLP_EPOCHS,\n",
    "                            batch_size=MLP_BATCH_SIZE,\n",
    "                            validation_split=0.1, # Utilise 10% des données d'entraînement pour la validation\n",
    "                            callbacks=[early_stopping_mlp],\n",
    "                            verbose=1)\n",
    "\n",
    "loss_mlp, acc_mlp = mlp_model.evaluate(X_test_tfidf_dense_mlp, y_test_categorical, verbose=0)\n",
    "y_pred_mlp_probs = mlp_model.predict(X_test_tfidf_dense_mlp)\n",
    "y_pred_mlp_encoded = np.argmax(y_pred_mlp_probs, axis=1)\n",
    "y_pred_mlp_str = label_encoder_global.inverse_transform(y_pred_mlp_encoded)\n",
    "\n",
    "evaluate_model(\"MLP (TF-IDF)\", y_test_str, y_pred_mlp_str)\n",
    "# Remplacer la valeur d'accuracy par celle obtenue sur le test set si EarlyStopping est utilisé\n",
    "results_summary[\"MLP (TF-IDF)\"]['accuracy'] = acc_mlp"
   ]
  },
  {
   "cell_type": "markdown",
   "metadata": {},
   "source": [
    "### 6.b. Réseau Récurrent (LSTM) avec Embeddings\n",
    "\n",
    "Les LSTM (Long Short-Term Memory) sont bien adaptés au traitement de séquences comme le texte. Nous utiliserons une couche d'embedding apprise conjointement avec le modèle."
   ]
  },
  {
   "cell_type": "code",
   "execution_count": 22,
   "metadata": {},
   "outputs": [
    {
     "name": "stdout",
     "output_type": "stream",
     "text": [
      "--- 6.b. Réseau Récurrent (LSTM) ---\n"
     ]
    }
   ],
   "source": [
    "print(\"--- 6.b. Réseau Récurrent (LSTM) ---\")\n",
    "NN_MAX_WORDS = 15000      # Nombre max de mots à garder dans le vocabulaire du Tokenizer Keras\n",
    "NN_MAX_SEQUENCE_LENGTH = 100 # Longueur max des séquences (tweets)\n",
    "NN_EMBEDDING_DIM = 100    # Dimension de la couche d'embedding (peut être la même que W2V_VECTOR_SIZE)\n",
    "LSTM_EPOCHS = 5           # Peut nécessiter plus d'époques, mais attention au temps\n",
    "LSTM_BATCH_SIZE = 64"
   ]
  },
  {
   "cell_type": "code",
   "execution_count": 23,
   "metadata": {},
   "outputs": [
    {
     "name": "stdout",
     "output_type": "stream",
     "text": [
      "Vocabulaire du Tokenizer Keras contient 40361 mots uniques.\n",
      "Shape de X_train_padded: (30472, 100)\n"
     ]
    }
   ],
   "source": [
    "keras_tokenizer = KerasTokenizer(num_words=NN_MAX_WORDS, oov_token=\"<unk>\") # <unk> pour les mots inconnus\n",
    "keras_tokenizer.fit_on_texts(X_train_text)\n",
    "\n",
    "X_train_sequences = keras_tokenizer.texts_to_sequences(X_train_text)\n",
    "X_test_sequences = keras_tokenizer.texts_to_sequences(X_test_text)\n",
    "\n",
    "X_train_padded = pad_sequences(X_train_sequences, maxlen=NN_MAX_SEQUENCE_LENGTH, padding='post', truncating='post')\n",
    "X_test_padded = pad_sequences(X_test_sequences, maxlen=NN_MAX_SEQUENCE_LENGTH, padding='post', truncating='post')\n",
    "\n",
    "word_index_keras = keras_tokenizer.word_index\n",
    "print(f\"Vocabulaire du Tokenizer Keras contient {len(word_index_keras)} mots uniques.\")\n",
    "print(f\"Shape de X_train_padded: {X_train_padded.shape}\")"
   ]
  },
  {
   "cell_type": "code",
   "execution_count": 24,
   "metadata": {},
   "outputs": [
    {
     "name": "stdout",
     "output_type": "stream",
     "text": [
      "14847 vecteurs de mots chargés depuis Word2Vec dans la matrice d'embedding LSTM.\n"
     ]
    }
   ],
   "source": [
    "# Optionnel : Utiliser les embeddings Word2Vec pré-entraînés comme poids initiaux pour la couche Embedding\n",
    "# Cela peut aider si le dataset d'entraînement est petit.\n",
    "\n",
    "embedding_matrix_lstm = np.zeros((min(NN_MAX_WORDS, len(word_index_keras) + 1), NN_EMBEDDING_DIM))\n",
    "num_w2v_loaded = 0\n",
    "for word, i in word_index_keras.items():\n",
    "    if i >= NN_MAX_WORDS:\n",
    "        continue\n",
    "    if word in w2v_model.wv: # Utiliser le w2v_model entraîné précédemment\n",
    "        embedding_vector = w2v_model.wv[word]\n",
    "        embedding_matrix_lstm[i] = embedding_vector\n",
    "        num_w2v_loaded +=1\n",
    "\n",
    "print(f\"{num_w2v_loaded} vecteurs de mots chargés depuis Word2Vec dans la matrice d'embedding LSTM.\")\n",
    "\n",
    "# Si True, les poids de la couche Embedding seront figés (ceux de Word2Vec).\n",
    "# Si False, ils seront fine-tunés pendant l'entraînement du LSTM.\n",
    "USE_PRETRAINED_W2V_FOR_LSTM = True\n",
    "TRAINABLE_EMBEDDING_LSTM = not USE_PRETRAINED_W2V_FOR_LSTM if USE_PRETRAINED_W2V_FOR_LSTM else True"
   ]
  },
  {
   "cell_type": "code",
   "execution_count": 25,
   "metadata": {},
   "outputs": [
    {
     "name": "stdout",
     "output_type": "stream",
     "text": [
      "--- 6.b. Réseau Récurrent (LSTM) - AMÉLIORÉ avec Word2Vec ---\n",
      "Tokenisation des textes pour le LSTM avec Word2Vec...\n",
      "Vocabulaire du Tokenizer Keras (pour W2V LSTM) contient 40361 mots uniques.\n",
      "Shape de X_train_padded (pour W2V LSTM): (30472, 100)\n",
      "Création de la matrice d'embedding à partir de votre modèle Word2Vec...\n",
      "14847 vecteurs de mots chargés depuis VOTRE Word2Vec dans la matrice d'embedding LSTM.\n",
      "Calcul des poids des classes pour la fonction de perte...\n",
      "Poids des classes calculés (pour W2V LSTM): {0: 1.4865115371481536, 1: 1.0423122969043954, 2: 0.73105897029893}\n",
      "Définition de l'architecture du modèle LSTM amélioré...\n",
      "Résumé du modèle LSTM amélioré:\n"
     ]
    },
    {
     "data": {
      "text/html": [
       "<pre style=\"white-space:pre;overflow-x:auto;line-height:normal;font-family:Menlo,'DejaVu Sans Mono',consolas,'Courier New',monospace\"><span style=\"font-weight: bold\">Model: \"sequential_1\"</span>\n",
       "</pre>\n"
      ],
      "text/plain": [
       "\u001b[1mModel: \"sequential_1\"\u001b[0m\n"
      ]
     },
     "metadata": {},
     "output_type": "display_data"
    },
    {
     "data": {
      "text/html": [
       "<pre style=\"white-space:pre;overflow-x:auto;line-height:normal;font-family:Menlo,'DejaVu Sans Mono',consolas,'Courier New',monospace\">┏━━━━━━━━━━━━━━━━━━━━━━━━━━━━━━━━━┳━━━━━━━━━━━━━━━━━━━━━━━━┳━━━━━━━━━━━━━━━┓\n",
       "┃<span style=\"font-weight: bold\"> Layer (type)                    </span>┃<span style=\"font-weight: bold\"> Output Shape           </span>┃<span style=\"font-weight: bold\">       Param # </span>┃\n",
       "┡━━━━━━━━━━━━━━━━━━━━━━━━━━━━━━━━━╇━━━━━━━━━━━━━━━━━━━━━━━━╇━━━━━━━━━━━━━━━┩\n",
       "│ word_embedding (<span style=\"color: #0087ff; text-decoration-color: #0087ff\">Embedding</span>)      │ (<span style=\"color: #00d7ff; text-decoration-color: #00d7ff\">None</span>, <span style=\"color: #00af00; text-decoration-color: #00af00\">100</span>, <span style=\"color: #00af00; text-decoration-color: #00af00\">100</span>)       │     <span style=\"color: #00af00; text-decoration-color: #00af00\">1,500,000</span> │\n",
       "├─────────────────────────────────┼────────────────────────┼───────────────┤\n",
       "│ bidirectional_lstm_1            │ (<span style=\"color: #00d7ff; text-decoration-color: #00d7ff\">None</span>, <span style=\"color: #00af00; text-decoration-color: #00af00\">100</span>, <span style=\"color: #00af00; text-decoration-color: #00af00\">256</span>)       │       <span style=\"color: #00af00; text-decoration-color: #00af00\">234,496</span> │\n",
       "│ (<span style=\"color: #0087ff; text-decoration-color: #0087ff\">Bidirectional</span>)                 │                        │               │\n",
       "├─────────────────────────────────┼────────────────────────┼───────────────┤\n",
       "│ bidirectional_lstm_2            │ (<span style=\"color: #00d7ff; text-decoration-color: #00d7ff\">None</span>, <span style=\"color: #00af00; text-decoration-color: #00af00\">128</span>)            │       <span style=\"color: #00af00; text-decoration-color: #00af00\">164,352</span> │\n",
       "│ (<span style=\"color: #0087ff; text-decoration-color: #0087ff\">Bidirectional</span>)                 │                        │               │\n",
       "├─────────────────────────────────┼────────────────────────┼───────────────┤\n",
       "│ dense_intermediate (<span style=\"color: #0087ff; text-decoration-color: #0087ff\">Dense</span>)      │ (<span style=\"color: #00d7ff; text-decoration-color: #00d7ff\">None</span>, <span style=\"color: #00af00; text-decoration-color: #00af00\">64</span>)             │         <span style=\"color: #00af00; text-decoration-color: #00af00\">8,256</span> │\n",
       "├─────────────────────────────────┼────────────────────────┼───────────────┤\n",
       "│ dropout_final (<span style=\"color: #0087ff; text-decoration-color: #0087ff\">Dropout</span>)         │ (<span style=\"color: #00d7ff; text-decoration-color: #00d7ff\">None</span>, <span style=\"color: #00af00; text-decoration-color: #00af00\">64</span>)             │             <span style=\"color: #00af00; text-decoration-color: #00af00\">0</span> │\n",
       "├─────────────────────────────────┼────────────────────────┼───────────────┤\n",
       "│ output_softmax (<span style=\"color: #0087ff; text-decoration-color: #0087ff\">Dense</span>)          │ (<span style=\"color: #00d7ff; text-decoration-color: #00d7ff\">None</span>, <span style=\"color: #00af00; text-decoration-color: #00af00\">3</span>)              │           <span style=\"color: #00af00; text-decoration-color: #00af00\">195</span> │\n",
       "└─────────────────────────────────┴────────────────────────┴───────────────┘\n",
       "</pre>\n"
      ],
      "text/plain": [
       "┏━━━━━━━━━━━━━━━━━━━━━━━━━━━━━━━━━┳━━━━━━━━━━━━━━━━━━━━━━━━┳━━━━━━━━━━━━━━━┓\n",
       "┃\u001b[1m \u001b[0m\u001b[1mLayer (type)                   \u001b[0m\u001b[1m \u001b[0m┃\u001b[1m \u001b[0m\u001b[1mOutput Shape          \u001b[0m\u001b[1m \u001b[0m┃\u001b[1m \u001b[0m\u001b[1m      Param #\u001b[0m\u001b[1m \u001b[0m┃\n",
       "┡━━━━━━━━━━━━━━━━━━━━━━━━━━━━━━━━━╇━━━━━━━━━━━━━━━━━━━━━━━━╇━━━━━━━━━━━━━━━┩\n",
       "│ word_embedding (\u001b[38;5;33mEmbedding\u001b[0m)      │ (\u001b[38;5;45mNone\u001b[0m, \u001b[38;5;34m100\u001b[0m, \u001b[38;5;34m100\u001b[0m)       │     \u001b[38;5;34m1,500,000\u001b[0m │\n",
       "├─────────────────────────────────┼────────────────────────┼───────────────┤\n",
       "│ bidirectional_lstm_1            │ (\u001b[38;5;45mNone\u001b[0m, \u001b[38;5;34m100\u001b[0m, \u001b[38;5;34m256\u001b[0m)       │       \u001b[38;5;34m234,496\u001b[0m │\n",
       "│ (\u001b[38;5;33mBidirectional\u001b[0m)                 │                        │               │\n",
       "├─────────────────────────────────┼────────────────────────┼───────────────┤\n",
       "│ bidirectional_lstm_2            │ (\u001b[38;5;45mNone\u001b[0m, \u001b[38;5;34m128\u001b[0m)            │       \u001b[38;5;34m164,352\u001b[0m │\n",
       "│ (\u001b[38;5;33mBidirectional\u001b[0m)                 │                        │               │\n",
       "├─────────────────────────────────┼────────────────────────┼───────────────┤\n",
       "│ dense_intermediate (\u001b[38;5;33mDense\u001b[0m)      │ (\u001b[38;5;45mNone\u001b[0m, \u001b[38;5;34m64\u001b[0m)             │         \u001b[38;5;34m8,256\u001b[0m │\n",
       "├─────────────────────────────────┼────────────────────────┼───────────────┤\n",
       "│ dropout_final (\u001b[38;5;33mDropout\u001b[0m)         │ (\u001b[38;5;45mNone\u001b[0m, \u001b[38;5;34m64\u001b[0m)             │             \u001b[38;5;34m0\u001b[0m │\n",
       "├─────────────────────────────────┼────────────────────────┼───────────────┤\n",
       "│ output_softmax (\u001b[38;5;33mDense\u001b[0m)          │ (\u001b[38;5;45mNone\u001b[0m, \u001b[38;5;34m3\u001b[0m)              │           \u001b[38;5;34m195\u001b[0m │\n",
       "└─────────────────────────────────┴────────────────────────┴───────────────┘\n"
      ]
     },
     "metadata": {},
     "output_type": "display_data"
    },
    {
     "data": {
      "text/html": [
       "<pre style=\"white-space:pre;overflow-x:auto;line-height:normal;font-family:Menlo,'DejaVu Sans Mono',consolas,'Courier New',monospace\"><span style=\"font-weight: bold\"> Total params: </span><span style=\"color: #00af00; text-decoration-color: #00af00\">1,907,299</span> (7.28 MB)\n",
       "</pre>\n"
      ],
      "text/plain": [
       "\u001b[1m Total params: \u001b[0m\u001b[38;5;34m1,907,299\u001b[0m (7.28 MB)\n"
      ]
     },
     "metadata": {},
     "output_type": "display_data"
    },
    {
     "data": {
      "text/html": [
       "<pre style=\"white-space:pre;overflow-x:auto;line-height:normal;font-family:Menlo,'DejaVu Sans Mono',consolas,'Courier New',monospace\"><span style=\"font-weight: bold\"> Trainable params: </span><span style=\"color: #00af00; text-decoration-color: #00af00\">1,907,299</span> (7.28 MB)\n",
       "</pre>\n"
      ],
      "text/plain": [
       "\u001b[1m Trainable params: \u001b[0m\u001b[38;5;34m1,907,299\u001b[0m (7.28 MB)\n"
      ]
     },
     "metadata": {},
     "output_type": "display_data"
    },
    {
     "data": {
      "text/html": [
       "<pre style=\"white-space:pre;overflow-x:auto;line-height:normal;font-family:Menlo,'DejaVu Sans Mono',consolas,'Courier New',monospace\"><span style=\"font-weight: bold\"> Non-trainable params: </span><span style=\"color: #00af00; text-decoration-color: #00af00\">0</span> (0.00 B)\n",
       "</pre>\n"
      ],
      "text/plain": [
       "\u001b[1m Non-trainable params: \u001b[0m\u001b[38;5;34m0\u001b[0m (0.00 B)\n"
      ]
     },
     "metadata": {},
     "output_type": "display_data"
    },
    {
     "name": "stdout",
     "output_type": "stream",
     "text": [
      "Début de l'entraînement du modèle LSTM amélioré avec Word2Vec...\n",
      "Epoch 1/15\n",
      "\u001b[1m429/429\u001b[0m \u001b[32m━━━━━━━━━━━━━━━━━━━━\u001b[0m\u001b[37m\u001b[0m \u001b[1m78s\u001b[0m 167ms/step - accuracy: 0.4465 - loss: 1.0969 - val_accuracy: 0.4528 - val_loss: 0.9711 - learning_rate: 0.0010\n",
      "Epoch 2/15\n",
      "\u001b[1m429/429\u001b[0m \u001b[32m━━━━━━━━━━━━━━━━━━━━\u001b[0m\u001b[37m\u001b[0m \u001b[1m72s\u001b[0m 169ms/step - accuracy: 0.5829 - loss: 0.8801 - val_accuracy: 0.6660 - val_loss: 0.7454 - learning_rate: 0.0010\n",
      "Epoch 3/15\n",
      "\u001b[1m429/429\u001b[0m \u001b[32m━━━━━━━━━━━━━━━━━━━━\u001b[0m\u001b[37m\u001b[0m \u001b[1m73s\u001b[0m 170ms/step - accuracy: 0.7390 - loss: 0.6295 - val_accuracy: 0.7080 - val_loss: 0.7610 - learning_rate: 0.0010\n",
      "Epoch 4/15\n",
      "\u001b[1m429/429\u001b[0m \u001b[32m━━━━━━━━━━━━━━━━━━━━\u001b[0m\u001b[37m\u001b[0m \u001b[1m0s\u001b[0m 166ms/step - accuracy: 0.8217 - loss: 0.4732\n",
      "Epoch 4: ReduceLROnPlateau reducing learning rate to 0.00020000000949949026.\n",
      "\u001b[1m429/429\u001b[0m \u001b[32m━━━━━━━━━━━━━━━━━━━━\u001b[0m\u001b[37m\u001b[0m \u001b[1m73s\u001b[0m 170ms/step - accuracy: 0.8217 - loss: 0.4732 - val_accuracy: 0.7208 - val_loss: 0.8253 - learning_rate: 0.0010\n",
      "Epoch 5/15\n",
      "\u001b[1m429/429\u001b[0m \u001b[32m━━━━━━━━━━━━━━━━━━━━\u001b[0m\u001b[37m\u001b[0m \u001b[1m71s\u001b[0m 165ms/step - accuracy: 0.8695 - loss: 0.3607 - val_accuracy: 0.7323 - val_loss: 0.8774 - learning_rate: 2.0000e-04\n",
      "Epoch 6/15\n",
      "\u001b[1m429/429\u001b[0m \u001b[32m━━━━━━━━━━━━━━━━━━━━\u001b[0m\u001b[37m\u001b[0m \u001b[1m0s\u001b[0m 161ms/step - accuracy: 0.8803 - loss: 0.3310\n",
      "Epoch 6: ReduceLROnPlateau reducing learning rate to 4.0000001899898055e-05.\n",
      "\u001b[1m429/429\u001b[0m \u001b[32m━━━━━━━━━━━━━━━━━━━━\u001b[0m\u001b[37m\u001b[0m \u001b[1m71s\u001b[0m 165ms/step - accuracy: 0.8803 - loss: 0.3310 - val_accuracy: 0.7339 - val_loss: 0.9133 - learning_rate: 2.0000e-04\n",
      "Epoch 6: early stopping\n",
      "Restoring model weights from the end of the best epoch: 2.\n",
      "Évaluation du modèle LSTM amélioré sur le jeu de test...\n",
      "Génération des prédictions et du rapport de classification...\n",
      "\u001b[1m239/239\u001b[0m \u001b[32m━━━━━━━━━━━━━━━━━━━━\u001b[0m\u001b[37m\u001b[0m \u001b[1m8s\u001b[0m 28ms/step\n",
      "Rapport de Classification pour Bidirectional LSTM (Improved with fine-tuned Word2Vec):\n",
      "              precision    recall  f1-score   support\n",
      "\n",
      "    negative       0.48      0.79      0.60      1709\n",
      "     neutral       0.73      0.78      0.75      2436\n",
      "    positive       0.87      0.55      0.67      3474\n",
      "\n",
      "    accuracy                           0.68      7619\n",
      "   macro avg       0.69      0.71      0.68      7619\n",
      "weighted avg       0.74      0.68      0.68      7619\n",
      "\n"
     ]
    },
    {
     "data": {
      "image/png": "[encoded data removed]",
      "text/plain": [
       "<Figure size 600x400 with 2 Axes>"
      ]
     },
     "metadata": {},
     "output_type": "display_data"
    },
    {
     "name": "stdout",
     "output_type": "stream",
     "text": [
      "Analyse du LSTM amélioré avec Word2Vec terminée.\n"
     ]
    }
   ],
   "source": [
    "print(\"--- 6.b. Réseau Récurrent (LSTM) - AMÉLIORÉ avec Word2Vec ---\")\n",
    "\n",
    "# --- Paramètres Configurables ---\n",
    "# Ces paramètres sont essentiels pour la performance et la reproductibilité.\n",
    "# NN_MAX_WORDS: Taille maximale du vocabulaire à considérer par le Tokenizer Keras.\n",
    "# NN_MAX_SEQUENCE_LENGTH: Longueur à laquelle toutes les séquences de mots (tweets) seront paddées ou tronquées.\n",
    "# NN_EMBEDDING_DIM: Dimension des vecteurs d'embedding (doit correspondre à la dimension de vos embeddings Word2Vec).\n",
    "# LSTM_EPOCHS_IMPROVED_W2V: Nombre maximal d'époques pour l'entraînement. EarlyStopping peut l'arrêter plus tôt.\n",
    "# LSTM_BATCH_SIZE_IMPROVED_W2V: Nombre d'échantillons par mise à jour des poids du gradient.\n",
    "# LSTM_LEARNING_RATE_W2V: Taux d'apprentissage initial pour l'optimiseur Adam.\n",
    "\n",
    "# Assurez-vous que ces constantes sont définies à partir de vos étapes précédentes.\n",
    "# Exemple de valeurs typiques (adaptez si vos variables ont d'autres noms ou valeurs):\n",
    "# NN_MAX_WORDS = 15000 (valeur utilisée précédemment pour Keras Tokenizer)\n",
    "# NN_MAX_SEQUENCE_LENGTH = 100 (valeur utilisée précédemment pour le padding)\n",
    "# NN_EMBEDDING_DIM = 100 (si W2V_VECTOR_SIZE était 100)\n",
    "\n",
    "LSTM_EPOCHS_IMPROVED_W2V = 15\n",
    "LSTM_BATCH_SIZE_IMPROVED_W2V = 64\n",
    "LSTM_LEARNING_RATE_W2V = 0.001\n",
    "\n",
    "# --- Vérification des variables prérequises ---\n",
    "# Ce code suppose que les variables suivantes sont déjà définies et chargées\n",
    "# à partir des étapes précédentes de votre notebook :\n",
    "# - X_train_text, X_test_text: Textes nettoyés pour l'entraînement et le test.\n",
    "# - y_train_encoded, y_test_encoded: Labels encodés numériquement (ex: 0, 1, 2) pour l'entraînement et le test.\n",
    "# - y_train_categorical, y_test_categorical: Labels one-hot encodés pour l'entraînement et le test.\n",
    "# - label_encoder_global: L'instance de LabelEncoder fittée sur vos labels string.\n",
    "# - num_classes: Le nombre de classes de sentiment uniques.\n",
    "# - w2v_model: Votre modèle Gensim Word2Vec entraîné.\n",
    "# - SEED: La graine aléatoire pour la reproductibilité.\n",
    "\n",
    "# --- Tokenisation Keras (si non déjà faite ou pour s'assurer de la cohérence) ---\n",
    "# Si X_train_padded, X_test_padded, word_index_keras sont déjà définis avec les bons paramètres,\n",
    "# vous pouvez sauter cette re-tokenisation. Sinon, il est crucial de la refaire ici\n",
    "# pour s'assurer que le word_index correspond à embedding_matrix_lstm.\n",
    "\n",
    "print(\"Tokenisation des textes pour le LSTM avec Word2Vec...\")\n",
    "keras_tokenizer_w2v_imp = KerasTokenizer(num_words=NN_MAX_WORDS, oov_token=\"<unk>\") # oov_token gère les mots hors vocabulaire\n",
    "keras_tokenizer_w2v_imp.fit_on_texts(X_train_text)\n",
    "word_index_keras = keras_tokenizer_w2v_imp.word_index # Remplacer l'ancien word_index si vous re-tokenisez\n",
    "\n",
    "X_train_sequences_w2v_imp = keras_tokenizer_w2v_imp.texts_to_sequences(X_train_text)\n",
    "X_test_sequences_w2v_imp = keras_tokenizer_w2v_imp.texts_to_sequences(X_test_text)\n",
    "\n",
    "# Remplacer X_train_padded et X_test_padded par les nouvelles séquences paddées\n",
    "X_train_padded = pad_sequences(X_train_sequences_w2v_imp, maxlen=NN_MAX_SEQUENCE_LENGTH, padding='post', truncating='post')\n",
    "X_test_padded = pad_sequences(X_test_sequences_w2v_imp, maxlen=NN_MAX_SEQUENCE_LENGTH, padding='post', truncating='post')\n",
    "\n",
    "print(f\"Vocabulaire du Tokenizer Keras (pour W2V LSTM) contient {len(word_index_keras)} mots uniques.\")\n",
    "print(f\"Shape de X_train_padded (pour W2V LSTM): {X_train_padded.shape}\")\n",
    "\n",
    "\n",
    "# --- Création de la Matrice d'Embedding Word2Vec ---\n",
    "# Cette matrice sert à initialiser les poids de la couche Embedding du LSTM.\n",
    "# Elle mappe les indices de mots du Tokenizer Keras aux vecteurs de votre modèle Word2Vec.\n",
    "print(\"Création de la matrice d'embedding à partir de votre modèle Word2Vec...\")\n",
    "embedding_matrix_lstm = np.zeros((min(NN_MAX_WORDS, len(word_index_keras) + 1), NN_EMBEDDING_DIM))\n",
    "num_w2v_loaded_in_matrix = 0\n",
    "for word, i in word_index_keras.items():\n",
    "    if i >= NN_MAX_WORDS: # Ne considérer que les mots dans la limite du vocabulaire du Tokenizer\n",
    "        continue\n",
    "    if word in w2v_model.wv: # Vérifier si le mot existe dans le vocabulaire Word2Vec\n",
    "        embedding_vector = w2v_model.wv[word]\n",
    "        embedding_matrix_lstm[i] = embedding_vector # Assigner le vecteur\n",
    "        num_w2v_loaded_in_matrix +=1\n",
    "print(f\"{num_w2v_loaded_in_matrix} vecteurs de mots chargés depuis VOTRE Word2Vec dans la matrice d'embedding LSTM.\")\n",
    "\n",
    "\n",
    "# --- Calcul des Poids des Classes ---\n",
    "# Utile pour les datasets déséquilibrés. Cela donne plus de poids dans la fonction de perte\n",
    "# aux erreurs faites sur les classes minoritaires.\n",
    "print(\"Calcul des poids des classes pour la fonction de perte...\")\n",
    "class_weights_values_w2v = class_weight.compute_class_weight(\n",
    "    class_weight='balanced',\n",
    "    classes=np.unique(y_train_encoded), # Utilise les labels encodés numériquement\n",
    "    y=y_train_encoded\n",
    ")\n",
    "class_weights_dict_w2v = dict(enumerate(class_weights_values_w2v))\n",
    "print(f\"Poids des classes calculés (pour W2V LSTM): {class_weights_dict_w2v}\")\n",
    "\n",
    "\n",
    "# --- Définition du Modèle LSTM Amélioré avec vos Word2Vec ---\n",
    "print(\"Définition de l'architecture du modèle LSTM amélioré...\")\n",
    "lstm_model_improved_w2v = Sequential([\n",
    "    # Couche d'Input explicite (bonne pratique, aide Keras à construire le modèle tôt)\n",
    "    Input(shape=(NN_MAX_SEQUENCE_LENGTH,), name=\"input_sequence\"),\n",
    "\n",
    "    # Couche d'Embedding\n",
    "    # input_dim: Taille du vocabulaire (+1 pour le padding/OOV si l'indice 0 est utilisé).\n",
    "    # output_dim: Dimension des vecteurs d'embedding.\n",
    "    # weights: Initialise les poids avec la matrice Word2Vec pré-calculée.\n",
    "    # trainable=True: TRÈS IMPORTANT! Permet au réseau d'ajuster (fine-tuner) ces embeddings\n",
    "    #                 Word2Vec pendant l'entraînement pour les adapter à la tâche spécifique.\n",
    "    Embedding(input_dim=min(NN_MAX_WORDS, len(word_index_keras) + 1),\n",
    "              output_dim=NN_EMBEDDING_DIM,\n",
    "              weights=[embedding_matrix_lstm],\n",
    "              trainable=True, # Fine-tuning des embeddings Word2Vec\n",
    "              name=\"word_embedding\"\n",
    "              ),\n",
    "\n",
    "    # Couches LSTM Bidirectionnelles\n",
    "    # Bidirectional permet au LSTM de traiter la séquence dans les deux sens (passé et futur).\n",
    "    # units: Dimension de l'espace de sortie (et de l'état interne).\n",
    "    # dropout: Taux de dropout pour les connexions linéaires d'entrée.\n",
    "    # recurrent_dropout: Taux de dropout pour les connexions récurrentes (états).\n",
    "    # return_sequences=True: Nécessaire si la couche LSTM suivante attend une séquence en entrée.\n",
    "    Bidirectional(LSTM(128, dropout=0.4, recurrent_dropout=0.4, return_sequences=True), name=\"bidirectional_lstm_1\"),\n",
    "    Bidirectional(LSTM(64, dropout=0.4, recurrent_dropout=0.4), name=\"bidirectional_lstm_2\"), # La dernière couche LSTM ne retourne pas de séquence\n",
    "\n",
    "    # Couche Dense intermédiaire\n",
    "    # kernel_regularizer: Ajoute une pénalité L2 aux poids pour réduire le surapprentissage.\n",
    "    Dense(64, activation='relu', kernel_regularizer=tf.keras.regularizers.l2(0.001), name=\"dense_intermediate\"),\n",
    "    Dropout(0.5, name=\"dropout_final\"), # Dropout avant la couche de sortie\n",
    "\n",
    "    # Couche de Sortie\n",
    "    # units: Nombre de classes de sortie.\n",
    "    # activation='softmax': Pour la classification multi-classe, produit une distribution de probabilité.\n",
    "    Dense(num_classes, activation='softmax', name=\"output_softmax\")\n",
    "])\n",
    "\n",
    "# --- Compilation du Modèle ---\n",
    "# optimizer: Algorithme pour mettre à jour les poids (Adam est un choix courant).\n",
    "# loss: Fonction à minimiser (categorical_crossentropy pour la classification multi-classe avec labels one-hot).\n",
    "# metrics: Métriques à suivre pendant l'entraînement.\n",
    "optimizer_lstm_w2v = tf.keras.optimizers.Adam(learning_rate=LSTM_LEARNING_RATE_W2V)\n",
    "lstm_model_improved_w2v.compile(optimizer=optimizer_lstm_w2v,\n",
    "                                loss='categorical_crossentropy',\n",
    "                                metrics=['accuracy'])\n",
    "\n",
    "# --- Affichage du Résumé du Modèle ---\n",
    "# Maintenant que la couche Input est définie, le summary devrait être complet.\n",
    "print(\"Résumé du modèle LSTM amélioré:\")\n",
    "lstm_model_improved_w2v.summary()\n",
    "\n",
    "# --- Callbacks pour l'Entraînement ---\n",
    "# EarlyStopping: Arrête l'entraînement si une métrique monitorée (val_loss) ne s'améliore plus\n",
    "#                après un certain nombre d'époques (patience). Restore_best_weights garde les\n",
    "#                meilleurs poids trouvés.\n",
    "# ReduceLROnPlateau: Réduit le taux d'apprentissage si la métrique monitorée stagne.\n",
    "#                    Cela peut aider le modèle à converger vers un meilleur minimum.\n",
    "early_stopping_lstm_imp_w2v = EarlyStopping(monitor='val_loss', patience=4, restore_best_weights=True, verbose=1)\n",
    "reduce_lr_lstm_imp_w2v = ReduceLROnPlateau(monitor='val_loss', factor=0.2, patience=2, min_lr=0.000001, verbose=1) # min_lr ajusté\n",
    "\n",
    "# --- Entraînement du Modèle ---\n",
    "print(\"Début de l'entraînement du modèle LSTM amélioré avec Word2Vec...\")\n",
    "history_lstm_improved_w2v = lstm_model_improved_w2v.fit(\n",
    "    X_train_padded,       # Données d'entraînement paddées\n",
    "    y_train_categorical,  # Labels d'entraînement one-hot encodés\n",
    "    epochs=LSTM_EPOCHS_IMPROVED_W2V,\n",
    "    batch_size=LSTM_BATCH_SIZE_IMPROVED_W2V,\n",
    "    validation_split=0.1, # Utilise 10% des données d'entraînement pour la validation pendant l'entraînement\n",
    "    callbacks=[early_stopping_lstm_imp_w2v, reduce_lr_lstm_imp_w2v],\n",
    "    class_weight=class_weights_dict_w2v, # Appliquer les poids des classes pour gérer le déséquilibre\n",
    "    verbose=1 # Afficher la progression de l'entraînement\n",
    ")\n",
    "\n",
    "# --- Évaluation du Modèle sur le Jeu de Test ---\n",
    "print(\"Évaluation du modèle LSTM amélioré sur le jeu de test...\")\n",
    "loss_lstm_imp_w2v, acc_lstm_imp_w2v = lstm_model_improved_w2v.evaluate(\n",
    "    X_test_padded,        # Données de test paddées\n",
    "    y_test_categorical,   # Labels de test one-hot encodés\n",
    "    verbose=0 # Pas besoin d'afficher la progression ici\n",
    ")\n",
    "\n",
    "# --- Prédictions et Rapport de Classification ---\n",
    "print(\"Génération des prédictions et du rapport de classification...\")\n",
    "y_pred_lstm_probs_imp_w2v = lstm_model_improved_w2v.predict(X_test_padded)\n",
    "y_pred_lstm_encoded_imp_w2v = np.argmax(y_pred_lstm_probs_imp_w2v, axis=1) # Convertir probabilités en classes prédites (encodées)\n",
    "y_pred_lstm_str_imp_w2v = label_encoder_global.inverse_transform(y_pred_lstm_encoded_imp_w2v) # Reconvertir en labels string\n",
    "\n",
    "# Utiliser votre fonction evaluate_model pour afficher le rapport et la matrice de confusion\n",
    "evaluate_model(\"Bidirectional LSTM (Improved with fine-tuned Word2Vec)\", y_test_str, y_pred_lstm_str_imp_w2v)\n",
    "\n",
    "# Mise à jour du dictionnaire des résultats\n",
    "results_summary[\"Bidirectional LSTM (Improved with fine-tuned Word2Vec)\"] = {\n",
    "    'accuracy': acc_lstm_imp_w2v,\n",
    "    'precision_macro': classification_report(y_test_str, y_pred_lstm_str_imp_w2v, output_dict=True, zero_division=0)['macro avg']['precision'],\n",
    "    'recall_macro': classification_report(y_test_str, y_pred_lstm_str_imp_w2v, output_dict=True, zero_division=0)['macro avg']['recall'],\n",
    "    'f1_macro': classification_report(y_test_str, y_pred_lstm_str_imp_w2v, output_dict=True, zero_division=0)['macro avg']['f1-score']\n",
    "}\n",
    "\n",
    "print(\"Analyse du LSTM amélioré avec Word2Vec terminée.\")"
   ]
  },
  {
   "cell_type": "markdown",
   "metadata": {},
   "source": [
    "# 7. Transformers avec Hugging Face\n",
    "\n",
    "Les modèles Transformers sont l'état de l'art pour de nombreuses tâches NLP. Nous allons fine-tuner un modèle pré-entraîné (comme DistilBERT ou FinBERT) sur notre dataset.\n",
    "Attention : Cette partie est gourmande en ressources et peut être longue à exécuter, surtout sans GPU. Un GPU est fortement recommandé."
   ]
  },
  {
   "cell_type": "code",
   "execution_count": 26,
   "metadata": {},
   "outputs": [
    {
     "name": "stdout",
     "output_type": "stream",
     "text": [
      "Utilisation du device: cpu pour Transformers\n"
     ]
    }
   ],
   "source": [
    "device = torch.device(\"cuda\" if torch.cuda.is_available() else \"cpu\")\n",
    "print(f\"Utilisation du device: {device} pour Transformers\")\n",
    "if device.type == 'cuda':\n",
    "    print(torch.cuda.get_device_name(0))"
   ]
  },
  {
   "cell_type": "code",
   "execution_count": 27,
   "metadata": {},
   "outputs": [
    {
     "name": "stdout",
     "output_type": "stream",
     "text": [
      "--- 7. Transformers (Fine-tuning) ---\n",
      "Dataset d'entraînement Hugging Face: Dataset({\n",
      "    features: ['text', 'label', '__index_level_0__'],\n",
      "    num_rows: 30472\n",
      "})\n",
      "Dataset de test Hugging Face: Dataset({\n",
      "    features: ['text', 'label', '__index_level_0__'],\n",
      "    num_rows: 7619\n",
      "})\n"
     ]
    }
   ],
   "source": [
    "print(\"--- 7. Transformers (Fine-tuning) ---\")\n",
    "\n",
    "# Utiliser les labels entiers (0,1,2...) pour les Transformers.\n",
    "# y_train_int et y_test_int contiennent déjà ces labels.\n",
    "# La bibliothèque `datasets` attend une colonne nommée 'label'.\n",
    "train_df_hf = pd.DataFrame({'text': X_train_text.copy(), 'label': y_train_int.copy()})\n",
    "test_df_hf = pd.DataFrame({'text': X_test_text.copy(), 'label': y_test_int.copy()})\n",
    "\n",
    "# Optionnel : Sous-échantillonner pour des tests rapides sur CPU\n",
    "# SAMPLE_SIZE_HF_TRAIN = 1000 # ou plus si vous avez de la patience/GPU\n",
    "# SAMPLE_SIZE_HF_TEST = 200\n",
    "# if len(train_df_hf) > SAMPLE_SIZE_HF_TRAIN:\n",
    "#     train_df_hf = train_df_hf.sample(n=SAMPLE_SIZE_HF_TRAIN, random_state=SEED)\n",
    "# if len(test_df_hf) > SAMPLE_SIZE_HF_TEST:\n",
    "#     test_df_hf = test_df_hf.sample(n=SAMPLE_SIZE_HF_TEST, random_state=SEED)\n",
    "\n",
    "train_dataset_hf = Dataset.from_pandas(train_df_hf)\n",
    "test_dataset_hf = Dataset.from_pandas(test_df_hf)\n",
    "\n",
    "print(f\"Dataset d'entraînement Hugging Face: {train_dataset_hf}\")\n",
    "print(f\"Dataset de test Hugging Face: {test_dataset_hf}\")"
   ]
  },
  {
   "cell_type": "code",
   "execution_count": 28,
   "metadata": {},
   "outputs": [
    {
     "name": "stderr",
     "output_type": "stream",
     "text": [
      "Some weights of DistilBertForSequenceClassification were not initialized from the model checkpoint at distilbert-base-uncased and are newly initialized: ['classifier.bias', 'classifier.weight', 'pre_classifier.bias', 'pre_classifier.weight']\n",
      "You should probably TRAIN this model on a down-stream task to be able to use it for predictions and inference.\n"
     ]
    }
   ],
   "source": [
    "# Modèles possibles:\n",
    "# - 'distilbert-base-uncased': Léger, rapide, bon pour l'anglais général.\n",
    "# - 'ProsusAI/finbert': Spécialisé pour les textes financiers en anglais. (Peut être plus lourd)\n",
    "# - 'nlptown/bert-base-multilingual-uncased-sentiment': Si les tweets sont multilingues et pour du sentiment, mais moins spécifique que FinBERT.\n",
    "MODEL_NAME_HF = 'distilbert-base-uncased'\n",
    "# MODEL_NAME_HF = 'ProsusAI/finbert' # Décommentez pour essayer FinBERT\n",
    "\n",
    "try:\n",
    "    tokenizer_hf = AutoTokenizer.from_pretrained(MODEL_NAME_HF)\n",
    "    # Pour num_labels, s'assurer que c'est bien le nombre de classes uniques dans y_train_int\n",
    "    model_hf = AutoModelForSequenceClassification.from_pretrained(MODEL_NAME_HF, num_labels=len(np.unique(y_train_int)))\n",
    "    model_hf.to(device) # Déplacer le modèle sur le GPU si disponible\n",
    "except Exception as e:\n",
    "    print(f\"Erreur lors du chargement du modèle/tokenizer Transformer {MODEL_NAME_HF}: {e}\")\n",
    "    print(\"Vérifiez le nom du modèle et votre connexion internet.\")\n",
    "    model_hf = None # Pour éviter les erreurs plus loin"
   ]
  },
  {
   "cell_type": "code",
   "execution_count": 29,
   "metadata": {},
   "outputs": [
    {
     "name": "stderr",
     "output_type": "stream",
     "text": [
      "Map: 100%|██████████| 30472/30472 [00:00<00:00, 33863.66 examples/s]\n",
      "Map: 100%|██████████| 7619/7619 [00:00<00:00, 56939.74 examples/s]"
     ]
    },
    {
     "name": "stdout",
     "output_type": "stream",
     "text": [
      "\n",
      "Datasets tokenisés prêts.\n"
     ]
    },
    {
     "name": "stderr",
     "output_type": "stream",
     "text": [
      "\n"
     ]
    }
   ],
   "source": [
    "def tokenize_function_hf(examples):\n",
    "    # Truncation et padding seront gérés par le DataCollator par défaut\n",
    "    # Mais on peut spécifier max_length pour le tokenizer aussi\n",
    "    return tokenizer_hf(examples[\"text\"], truncation=True, padding=False, max_length=128) # max_length est un hyperparamètre\n",
    "\n",
    "if model_hf: # Continuer seulement si le modèle a été chargé\n",
    "    train_tokenized_dataset_hf = train_dataset_hf.map(tokenize_function_hf, batched=True)\n",
    "    test_tokenized_dataset_hf = test_dataset_hf.map(tokenize_function_hf, batched=True)\n",
    "\n",
    "    # Supprimer la colonne 'text' car le modèle n'en a plus besoin après tokenisation\n",
    "    # et __index_level_0__ si elle a été ajoutée par from_pandas\n",
    "    train_tokenized_dataset_hf = train_tokenized_dataset_hf.remove_columns(\n",
    "        [col for col in train_tokenized_dataset_hf.column_names if col not in ['input_ids', 'attention_mask', 'label']]\n",
    "    )\n",
    "    test_tokenized_dataset_hf = test_tokenized_dataset_hf.remove_columns(\n",
    "        [col for col in test_tokenized_dataset_hf.column_names if col not in ['input_ids', 'attention_mask', 'label']]\n",
    "    )\n",
    "    print(\"\\nDatasets tokenisés prêts.\")\n",
    "else:\n",
    "    print(\"Le modèle Transformer n'a pas été chargé, la suite de cette section est sautée.\")"
   ]
  },
  {
   "cell_type": "code",
   "execution_count": 30,
   "metadata": {},
   "outputs": [],
   "source": [
    "# Charger les métriques avec la nouvelle API evaluate\n",
    "accuracy_metric_hf = evaluate.load(\"accuracy\")\n",
    "f1_metric_hf = evaluate.load(\"f1\")\n",
    "\n",
    "def compute_metrics_hf(eval_pred):\n",
    "    logits, labels = eval_pred\n",
    "    predictions = np.argmax(logits, axis=-1)\n",
    "    \n",
    "    acc_results = accuracy_metric_hf.compute(predictions=predictions, references=labels)\n",
    "    f1_results = f1_metric_hf.compute(predictions=predictions, references=labels, average=\"macro\") # 'macro' est souvent un bon choix pour la classification multi-classe\n",
    "    \n",
    "    return {\n",
    "        \"accuracy\": acc_results[\"accuracy\"],\n",
    "        \"f1_macro\": f1_results[\"f1\"]\n",
    "    }"
   ]
  },
  {
   "cell_type": "code",
   "execution_count": 31,
   "metadata": {},
   "outputs": [],
   "source": [
    "HF_EPOCHS = 1 # Commencer avec 1-2 époques pour un test rapide, augmenter à 3-5 pour de meilleurs résultats.\n",
    "HF_BATCH_SIZE_TRAIN = 16 # Ajuster selon la mémoire GPU (8, 16, 32)\n",
    "HF_BATCH_SIZE_EVAL = HF_BATCH_SIZE_TRAIN * 2 # Peut être plus grand pour l'évaluation\n",
    "\n",
    "if model_hf:\n",
    "    training_args = TrainingArguments(\n",
    "        output_dir=f\"./results_hf_{MODEL_NAME_HF.split('/')[-1]}\",\n",
    "        num_train_epochs=HF_EPOCHS,\n",
    "        per_device_train_batch_size=HF_BATCH_SIZE_TRAIN,\n",
    "        per_device_eval_batch_size=HF_BATCH_SIZE_EVAL,\n",
    "        warmup_ratio=0.1, # warmup_steps = int(len(train_tokenized_dataset_hf) * HF_EPOCHS * 0.1 / HF_BATCH_SIZE_TRAIN)\n",
    "        weight_decay=0.01,\n",
    "        logging_dir=f'./logs_hf_{MODEL_NAME_HF.split('/')[-1]}',\n",
    "        logging_strategy=\"steps\",\n",
    "        logging_steps=max(1, int(len(train_tokenized_dataset_hf) / (HF_BATCH_SIZE_TRAIN * 4) )), # Log ~4 fois par époque\n",
    "        eval_strategy=\"epoch\",\n",
    "        save_strategy=\"epoch\", # Sauvegarde le meilleur modèle à la fin de chaque époque\n",
    "        load_best_model_at_end=True, # Charge le meilleur modèle à la fin de l'entraînement\n",
    "        metric_for_best_model=\"f1_macro\", # Choisir la métrique pour sélectionner le \"meilleur\" modèle\n",
    "        greater_is_better=True,\n",
    "        report_to=\"none\", # \"tensorboard\", \"wandb\" si configuré, \"none\" pour désactiver\n",
    "        # fp16=torch.cuda.is_available(), # Active le mixed-precision training si GPU et CUDA (peut accélérer et réduire la mémoire)\n",
    "        seed=SEED,\n",
    "        disable_tqdm=False # Mettre à True si les barres de progression sont gênantes\n",
    "    )"
   ]
  },
  {
   "cell_type": "code",
   "execution_count": 32,
   "metadata": {},
   "outputs": [],
   "source": [
    "if model_hf:\n",
    "    trainer = Trainer(\n",
    "        model=model_hf,\n",
    "        args=training_args,\n",
    "        train_dataset=train_tokenized_dataset_hf,\n",
    "        eval_dataset=test_tokenized_dataset_hf, # Idéalement, un vrai jeu de validation séparé ici\n",
    "        compute_metrics=compute_metrics_hf,\n",
    "        processing_class=tokenizer_hf # Le DataCollator utilisera le padding du tokenizer\n",
    "    )"
   ]
  },
  {
   "cell_type": "code",
   "execution_count": 33,
   "metadata": {},
   "outputs": [
    {
     "name": "stdout",
     "output_type": "stream",
     "text": [
      "Entraînement du Transformer distilbert-base-uncased (peut être long)...\n"
     ]
    },
    {
     "name": "stderr",
     "output_type": "stream",
     "text": [
      "/home/wassim/repos/nlp/projet/twitter-sentiment-analysis/.venv/lib/python3.12/site-packages/torch/utils/data/dataloader.py:665: UserWarning: 'pin_memory' argument is set as true but no accelerator is found, then device pinned memory won't be used.\n",
      "  warnings.warn(warn_msg)\n"
     ]
    },
    {
     "data": {
      "text/html": [
       "\n",
       "    <div>\n",
       "      \n",
       "      <progress value='1905' max='1905' style='width:300px; height:20px; vertical-align: middle;'></progress>\n",
       "      [1905/1905 32:48, Epoch 1/1]\n",
       "    </div>\n",
       "    <table border=\"1\" class=\"dataframe\">\n",
       "  <thead>\n",
       " <tr style=\"text-align: left;\">\n",
       "      <th>Epoch</th>\n",
       "      <th>Training Loss</th>\n",
       "      <th>Validation Loss</th>\n",
       "      <th>Accuracy</th>\n",
       "      <th>F1 Macro</th>\n",
       "    </tr>\n",
       "  </thead>\n",
       "  <tbody>\n",
       "    <tr>\n",
       "      <td>1</td>\n",
       "      <td>0.505000</td>\n",
       "      <td>0.489274</td>\n",
       "      <td>0.807586</td>\n",
       "      <td>0.796815</td>\n",
       "    </tr>\n",
       "  </tbody>\n",
       "</table><p>"
      ],
      "text/plain": [
       "<IPython.core.display.HTML object>"
      ]
     },
     "metadata": {},
     "output_type": "display_data"
    },
    {
     "name": "stdout",
     "output_type": "stream",
     "text": [
      "\n",
      "Entraînement terminé.\n"
     ]
    }
   ],
   "source": [
    "if model_hf:\n",
    "    print(f\"Entraînement du Transformer {MODEL_NAME_HF} (peut être long)...\")\n",
    "    try:\n",
    "        train_result = trainer.train()\n",
    "        print(\"\\nEntraînement terminé.\")\n",
    "        # Sauvegarder le meilleur modèle et le tokenizer\n",
    "        trainer.save_model(f\"./best_model_{MODEL_NAME_HF.split('/')[-1]}\")\n",
    "        tokenizer_hf.save_pretrained(f\"./best_model_{MODEL_NAME_HF.split('/')[-1]}\")\n",
    "    except Exception as e:\n",
    "        print(f\"Erreur pendant l'entraînement du Transformer: {e}\")\n",
    "        train_result = None # Indiquer que l'entraînement a échoué\n",
    "else:\n",
    "    print(\"Entraînement du Transformer sauté car le modèle n'a pas été chargé.\")\n",
    "    train_result = None"
   ]
  },
  {
   "cell_type": "code",
   "execution_count": 34,
   "metadata": {},
   "outputs": [
    {
     "name": "stdout",
     "output_type": "stream",
     "text": [
      "\n",
      "Évaluation du Transformer distilbert-base-uncased sur le jeu de test...\n"
     ]
    },
    {
     "name": "stderr",
     "output_type": "stream",
     "text": [
      "/home/wassim/repos/nlp/projet/twitter-sentiment-analysis/.venv/lib/python3.12/site-packages/torch/utils/data/dataloader.py:665: UserWarning: 'pin_memory' argument is set as true but no accelerator is found, then device pinned memory won't be used.\n",
      "  warnings.warn(warn_msg)\n"
     ]
    },
    {
     "data": {
      "text/html": [],
      "text/plain": [
       "<IPython.core.display.HTML object>"
      ]
     },
     "metadata": {},
     "output_type": "display_data"
    },
    {
     "name": "stdout",
     "output_type": "stream",
     "text": [
      "Résultats de l'évaluation: {'eval_loss': 0.48927396535873413, 'eval_accuracy': 0.8075862974143588, 'eval_f1_macro': 0.7968151933882933, 'eval_runtime': 115.1621, 'eval_samples_per_second': 66.159, 'eval_steps_per_second': 2.075, 'epoch': 1.0}\n",
      "\n",
      "Prédictions sur le jeu de test...\n"
     ]
    },
    {
     "name": "stderr",
     "output_type": "stream",
     "text": [
      "/home/wassim/repos/nlp/projet/twitter-sentiment-analysis/.venv/lib/python3.12/site-packages/torch/utils/data/dataloader.py:665: UserWarning: 'pin_memory' argument is set as true but no accelerator is found, then device pinned memory won't be used.\n",
      "  warnings.warn(warn_msg)\n"
     ]
    },
    {
     "name": "stdout",
     "output_type": "stream",
     "text": [
      "Rapport de Classification pour Transformer (distilbert-base-uncased):\n",
      "              precision    recall  f1-score   support\n",
      "\n",
      "    negative       0.07      0.10      0.09      1709\n",
      "     neutral       0.09      0.13      0.11      2436\n",
      "    positive       0.15      0.07      0.10      3474\n",
      "\n",
      "    accuracy                           0.10      7619\n",
      "   macro avg       0.10      0.10      0.10      7619\n",
      "weighted avg       0.11      0.10      0.10      7619\n",
      "\n"
     ]
    },
    {
     "data": {
      "image/png": "[encoded data removed]",
      "text/plain": [
       "<Figure size 600x400 with 2 Axes>"
      ]
     },
     "metadata": {},
     "output_type": "display_data"
    }
   ],
   "source": [
    "acc_transformer = 0.0 # Valeur par défaut\n",
    "if model_hf and train_result: # S'assurer que l'entraînement a eu lieu\n",
    "    print(f\"\\nÉvaluation du Transformer {MODEL_NAME_HF} sur le jeu de test...\")\n",
    "    eval_results = trainer.evaluate(test_tokenized_dataset_hf)\n",
    "    print(f\"Résultats de l'évaluation: {eval_results}\")\n",
    "    acc_transformer = eval_results.get('eval_accuracy', 0.0) # Utiliser .get pour éviter KeyError\n",
    "    f1_transformer = eval_results.get('eval_f1_macro', 0.0)\n",
    "\n",
    "    print(\"\\nPrédictions sur le jeu de test...\")\n",
    "    predictions_hf_output = trainer.predict(test_tokenized_dataset_hf)\n",
    "    y_pred_hf_logits = predictions_hf_output.predictions\n",
    "    y_pred_hf_int = np.argmax(y_pred_hf_logits, axis=1)\n",
    "    # Reconvertir les prédictions (int) en labels string pour classification_report\n",
    "    # S'assurer que label_encoder_global a été fitté sur les labels string 'negative', 'neutral', 'positive'\n",
    "    # Et que y_pred_hf_int correspond bien aux indices de ces classes\n",
    "    # Vérifier l'ordre des classes dans label_encoder_global.classes_ et l'ordre de sortie du modèle\n",
    "    # Normalement, si y_train_int (0,1,2) a été utilisé pour l'entraînement, et que model_hf.config.id2label\n",
    "    # est correctement mappé (ou par défaut 0->LABEL_0, 1->LABEL_1, etc.), cela devrait fonctionner.\n",
    "    # Il faut s'assurer que l'entier 0 prédit par le transformer correspond bien à la classe\n",
    "    # que label_encoder_global.inverse_transform([0]) donnerait.\n",
    "    # Si le mapping des labels dans le transformer est {0: \"neutral\", 1: \"positive\", 2: \"negative\"}\n",
    "    # et label_encoder_global.classes_ est ['negative', 'neutral', 'positive']\n",
    "    # alors il faut remapper y_pred_hf_int.\n",
    "\n",
    "    # Hypothèse : le modèle Transformer sort les classes dans l'ordre 0, 1, 2\n",
    "    # et label_encoder_global.classes_ est ['negative', 'neutral', 'positive']\n",
    "    # et map_labels_str = {0: \"neutral\", 1: 'positive',  2: 'negative'}\n",
    "    # Il faut donc un mapping.\n",
    "\n",
    "    # Solution plus simple : utiliser le mapping du config du modèle si disponible\n",
    "    id2label_hf = model_hf.config.id2label if hasattr(model_hf.config, 'id2label') else \\\n",
    "                  {i: f\"LABEL_{i}\" for i in range(model_hf.config.num_labels)}\n",
    "    \n",
    "    # Si id2label_hf est {0: \"neutral\", 1: \"positive\", 2: \"negative\"}\n",
    "    # et que vos y_test_str sont dans cet ordre, c'est bon.\n",
    "    # Sinon, il faut aligner.\n",
    "    # Pour l'instant, supposons que y_pred_hf_int sont les indices pour label_encoder_global\n",
    "    try:\n",
    "        y_pred_hf_str = label_encoder_global.inverse_transform(y_pred_hf_int)\n",
    "        evaluate_model(f\"Transformer ({MODEL_NAME_HF.split('/')[-1]})\", y_test_str, y_pred_hf_str)\n",
    "        # Mettre à jour results_summary avec les métriques de compute_metrics_hf\n",
    "        results_summary[f\"Transformer ({MODEL_NAME_HF.split('/')[-1]})\"]['accuracy'] = acc_transformer\n",
    "        results_summary[f\"Transformer ({MODEL_NAME_HF.split('/')[-1]})\"]['f1_macro'] = f1_transformer\n",
    "\n",
    "    except Exception as e:\n",
    "        print(f\"Erreur lors de la reconversion des labels Transformer ou de l'évaluation: {e}\")\n",
    "        # Fallback si la reconversion échoue\n",
    "        results_summary[f\"Transformer ({MODEL_NAME_HF.split('/')[-1]})\"] = {\n",
    "            'accuracy': acc_transformer, 'precision_macro': 0, 'recall_macro': 0, 'f1_macro': 0\n",
    "        }\n",
    "\n",
    "elif model_hf and not train_result:\n",
    "    print(\"L'entraînement du Transformer a échoué ou a été sauté, pas d'évaluation.\")\n",
    "    results_summary[f\"Transformer ({MODEL_NAME_HF.split('/')[-1]})\"] = {\n",
    "        'accuracy': 0, 'precision_macro': 0, 'recall_macro': 0, 'f1_macro': \"Erreur/Non exécuté\"\n",
    "    }\n",
    "else:\n",
    "    print(\"Transformer non évalué car le modèle n'a pas été chargé.\")\n",
    "    results_summary[f\"Transformer (Non exécuté)\"] = {\n",
    "        'accuracy': 0, 'precision_macro': 0, 'recall_macro': 0, 'f1_macro': \"Non exécuté\"\n",
    "    }"
   ]
  },
  {
   "cell_type": "markdown",
   "metadata": {},
   "source": [
    "# 8. Tableau Récapitulatif et Conclusion\n",
    "\n",
    "Synthèse des performances des différents modèles."
   ]
  },
  {
   "cell_type": "code",
   "execution_count": 35,
   "metadata": {},
   "outputs": [
    {
     "name": "stdout",
     "output_type": "stream",
     "text": [
      "--- 9. Tableau Récapitulatif des Performances ---\n",
      "\n",
      "Tableau Récapitulatif (trié par F1-score Macro):\n"
     ]
    },
    {
     "data": {
      "text/html": [
       "<div>\n",
       "<style scoped>\n",
       "    .dataframe tbody tr th:only-of-type {\n",
       "        vertical-align: middle;\n",
       "    }\n",
       "\n",
       "    .dataframe tbody tr th {\n",
       "        vertical-align: top;\n",
       "    }\n",
       "\n",
       "    .dataframe thead th {\n",
       "        text-align: right;\n",
       "    }\n",
       "</style>\n",
       "<table border=\"1\" class=\"dataframe\">\n",
       "  <thead>\n",
       "    <tr style=\"text-align: right;\">\n",
       "      <th></th>\n",
       "      <th>accuracy</th>\n",
       "      <th>precision_macro</th>\n",
       "      <th>recall_macro</th>\n",
       "      <th>f1_macro</th>\n",
       "    </tr>\n",
       "  </thead>\n",
       "  <tbody>\n",
       "    <tr>\n",
       "      <th>Transformer (distilbert-base-uncased)</th>\n",
       "      <td>0.807586</td>\n",
       "      <td>0.104242</td>\n",
       "      <td>0.101484</td>\n",
       "      <td>0.796815</td>\n",
       "    </tr>\n",
       "    <tr>\n",
       "      <th>Logistic Regression (TF-IDF)</th>\n",
       "      <td>0.723192</td>\n",
       "      <td>0.707241</td>\n",
       "      <td>0.706620</td>\n",
       "      <td>0.706677</td>\n",
       "    </tr>\n",
       "    <tr>\n",
       "      <th>MLP (TF-IDF)</th>\n",
       "      <td>0.715579</td>\n",
       "      <td>0.703128</td>\n",
       "      <td>0.685984</td>\n",
       "      <td>0.691968</td>\n",
       "    </tr>\n",
       "    <tr>\n",
       "      <th>Bidirectional LSTM (Improved with fine-tuned Word2Vec)</th>\n",
       "      <td>0.678042</td>\n",
       "      <td>0.693447</td>\n",
       "      <td>0.707481</td>\n",
       "      <td>0.675435</td>\n",
       "    </tr>\n",
       "    <tr>\n",
       "      <th>Naive Bayes (TF-IDF)</th>\n",
       "      <td>0.695761</td>\n",
       "      <td>0.692242</td>\n",
       "      <td>0.655506</td>\n",
       "      <td>0.666051</td>\n",
       "    </tr>\n",
       "    <tr>\n",
       "      <th>Random Forest (Best Params)</th>\n",
       "      <td>0.668592</td>\n",
       "      <td>0.651776</td>\n",
       "      <td>0.661733</td>\n",
       "      <td>0.655004</td>\n",
       "    </tr>\n",
       "    <tr>\n",
       "      <th>Logistic Regression (Word2Vec Avg)</th>\n",
       "      <td>0.566085</td>\n",
       "      <td>0.532551</td>\n",
       "      <td>0.534835</td>\n",
       "      <td>0.530896</td>\n",
       "    </tr>\n",
       "  </tbody>\n",
       "</table>\n",
       "</div>"
      ],
      "text/plain": [
       "                                                        accuracy  \\\n",
       "Transformer (distilbert-base-uncased)                   0.807586   \n",
       "Logistic Regression (TF-IDF)                            0.723192   \n",
       "MLP (TF-IDF)                                            0.715579   \n",
       "Bidirectional LSTM (Improved with fine-tuned Word2Vec)  0.678042   \n",
       "Naive Bayes (TF-IDF)                                    0.695761   \n",
       "Random Forest (Best Params)                             0.668592   \n",
       "Logistic Regression (Word2Vec Avg)                      0.566085   \n",
       "\n",
       "                                                        precision_macro  \\\n",
       "Transformer (distilbert-base-uncased)                          0.104242   \n",
       "Logistic Regression (TF-IDF)                                   0.707241   \n",
       "MLP (TF-IDF)                                                   0.703128   \n",
       "Bidirectional LSTM (Improved with fine-tuned Word2Vec)         0.693447   \n",
       "Naive Bayes (TF-IDF)                                           0.692242   \n",
       "Random Forest (Best Params)                                    0.651776   \n",
       "Logistic Regression (Word2Vec Avg)                             0.532551   \n",
       "\n",
       "                                                        recall_macro  f1_macro  \n",
       "Transformer (distilbert-base-uncased)                       0.101484  0.796815  \n",
       "Logistic Regression (TF-IDF)                                0.706620  0.706677  \n",
       "MLP (TF-IDF)                                                0.685984  0.691968  \n",
       "Bidirectional LSTM (Improved with fine-tuned Word2Vec)      0.707481  0.675435  \n",
       "Naive Bayes (TF-IDF)                                        0.655506  0.666051  \n",
       "Random Forest (Best Params)                                 0.661733  0.655004  \n",
       "Logistic Regression (Word2Vec Avg)                          0.534835  0.530896  "
      ]
     },
     "metadata": {},
     "output_type": "display_data"
    },
    {
     "data": {
      "image/png": "[encoded data removed]",
      "text/plain": [
       "<Figure size 1200x700 with 1 Axes>"
      ]
     },
     "metadata": {},
     "output_type": "display_data"
    }
   ],
   "source": [
    "print(\"--- 9. Tableau Récapitulatif des Performances ---\")\n",
    "results_df = pd.DataFrame.from_dict(results_summary, orient='index')\n",
    "results_df = results_df.sort_values(by='f1_macro', ascending=False) # Trier par F1-score macro\n",
    "\n",
    "print(\"\\nTableau Récapitulatif (trié par F1-score Macro):\")\n",
    "display(results_df)\n",
    "\n",
    "# Visualisation comparative\n",
    "results_df[['accuracy', 'f1_macro']].plot(kind='bar', figsize=(12, 7), rot=45)\n",
    "plt.title('Comparaison des Performances des Modèles')\n",
    "plt.ylabel('Score')\n",
    "plt.ylim(0, 1) # Scores entre 0 et 1\n",
    "plt.legend(loc='lower right')\n",
    "plt.tight_layout()\n",
    "plt.show()"
   ]
  },
  {
   "cell_type": "markdown",
   "metadata": {},
   "source": [
    "# 9. Exploration Approfondie 1 - Augmentation des Données"
   ]
  },
  {
   "cell_type": "markdown",
   "metadata": {},
   "source": [
    "### 9.a. Introduction à l'Augmentation de Données\n",
    "\n",
    "Après avoir établi des performances de base avec différents modèles de classification sur notre jeu de données original de tweets financiers, nous allons maintenant explorer des techniques pour potentiellement améliorer ces performances. Une approche courante, surtout lorsque la quantité de données disponibles est limitée ou que certaines classes sont sous-représentées, est l'augmentation de données.\n",
    "\n",
    "L'augmentation de données consiste à créer artificiellement de nouveaux exemples d'entraînement à partir des données existantes. L'objectif est d'exposer nos modèles à une plus grande variété d'exemples, les rendant ainsi plus robustes, capables de mieux généraliser sur des données non vues, et potentiellement d'améliorer leurs scores sur les métriques d'évaluation, notamment pour les classes minoritaires.\n",
    "\n",
    "Dans cette section, nous allons implémenter et évaluer l'impact de trois méthodes d'augmentation de données distinctes sur notre tâche de classification de sentiment :\n",
    "\n",
    "- Rétro-Traduction (Back-Translation) : Cette technique exploite les modèles de traduction automatique. Un texte est traduit de la langue source (anglais) vers une langue pivot (par exemple, l'allemand), puis retraduit vers la langue source. Les petites variations sémantiques introduites durant ce processus peuvent générer des paraphrases utiles et diversifier les exemples d'entraînement. Nous utiliserons les modèles de traduction de la bibliothèque transformers de Hugging Face.\n",
    "\n",
    "- Remplacement de Synonymes (Synonym Replacement) : Cette méthode consiste à identifier certains mots dans une phrase (typiquement des noms, verbes, adjectifs, adverbes, en excluant les mots vides) et à les remplacer par l'un de leurs synonymes. Pour cela, nous nous appuierons sur la base de données lexicale WordNet, accessible via NLTK, pour trouver les synonymes appropriés en fonction du contexte grammatical (part-of-speech tagging).\n",
    "\n",
    "- Suppression Aléatoire (Random Deletion) : Faisant partie des techniques dites \"Easy Data Augmentation\" (EDA), cette méthode simple consiste à supprimer aléatoirement des mots d'une phrase avec une certaine probabilité. Bien que cela puisse parfois altérer légèrement le sens, cela peut aussi forcer le modèle à se concentrer sur les mots les plus importants et à être moins sensible à la présence ou à l'absence de mots moins critiques.\n",
    "\n",
    "Pour chaque méthode, nous générerons de nouveaux exemples à partir de notre ensemble d'entraînement original (X_train_text). Ensuite, nous créerons un nouvel ensemble d'entraînement combinant les données originales et les données augmentées. Enfin, nous ré-entraînerons un ou plusieurs de nos modèles de classification de référence (par exemple, la Régression Logistique avec TF-IDF et notre modèle LSTM) sur ce dataset enrichi et évaluerons leurs performances sur le jeu de test original (non augmenté) afin de mesurer l'impact de ces techniques d'augmentation. Notre analyse portera sur l'évolution des métriques globales (accuracy, F1-macro) ainsi que sur les performances par classe, en particulier pour la classe \"negative\" qui était la moins représentée dans notre benchmark initial."
   ]
  },
  {
   "cell_type": "markdown",
   "metadata": {},
   "source": [
    "### 9.b. Implémentation des Méthodes d'Augmentation"
   ]
  },
  {
   "cell_type": "code",
   "execution_count": 37,
   "metadata": {},
   "outputs": [
    {
     "name": "stdout",
     "output_type": "stream",
     "text": [
      "--- 9.b. Implémentation des Méthodes d'Augmentation ---\n",
      "Initialisation des modèles de traduction pour la Rétro-Traduction...\n",
      "Modèles de traduction chargés avec succès.\n",
      "\n",
      "Fonctions d'augmentation de données définies : back_translate, synonym_replacement, random_deletion.\n",
      "\n",
      "Tweet original : The stock market is showing very positive signs today, great news for investors.\n",
      "Rétro-Traduction : The stock market is today showing very positive signals, great news for investors.\n",
      "Remplacement Synonymes (2 mots) : The stemma market place is showing very positive signs today , great news for investors .\n",
      "Suppression Aléatoire (p=0.2) : The is showing very today , great news for investors .\n"
     ]
    }
   ],
   "source": [
    "# --- 9.b. Implémentation des Méthodes d'Augmentation ---\n",
    "print(\"--- 9.b. Implémentation des Méthodes d'Augmentation ---\")\n",
    "\n",
    "import random\n",
    "from nltk.corpus import wordnet\n",
    "from nltk.tag import pos_tag # Pour le Part-of-Speech tagging\n",
    "from nltk.tokenize import word_tokenize # Déjà importé, mais pour la clarté\n",
    "from nltk.corpus import stopwords # Déjà importé\n",
    "from transformers import MarianMTModel, MarianTokenizer # Pour la back-translation\n",
    "import torch # Nécessaire pour les modèles MarianMT de Hugging Face\n",
    "\n",
    "# --- Initialisation des modèles de traduction (une seule fois) ---\n",
    "# Cela peut prendre du temps la première fois car les modèles sont téléchargés.\n",
    "# 'device' doit être défini plus tôt dans votre notebook (ex: cpu ou cuda)\n",
    "\n",
    "print(\"Initialisation des modèles de traduction pour la Rétro-Traduction...\")\n",
    "try:\n",
    "    # Anglais vers Allemand (vous pouvez choisir une autre langue pivot)\n",
    "    model_name_en_pivot = 'Helsinki-NLP/opus-mt-en-de'\n",
    "    tokenizer_en_pivot = MarianTokenizer.from_pretrained(model_name_en_pivot)\n",
    "    model_en_pivot = MarianMTModel.from_pretrained(model_name_en_pivot)\n",
    "    model_en_pivot.to(device)\n",
    "\n",
    "    # Langue Pivot vers Anglais\n",
    "    model_name_pivot_en = 'Helsinki-NLP/opus-mt-de-en'\n",
    "    tokenizer_pivot_en = MarianTokenizer.from_pretrained(model_name_pivot_en)\n",
    "    model_pivot_en = MarianMTModel.from_pretrained(model_name_pivot_en)\n",
    "    model_pivot_en.to(device)\n",
    "    \n",
    "    back_translation_models_loaded = True\n",
    "    print(\"Modèles de traduction chargés avec succès.\")\n",
    "except Exception as e:\n",
    "    print(f\"ERREUR lors du chargement des modèles de traduction: {e}\")\n",
    "    print(\"La Rétro-Traduction ne sera pas disponible. Vérifiez votre connexion internet ou les noms des modèles.\")\n",
    "    back_translation_models_loaded = False\n",
    "\n",
    "# Récupérer la liste des stopwords (déjà définie plus tôt dans votre notebook)\n",
    "# Si ce n'est pas le cas, décommentez :\n",
    "stop_words_en = set(stopwords.words('english'))\n",
    "\n",
    "\n",
    "# --- Méthode 1: Rétro-Traduction (Back-Translation) ---\n",
    "def back_translate(text, model1, tokenizer1, model2, tokenizer2, max_input_length=512):\n",
    "    \"\"\"\n",
    "    Traduit le texte dans une langue pivot puis le retraduit dans la langue originale.\n",
    "    Args:\n",
    "        text (str): Le texte à augmenter.\n",
    "        model1, tokenizer1: Modèle et tokenizer pour source -> pivot.\n",
    "        model2, tokenizer2: Modèle et tokenizer pour pivot -> source.\n",
    "        max_input_length (int): Longueur maximale pour le tokenizer.\n",
    "    Returns:\n",
    "        str: Le texte augmenté, ou le texte original en cas d'échec ou si identique.\n",
    "    \"\"\"\n",
    "    if not back_translation_models_loaded:\n",
    "        return text # Retourner l'original si les modèles ne sont pas chargés\n",
    "\n",
    "    try:\n",
    "        # 1. Traduire en langue pivot\n",
    "        inputs_pivot = tokenizer1(text, return_tensors=\"pt\", truncation=True, padding=True, max_length=max_input_length).to(device)\n",
    "        translated_tokens_pivot = model1.generate(**inputs_pivot, max_length=max_input_length) # Ajuster max_length si besoin\n",
    "        text_pivot_language = tokenizer1.decode(translated_tokens_pivot[0], skip_special_tokens=True)\n",
    "\n",
    "        # 2. Retraduire en langue originale\n",
    "        inputs_original = tokenizer2(text_pivot_language, return_tensors=\"pt\", truncation=True, padding=True, max_length=max_input_length).to(device)\n",
    "        translated_tokens_original = model2.generate(**inputs_original, max_length=max_input_length)\n",
    "        augmented_text = tokenizer2.decode(translated_tokens_original[0], skip_special_tokens=True)\n",
    "        \n",
    "        # Retourner seulement si le texte augmenté est non vide et différent de l'original (ignorer la casse)\n",
    "        if augmented_text.strip() and augmented_text.lower() != text.lower():\n",
    "            return augmented_text\n",
    "        else:\n",
    "            return text # Retourner l'original si identique ou vide après augmentation\n",
    "            \n",
    "    except Exception as e:\n",
    "        # print(f\"Erreur de rétro-traduction pour '{text[:50]}...': {e}\")\n",
    "        return text # En cas d'erreur, retourner le texte original\n",
    "\n",
    "\n",
    "# --- Méthode 2: Remplacement de Synonymes (avec NLTK WordNet) ---\n",
    "def get_wordnet_pos_tag(nltk_tag):\n",
    "    \"\"\"Convertit un tag POS NLTK (Treebank) en tag WordNet.\"\"\"\n",
    "    if nltk_tag.startswith('J'):\n",
    "        return wordnet.ADJ\n",
    "    elif nltk_tag.startswith('V'):\n",
    "        return wordnet.VERB\n",
    "    elif nltk_tag.startswith('N'):\n",
    "        return wordnet.NOUN\n",
    "    elif nltk_tag.startswith('R'):\n",
    "        return wordnet.ADV\n",
    "    else:\n",
    "        return None # Ne pas traiter les autres types de mots\n",
    "\n",
    "def synonym_replacement(text, num_words_to_replace=1):\n",
    "    \"\"\"\n",
    "    Remplace aléatoirement `num_words_to_replace` mots dans le texte par leurs synonymes.\n",
    "    Args:\n",
    "        text (str): Le texte à augmenter.\n",
    "        num_words_to_replace (int): Nombre de mots à tenter de remplacer.\n",
    "    Returns:\n",
    "        str: Le texte augmenté, ou le texte original si aucun remplacement n'a été possible.\n",
    "    \"\"\"\n",
    "    words = word_tokenize(text)\n",
    "    if len(words) < num_words_to_replace or num_words_to_replace == 0:\n",
    "        return text # Pas assez de mots ou pas de remplacement demandé\n",
    "\n",
    "    tagged_words = pos_tag(words) # Obtenir les Part-of-Speech tags\n",
    "    \n",
    "    replaceable_word_indices = []\n",
    "    for i, (word, tag) in enumerate(tagged_words):\n",
    "        if word.lower() not in stop_words_en and len(word) > 2: # Exclure les stopwords et les mots très courts\n",
    "            if get_wordnet_pos_tag(tag) is not None: # Si c'est un type de mot que nous pouvons remplacer\n",
    "                replaceable_word_indices.append(i)\n",
    "    \n",
    "    if not replaceable_word_indices:\n",
    "        return text # Aucun mot remplaçable trouvé\n",
    "\n",
    "    # Choisir aléatoirement les indices des mots à remplacer\n",
    "    num_to_replace_actual = min(num_words_to_replace, len(replaceable_word_indices))\n",
    "    indices_to_replace = random.sample(replaceable_word_indices, num_to_replace_actual)\n",
    "    \n",
    "    augmented_words = list(words) # Créer une copie modifiable\n",
    "    num_actually_replaced = 0\n",
    "\n",
    "    for index in indices_to_replace:\n",
    "        original_word = words[index]\n",
    "        original_pos_nltk = tagged_words[index][1]\n",
    "        wordnet_tag = get_wordnet_pos_tag(original_pos_nltk)\n",
    "        \n",
    "        synonyms = set()\n",
    "        for syn in wordnet.synsets(original_word, pos=wordnet_tag):\n",
    "            for lemma in syn.lemmas():\n",
    "                synonym = lemma.name().replace('_', ' ') # Remplacer les underscores par des espaces\n",
    "                if synonym.lower() != original_word.lower(): # S'assurer que le synonyme est différent\n",
    "                    synonyms.add(synonym)\n",
    "        \n",
    "        if synonyms:\n",
    "            chosen_synonym = random.choice(list(synonyms))\n",
    "            augmented_words[index] = chosen_synonym\n",
    "            num_actually_replaced +=1\n",
    "            \n",
    "    if num_actually_replaced > 0:\n",
    "        return \" \".join(augmented_words)\n",
    "    else:\n",
    "        return text # Retourner l'original si aucun remplacement effectif\n",
    "\n",
    "\n",
    "# --- Méthode 3: Suppression Aléatoire (Random Deletion) ---\n",
    "def random_deletion(text, deletion_prob=0.1):\n",
    "    \"\"\"\n",
    "    Supprime aléatoirement des mots du texte.\n",
    "    Args:\n",
    "        text (str): Le texte à augmenter.\n",
    "        deletion_prob (float): Probabilité de supprimer chaque mot (entre 0 et 1).\n",
    "    Returns:\n",
    "        str: Le texte augmenté, ou le texte original si la suppression le rendrait vide/trop court.\n",
    "    \"\"\"\n",
    "    words = word_tokenize(text)\n",
    "    if len(words) <= 2: # Ne pas supprimer si la phrase est déjà très courte\n",
    "        return text\n",
    "\n",
    "    remaining_words = [word for word in words if random.random() > deletion_prob]\n",
    "    \n",
    "    # Si tous les mots sont supprimés (improbable avec une faible probabilité) ou si trop peu de mots restent\n",
    "    if not remaining_words or len(remaining_words) < len(words) * 0.5: # Ex: ne pas supprimer plus de la moitié des mots\n",
    "        return text\n",
    "        \n",
    "    return \" \".join(remaining_words)\n",
    "\n",
    "print(\"\\nFonctions d'augmentation de données définies : back_translate, synonym_replacement, random_deletion.\")\n",
    "\n",
    "# --- Test rapide des fonctions (optionnel) ---\n",
    "sample_tweet_for_aug = \"The stock market is showing very positive signs today, great news for investors.\"\n",
    "print(f\"\\nTweet original : {sample_tweet_for_aug}\")\n",
    "\n",
    "if back_translation_models_loaded:\n",
    "    bt_augmented = back_translate(sample_tweet_for_aug, model_en_pivot, tokenizer_en_pivot, model_pivot_en, tokenizer_pivot_en)\n",
    "    print(f\"Rétro-Traduction : {bt_augmented}\")\n",
    "else:\n",
    "    print(\"Rétro-Traduction : Non testée car modèles non chargés.\")\n",
    "\n",
    "\n",
    "sr_augmented = synonym_replacement(sample_tweet_for_aug, num_words_to_replace=2)\n",
    "print(f\"Remplacement Synonymes (2 mots) : {sr_augmented}\")\n",
    "\n",
    "rd_augmented = random_deletion(sample_tweet_for_aug, deletion_prob=0.2)\n",
    "print(f\"Suppression Aléatoire (p=0.2) : {rd_augmented}\")"
   ]
  },
  {
   "cell_type": "markdown",
   "metadata": {},
   "source": [
    "### 9.c. Génération des Données Augmentées"
   ]
  },
  {
   "cell_type": "code",
   "execution_count": 39,
   "metadata": {},
   "outputs": [
    {
     "name": "stdout",
     "output_type": "stream",
     "text": [
      "--- 9.c. Génération des Données Augmentées ---\n",
      "Dataset d'entraînement original : 30472 échantillons.\n",
      "Objectif de génération par méthode : approx. 10157 nouveaux échantillons distincts.\n",
      "\n",
      "Début de la Rétro-Traduction...\n",
      "  Rétro-Traduction : 1015/10157 générés.\n",
      "  Rétro-Traduction : 2030/10157 générés.\n",
      "  Rétro-Traduction : 3045/10157 générés.\n",
      "  Rétro-Traduction : 4060/10157 générés.\n",
      "  Rétro-Traduction : 5075/10157 générés.\n",
      "  Rétro-Traduction : 6090/10157 générés.\n",
      "  Rétro-Traduction : 7105/10157 générés.\n",
      "  Rétro-Traduction : 8120/10157 générés.\n",
      "  Rétro-Traduction : 9135/10157 générés.\n",
      "  Rétro-Traduction : 10150/10157 générés.\n",
      "  Rétro-Traduction : 10157/10157 générés.\n",
      "Rétro-Traduction terminée. 10157 nouveaux échantillons générés.\n",
      "\n",
      "Début du Remplacement de Synonymes...\n",
      "  Remplacement de Synonymes : 1015/10157 générés.\n",
      "  Remplacement de Synonymes : 2030/10157 générés.\n",
      "  Remplacement de Synonymes : 3045/10157 générés.\n",
      "  Remplacement de Synonymes : 4060/10157 générés.\n",
      "  Remplacement de Synonymes : 5075/10157 générés.\n",
      "  Remplacement de Synonymes : 6090/10157 générés.\n",
      "  Remplacement de Synonymes : 7105/10157 générés.\n",
      "  Remplacement de Synonymes : 8120/10157 générés.\n",
      "  Remplacement de Synonymes : 9135/10157 générés.\n",
      "  Remplacement de Synonymes : 10150/10157 générés.\n",
      "  Remplacement de Synonymes : 10157/10157 générés.\n",
      "Remplacement de Synonymes terminé. 10157 nouveaux échantillons générés.\n",
      "\n",
      "Début de la Suppression Aléatoire...\n",
      "  Suppression Aléatoire : 1015/10157 générés.\n",
      "  Suppression Aléatoire : 2030/10157 générés.\n",
      "  Suppression Aléatoire : 3045/10157 générés.\n",
      "  Suppression Aléatoire : 4060/10157 générés.\n",
      "  Suppression Aléatoire : 5075/10157 générés.\n",
      "  Suppression Aléatoire : 6090/10157 générés.\n",
      "  Suppression Aléatoire : 7105/10157 générés.\n",
      "  Suppression Aléatoire : 8120/10157 générés.\n",
      "  Suppression Aléatoire : 9135/10157 générés.\n",
      "  Suppression Aléatoire : 10150/10157 générés.\n",
      "  Suppression Aléatoire : 10157/10157 générés.\n",
      "Suppression Aléatoire terminée. 10157 nouveaux échantillons générés.\n",
      "\n",
      "Nombre total de textes originaux d'entraînement: 30472\n",
      "Nombre total de textes augmentés générés: 30471\n",
      "Taille avant suppression des doublons: 60943\n",
      "Taille après suppression des doublons basés sur le texte: 60158\n",
      "\n",
      "Taille finale du nouveau jeu d'entraînement (original + augmenté, dédoublonné, mélangé): 60158\n",
      "Exemples de textes augmentés (quelques-uns) :\n",
      "  Label: positive, Texte Augmenté: $car short interest was relatively high almost 7 days to cover these guys are screwed short interest...\n",
      "  Label: negative, Texte Augmenté: rt $seac seachange readies stock offer...\n",
      "  Label: positive, Texte Augmenté: $play dave busters 3 after the lead fulfilled...\n",
      "  Label: neutral, Texte Augmenté: $ms hey guys ive made $29k with them through their warning if you really want to make a huge profit ...\n",
      "  Label: positive, Texte Augmenté: Whispering expectations for f...\n"
     ]
    }
   ],
   "source": [
    "# --- 9.c. Génération des Données Augmentées ---\n",
    "print(\"--- 9.c. Génération des Données Augmentées ---\")\n",
    "\n",
    "# Convertir les données d'entraînement originales en listes pour une manipulation plus facile\n",
    "original_train_texts_list = X_train_text.tolist()\n",
    "original_train_labels_list = y_train_str.tolist() # Assurez-vous que y_train_str est bien votre liste/Series de labels string\n",
    "                                               # Si vous utilisez des labels entiers, utilisez y_train_int.tolist()\n",
    "                                               # ou y_train_encoded.tolist() et ajustez le nom de la variable.\n",
    "\n",
    "augmented_texts_list = []\n",
    "augmented_labels_list = []\n",
    "\n",
    "# --- Paramètres pour la génération ---\n",
    "# Pour chaque méthode, nous allons essayer de générer un certain nombre de nouveaux exemples.\n",
    "# L'objectif pourrait être, par exemple, d'augmenter la taille du dataset de 50% ou 100% au total.\n",
    "# Si votre dataset d'entraînement original a N_orig exemples, et que vous voulez\n",
    "# N_aug_total nouveaux exemples, vous pouvez répartir N_aug_total / 3 par méthode.\n",
    "# Attention: la back-translation est très lente.\n",
    "\n",
    "N_ORIGINAL_TRAIN = len(original_train_texts_list)\n",
    "# Viser à générer environ N_ORIGINAL_TRAIN / 3 nouveaux exemples distincts par méthode.\n",
    "# Cela mènerait à un doublement approximatif du dataset.\n",
    "# Ajustez ce nombre en fonction du temps disponible et de la taille de votre dataset.\n",
    "# Pour la back-translation, vous voudrez peut-être un nombre plus petit si le temps est un facteur.\n",
    "TARGET_NEW_SAMPLES_PER_METHOD = N_ORIGINAL_TRAIN // 3\n",
    "# Pour un test rapide, vous pouvez réduire drastiquement :\n",
    "# TARGET_NEW_SAMPLES_PER_METHOD = max(10, N_ORIGINAL_TRAIN // 100) # ex: 1% du dataset original, au moins 10\n",
    "\n",
    "\n",
    "print(f\"Dataset d'entraînement original : {N_ORIGINAL_TRAIN} échantillons.\")\n",
    "print(f\"Objectif de génération par méthode : approx. {TARGET_NEW_SAMPLES_PER_METHOD} nouveaux échantillons distincts.\")\n",
    "\n",
    "\n",
    "# --- 1. Rétro-Traduction (Back-Translation) ---\n",
    "print(f\"\\nDébut de la Rétro-Traduction...\")\n",
    "count_bt = 0\n",
    "if back_translation_models_loaded:\n",
    "    # Pour s'assurer d'obtenir des échantillons variés et éviter de trop augmenter\n",
    "    # les mêmes textes, on peut itérer sur une version mélangée du dataset original.\n",
    "    indices_bt = list(range(N_ORIGINAL_TRAIN))\n",
    "    random.shuffle(indices_bt)\n",
    "    \n",
    "    for i in indices_bt:\n",
    "        if count_bt >= TARGET_NEW_SAMPLES_PER_METHOD:\n",
    "            break\n",
    "        text_to_augment = original_train_texts_list[i]\n",
    "        label_of_text = original_train_labels_list[i]\n",
    "        \n",
    "        augmented_text = back_translate(text_to_augment, model_en_pivot, tokenizer_en_pivot, model_pivot_en, tokenizer_pivot_en)\n",
    "        \n",
    "        if augmented_text.lower() != text_to_augment.lower() and augmented_text.strip(): # Assurer une réelle augmentation\n",
    "            augmented_texts_list.append(augmented_text)\n",
    "            augmented_labels_list.append(label_of_text)\n",
    "            count_bt += 1\n",
    "            if count_bt % (max(1, TARGET_NEW_SAMPLES_PER_METHOD // 10)) == 0 or count_bt == TARGET_NEW_SAMPLES_PER_METHOD :\n",
    "                print(f\"  Rétro-Traduction : {count_bt}/{TARGET_NEW_SAMPLES_PER_METHOD} générés.\")\n",
    "else:\n",
    "    print(\"  Rétro-Traduction sautée (modèles non chargés).\")\n",
    "print(f\"Rétro-Traduction terminée. {count_bt} nouveaux échantillons générés.\")\n",
    "\n",
    "\n",
    "# --- 2. Remplacement de Synonymes ---\n",
    "print(f\"\\nDébut du Remplacement de Synonymes...\")\n",
    "count_sr = 0\n",
    "# On peut essayer plusieurs fois sur des textes différents pour atteindre la cible\n",
    "# ou augmenter le nombre de mots à remplacer par texte.\n",
    "# Ici, on essaie sur des textes différents.\n",
    "indices_sr = list(range(N_ORIGINAL_TRAIN))\n",
    "random.shuffle(indices_sr)\n",
    "attempts_sr = 0 # Pour éviter une boucle infinie si on ne trouve pas d'augmentations\n",
    "\n",
    "for i in indices_sr:\n",
    "    if count_sr >= TARGET_NEW_SAMPLES_PER_METHOD or attempts_sr >= N_ORIGINAL_TRAIN * 2: # Limiter les tentatives\n",
    "        break\n",
    "    text_to_augment = original_train_texts_list[i]\n",
    "    label_of_text = original_train_labels_list[i]\n",
    "    \n",
    "    # Tenter de remplacer 1 ou 2 mots\n",
    "    num_replacements = random.randint(1, 2) \n",
    "    augmented_text = synonym_replacement(text_to_augment, num_words_to_replace=num_replacements)\n",
    "    \n",
    "    if augmented_text.lower() != text_to_augment.lower() and augmented_text.strip():\n",
    "        augmented_texts_list.append(augmented_text)\n",
    "        augmented_labels_list.append(label_of_text)\n",
    "        count_sr += 1\n",
    "        if count_sr % (max(1, TARGET_NEW_SAMPLES_PER_METHOD // 10)) == 0 or count_sr == TARGET_NEW_SAMPLES_PER_METHOD :\n",
    "            print(f\"  Remplacement de Synonymes : {count_sr}/{TARGET_NEW_SAMPLES_PER_METHOD} générés.\")\n",
    "    attempts_sr += 1\n",
    "print(f\"Remplacement de Synonymes terminé. {count_sr} nouveaux échantillons générés.\")\n",
    "\n",
    "\n",
    "# --- 3. Suppression Aléatoire ---\n",
    "print(f\"\\nDébut de la Suppression Aléatoire...\")\n",
    "count_rd = 0\n",
    "indices_rd = list(range(N_ORIGINAL_TRAIN))\n",
    "random.shuffle(indices_rd)\n",
    "attempts_rd = 0\n",
    "\n",
    "for i in indices_rd:\n",
    "    if count_rd >= TARGET_NEW_SAMPLES_PER_METHOD or attempts_rd >= N_ORIGINAL_TRAIN * 2:\n",
    "        break\n",
    "    text_to_augment = original_train_texts_list[i]\n",
    "    label_of_text = original_train_labels_list[i]\n",
    "    \n",
    "    # Probabilité de suppression de 10% à 15%\n",
    "    deletion_probability = random.uniform(0.1, 0.15)\n",
    "    augmented_text = random_deletion(text_to_augment, deletion_prob=deletion_probability)\n",
    "    \n",
    "    if augmented_text.lower() != text_to_augment.lower() and augmented_text.strip() and len(word_tokenize(augmented_text)) > 2:\n",
    "        augmented_texts_list.append(augmented_text)\n",
    "        augmented_labels_list.append(label_of_text)\n",
    "        count_rd += 1\n",
    "        if count_rd % (max(1, TARGET_NEW_SAMPLES_PER_METHOD // 10)) == 0 or count_rd == TARGET_NEW_SAMPLES_PER_METHOD :\n",
    "            print(f\"  Suppression Aléatoire : {count_rd}/{TARGET_NEW_SAMPLES_PER_METHOD} générés.\")\n",
    "    attempts_rd += 1\n",
    "print(f\"Suppression Aléatoire terminée. {count_rd} nouveaux échantillons générés.\")\n",
    "\n",
    "\n",
    "# --- Combinaison et Nettoyage Final ---\n",
    "print(f\"\\nNombre total de textes originaux d'entraînement: {N_ORIGINAL_TRAIN}\")\n",
    "print(f\"Nombre total de textes augmentés générés: {len(augmented_texts_list)}\")\n",
    "\n",
    "# Combiner les données originales et augmentées\n",
    "X_train_text_augmented_final = pd.Series(original_train_texts_list + augmented_texts_list)\n",
    "y_train_labels_augmented_final = pd.Series(original_train_labels_list + augmented_labels_list)\n",
    "\n",
    "# Optionnel mais recommandé : Supprimer les doublons exacts qui pourraient résulter\n",
    "# de l'augmentation (ex: si une méthode retourne l'original et qu'il est ajouté)\n",
    "# ou si deux méthodes produisent le même texte augmenté.\n",
    "combined_df_augmented = pd.DataFrame({\n",
    "    'text': X_train_text_augmented_final,\n",
    "    'label': y_train_labels_augmented_final\n",
    "})\n",
    "print(f\"Taille avant suppression des doublons: {len(combined_df_augmented)}\")\n",
    "combined_df_augmented.drop_duplicates(subset=['text'], inplace=True) # Garder la première occurrence\n",
    "print(f\"Taille après suppression des doublons basés sur le texte: {len(combined_df_augmented)}\")\n",
    "\n",
    "\n",
    "# Mélanger le dataset augmenté final\n",
    "from sklearn.utils import shuffle\n",
    "X_train_text_augmented, y_train_str_augmented = shuffle(\n",
    "    combined_df_augmented['text'],\n",
    "    combined_df_augmented['label'],\n",
    "    random_state=SEED\n",
    ")\n",
    "\n",
    "# Réinitialiser les index pour les Series Pandas si nécessaire\n",
    "X_train_text_augmented.reset_index(drop=True, inplace=True)\n",
    "y_train_str_augmented.reset_index(drop=True, inplace=True)\n",
    "\n",
    "\n",
    "print(f\"\\nTaille finale du nouveau jeu d'entraînement (original + augmenté, dédoublonné, mélangé): {len(X_train_text_augmented)}\")\n",
    "print(\"Exemples de textes augmentés (quelques-uns) :\")\n",
    "for i in range(min(5, len(augmented_texts_list))): # Afficher jusqu'à 5 exemples augmentés\n",
    "    print(f\"  Label: {augmented_labels_list[i]}, Texte Augmenté: {augmented_texts_list[i][:100]}...\")"
   ]
  },
  {
   "cell_type": "markdown",
   "metadata": {},
   "source": [
    "### 9.d. Évaluation de l'Impact de l'Augmentation"
   ]
  },
  {
   "cell_type": "code",
   "execution_count": 47,
   "metadata": {},
   "outputs": [
    {
     "name": "stdout",
     "output_type": "stream",
     "text": [
      "--- 9.d. Évaluation de l'Impact de l'Augmentation sur le Modèle Transformer ---\n",
      "\n",
      "Préparation des données augmentées pour l'entraînement du Transformer Keras...\n",
      "Tokenisation des données d'entraînement augmentées...\n"
     ]
    },
    {
     "name": "stderr",
     "output_type": "stream",
     "text": [
      "Map (num_proc=4): 100%|██████████| 60158/60158 [00:02<00:00, 26875.18 examples/s]\n"
     ]
    },
    {
     "name": "stdout",
     "output_type": "stream",
     "text": [
      "Données d'entraînement augmentées prêtes. Shape input_ids: (60158, 128)\n",
      "\n",
      "--- Ré-entraînement du Transformer (distilbert-base-uncased) sur Données Augmentées (avec Strategy Scope) ---\n",
      "Utilisation de la stratégie TensorFlow: _DefaultDistributionStrategy\n",
      "Dans strategy.scope()... Chargement du modèle...\n"
     ]
    },
    {
     "name": "stderr",
     "output_type": "stream",
     "text": [
      "Some weights of the PyTorch model were not used when initializing the TF 2.0 model TFDistilBertForSequenceClassification: ['vocab_layer_norm.bias', 'vocab_projector.bias', 'vocab_layer_norm.weight', 'vocab_transform.weight', 'vocab_transform.bias']\n",
      "- This IS expected if you are initializing TFDistilBertForSequenceClassification from a PyTorch model trained on another task or with another architecture (e.g. initializing a TFBertForSequenceClassification model from a BertForPreTraining model).\n",
      "- This IS NOT expected if you are initializing TFDistilBertForSequenceClassification from a PyTorch model that you expect to be exactly identical (e.g. initializing a TFBertForSequenceClassification model from a BertForSequenceClassification model).\n",
      "Some weights or buffers of the TF 2.0 model TFDistilBertForSequenceClassification were not initialized from the PyTorch model and are newly initialized: ['pre_classifier.weight', 'pre_classifier.bias', 'classifier.weight', 'classifier.bias']\n",
      "You should probably TRAIN this model on a down-stream task to be able to use it for predictions and inference.\n",
      "Traceback (most recent call last):\n",
      "  File \"/tmp/ipykernel_338385/3015267605.py\", line 129, in <module>\n",
      "    model_hf_aug.compile(\n",
      "  File \"/home/wassim/repos/nlp/projet/twitter-sentiment-analysis/.venv/lib/python3.12/site-packages/transformers/modeling_tf_utils.py\", line 1543, in compile\n",
      "    super().compile(\n",
      "  File \"/home/wassim/repos/nlp/projet/twitter-sentiment-analysis/.venv/lib/python3.12/site-packages/tf_keras/src/utils/traceback_utils.py\", line 70, in error_handler\n",
      "    raise e.with_traceback(filtered_tb) from None\n",
      "  File \"/home/wassim/repos/nlp/projet/twitter-sentiment-analysis/.venv/lib/python3.12/site-packages/tensorflow/python/distribute/distribute_lib.py\", line 4021, in variable_created_in_scope\n",
      "    return v._distribute_strategy is None  # pylint: disable=protected-access\n",
      "           ^^^^^^^^^^^^^^^^^^^^^^\n",
      "AttributeError: 'Variable' object has no attribute '_distribute_strategy'\n"
     ]
    },
    {
     "name": "stdout",
     "output_type": "stream",
     "text": [
      "Nouvelle instance du modèle distilbert-base-uncased (TensorFlow) chargée.\n",
      "Dans strategy.scope()... Création de l'optimiseur...\n",
      "Utilisation de transformers.create_optimizer...\n",
      "Dans strategy.scope()... Compilation du modèle...\n",
      "ERREUR lors de la compilation dans strategy.scope(): 'Variable' object has no attribute '_distribute_strategy'\n",
      "\n",
      "Échec de la compilation ou du chargement du modèle Transformer. Section d'entraînement et d'évaluation sautée.\n",
      "\n",
      "--- Ré-entraînement Régression Logistique (TF-IDF) sur Données Augmentées ---\n",
      "Vectorisation TF-IDF (Entraînement Augmenté)...\n",
      "Transformation TF-IDF (Test Original)...\n",
      "Entraînement de la Régression Logistique (Augmenté)...\n",
      "\n",
      "Évaluation de la Régression Logistique (TF-IDF + Augmenté)...\n",
      "Rapport de Classification pour Logistic Regression (TF-IDF + Aug):\n",
      "              precision    recall  f1-score   support\n",
      "\n",
      "    negative       0.62      0.62      0.62      1709\n",
      "     neutral       0.71      0.72      0.71      2436\n",
      "    positive       0.77      0.76      0.76      3474\n",
      "\n",
      "    accuracy                           0.72      7619\n",
      "   macro avg       0.70      0.70      0.70      7619\n",
      "weighted avg       0.72      0.72      0.72      7619\n",
      "\n"
     ]
    },
    {
     "data": {
      "image/png": "[encoded data removed]",
      "text/plain": [
       "<Figure size 600x400 with 2 Axes>"
      ]
     },
     "metadata": {},
     "output_type": "display_data"
    },
    {
     "name": "stdout",
     "output_type": "stream",
     "text": [
      "Analyse de la Logistic Regression (TF-IDF + Aug) terminée.\n",
      "\n",
      "--- Tableau Récapitulatif des Performances (incluant modèles sur données augmentées) ---\n"
     ]
    },
    {
     "data": {
      "text/html": [
       "<div>\n",
       "<style scoped>\n",
       "    .dataframe tbody tr th:only-of-type {\n",
       "        vertical-align: middle;\n",
       "    }\n",
       "\n",
       "    .dataframe tbody tr th {\n",
       "        vertical-align: top;\n",
       "    }\n",
       "\n",
       "    .dataframe thead th {\n",
       "        text-align: right;\n",
       "    }\n",
       "</style>\n",
       "<table border=\"1\" class=\"dataframe\">\n",
       "  <thead>\n",
       "    <tr style=\"text-align: right;\">\n",
       "      <th></th>\n",
       "      <th>accuracy</th>\n",
       "      <th>precision_macro</th>\n",
       "      <th>recall_macro</th>\n",
       "      <th>f1_macro</th>\n",
       "    </tr>\n",
       "  </thead>\n",
       "  <tbody>\n",
       "    <tr>\n",
       "      <th>Transformer (distilbert-base-uncased)</th>\n",
       "      <td>0.807586</td>\n",
       "      <td>0.104242</td>\n",
       "      <td>0.101484</td>\n",
       "      <td>0.796815</td>\n",
       "    </tr>\n",
       "    <tr>\n",
       "      <th>Logistic Regression (TF-IDF)</th>\n",
       "      <td>0.723192</td>\n",
       "      <td>0.707241</td>\n",
       "      <td>0.706620</td>\n",
       "      <td>0.706677</td>\n",
       "    </tr>\n",
       "    <tr>\n",
       "      <th>Logistic Regression (TF-IDF + Aug)</th>\n",
       "      <td>0.715711</td>\n",
       "      <td>0.699441</td>\n",
       "      <td>0.700183</td>\n",
       "      <td>0.699806</td>\n",
       "    </tr>\n",
       "    <tr>\n",
       "      <th>MLP (TF-IDF)</th>\n",
       "      <td>0.715579</td>\n",
       "      <td>0.703128</td>\n",
       "      <td>0.685984</td>\n",
       "      <td>0.691968</td>\n",
       "    </tr>\n",
       "    <tr>\n",
       "      <th>Bidirectional LSTM (Improved with fine-tuned Word2Vec)</th>\n",
       "      <td>0.678042</td>\n",
       "      <td>0.693447</td>\n",
       "      <td>0.707481</td>\n",
       "      <td>0.675435</td>\n",
       "    </tr>\n",
       "    <tr>\n",
       "      <th>Naive Bayes (TF-IDF)</th>\n",
       "      <td>0.695761</td>\n",
       "      <td>0.692242</td>\n",
       "      <td>0.655506</td>\n",
       "      <td>0.666051</td>\n",
       "    </tr>\n",
       "    <tr>\n",
       "      <th>Random Forest (Best Params)</th>\n",
       "      <td>0.668592</td>\n",
       "      <td>0.651776</td>\n",
       "      <td>0.661733</td>\n",
       "      <td>0.655004</td>\n",
       "    </tr>\n",
       "    <tr>\n",
       "      <th>Logistic Regression (Word2Vec Avg)</th>\n",
       "      <td>0.566085</td>\n",
       "      <td>0.532551</td>\n",
       "      <td>0.534835</td>\n",
       "      <td>0.530896</td>\n",
       "    </tr>\n",
       "  </tbody>\n",
       "</table>\n",
       "</div>"
      ],
      "text/plain": [
       "                                                        accuracy  \\\n",
       "Transformer (distilbert-base-uncased)                   0.807586   \n",
       "Logistic Regression (TF-IDF)                            0.723192   \n",
       "Logistic Regression (TF-IDF + Aug)                      0.715711   \n",
       "MLP (TF-IDF)                                            0.715579   \n",
       "Bidirectional LSTM (Improved with fine-tuned Word2Vec)  0.678042   \n",
       "Naive Bayes (TF-IDF)                                    0.695761   \n",
       "Random Forest (Best Params)                             0.668592   \n",
       "Logistic Regression (Word2Vec Avg)                      0.566085   \n",
       "\n",
       "                                                        precision_macro  \\\n",
       "Transformer (distilbert-base-uncased)                          0.104242   \n",
       "Logistic Regression (TF-IDF)                                   0.707241   \n",
       "Logistic Regression (TF-IDF + Aug)                             0.699441   \n",
       "MLP (TF-IDF)                                                   0.703128   \n",
       "Bidirectional LSTM (Improved with fine-tuned Word2Vec)         0.693447   \n",
       "Naive Bayes (TF-IDF)                                           0.692242   \n",
       "Random Forest (Best Params)                                    0.651776   \n",
       "Logistic Regression (Word2Vec Avg)                             0.532551   \n",
       "\n",
       "                                                        recall_macro  f1_macro  \n",
       "Transformer (distilbert-base-uncased)                       0.101484  0.796815  \n",
       "Logistic Regression (TF-IDF)                                0.706620  0.706677  \n",
       "Logistic Regression (TF-IDF + Aug)                          0.700183  0.699806  \n",
       "MLP (TF-IDF)                                                0.685984  0.691968  \n",
       "Bidirectional LSTM (Improved with fine-tuned Word2Vec)      0.707481  0.675435  \n",
       "Naive Bayes (TF-IDF)                                        0.655506  0.666051  \n",
       "Random Forest (Best Params)                                 0.661733  0.655004  \n",
       "Logistic Regression (Word2Vec Avg)                          0.534835  0.530896  "
      ]
     },
     "metadata": {},
     "output_type": "display_data"
    }
   ],
   "source": [
    "# Cellule Code : 9.d. Évaluation de l'Impact de l'Augmentation (Tentative 3)\n",
    "\n",
    "# --- 9.d. Évaluation de l'Impact de l'Augmentation sur le Modèle Transformer ---\n",
    "print(\"--- 9.d. Évaluation de l'Impact de l'Augmentation sur le Modèle Transformer ---\")\n",
    "\n",
    "# Rappel: X_test_text et y_test_str sont les données de test originales et non modifiées.\n",
    "# y_train_str_augmented contient les labels string pour le dataset d'entraînement augmenté.\n",
    "\n",
    "# --- Imports nécessaires ---\n",
    "import numpy as np\n",
    "import pandas as pd\n",
    "import tensorflow as tf\n",
    "from transformers import AutoTokenizer, TFAutoModelForSequenceClassification, create_optimizer\n",
    "from datasets import Dataset\n",
    "from sklearn.preprocessing import LabelEncoder\n",
    "from sklearn.metrics import classification_report, accuracy_score\n",
    "from sklearn.feature_extraction.text import TfidfVectorizer\n",
    "from sklearn.linear_model import LogisticRegression\n",
    "import math # Pour math.ceil\n",
    "\n",
    "# --- Assurez-vous que les variables globales sont en scope ---\n",
    "# Assurez-vous que SEED, num_classes, MODEL_NAME_HF, X_train_text_augmented, y_train_str_augmented,\n",
    "# X_test_text, y_test_str, y_test_int, label_encoder_global, results_summary, evaluate_model sont définis.\n",
    "\n",
    "# --- Préparation des données augmentées (Identique à avant) ---\n",
    "print(\"\\nPréparation des données augmentées pour l'entraînement du Transformer Keras...\")\n",
    "if 'label_encoder_global' not in locals():\n",
    "    raise ValueError(\"label_encoder_global non défini.\")\n",
    "y_train_int_augmented = label_encoder_global.transform(y_train_str_augmented)\n",
    "\n",
    "TOKENIZER_MAX_LENGTH = 128\n",
    "if 'tokenizer_hf' not in locals() or tokenizer_hf.name_or_path != MODEL_NAME_HF:\n",
    "    print(f\"Chargement du tokenizer {MODEL_NAME_HF}...\")\n",
    "    tokenizer_hf = AutoTokenizer.from_pretrained(MODEL_NAME_HF)\n",
    "\n",
    "def tokenize_function_for_tf_conversion(examples):\n",
    "    return tokenizer_hf(examples[\"text\"], padding=\"max_length\", truncation=True, max_length=TOKENIZER_MAX_LENGTH)\n",
    "\n",
    "temp_train_aug_df = pd.DataFrame({'text': X_train_text_augmented, 'label': y_train_int_augmented})\n",
    "train_aug_dataset_hf = Dataset.from_pandas(temp_train_aug_df)\n",
    "print(\"Tokenisation des données d'entraînement augmentées...\")\n",
    "train_tokenized_aug_dataset_hf = train_aug_dataset_hf.map(tokenize_function_for_tf_conversion, batched=True, num_proc=4)\n",
    "train_tokenized_aug_dataset_hf = train_tokenized_aug_dataset_hf.remove_columns([col for col in train_tokenized_aug_dataset_hf.column_names if col not in ['input_ids', 'attention_mask', 'label']])\n",
    "train_features_dict_tf_aug = {'input_ids': np.array(train_tokenized_aug_dataset_hf['input_ids'], dtype=np.int32), 'attention_mask': np.array(train_tokenized_aug_dataset_hf['attention_mask'], dtype=np.int32)}\n",
    "train_labels_keras_tf_aug = np.array(train_tokenized_aug_dataset_hf['label'], dtype=np.int32)\n",
    "print(f\"Données d'entraînement augmentées prêtes. Shape input_ids: {train_features_dict_tf_aug['input_ids'].shape}\")\n",
    "\n",
    "# --- Préparation des données de test (Identique à avant) ---\n",
    "if 'test_features_dict_tf' not in locals() or 'test_labels_keras_tf' not in locals():\n",
    "    print(\"Préparation des données de test pour Keras fit (Transformer)...\")\n",
    "    if 'X_test_text' in locals() and 'y_test_int' in locals():\n",
    "        temp_test_df = pd.DataFrame({'text': X_test_text, 'label': y_test_int})\n",
    "        test_dataset_hf_for_tf = Dataset.from_pandas(temp_test_df)\n",
    "        test_tokenized_dataset_hf_for_tf = test_dataset_hf_for_tf.map(tokenize_function_for_tf_conversion, batched=True, num_proc=4)\n",
    "        test_tokenized_dataset_hf_for_tf = test_tokenized_dataset_hf_for_tf.remove_columns([col for col in test_tokenized_dataset_hf_for_tf.column_names if col not in ['input_ids', 'attention_mask', 'label']])\n",
    "        test_features_dict_tf = {'input_ids': np.array(test_tokenized_dataset_hf_for_tf['input_ids'], dtype=np.int32), 'attention_mask': np.array(test_tokenized_dataset_hf_for_tf['attention_mask'], dtype=np.int32)}\n",
    "        test_labels_keras_tf = np.array(test_tokenized_dataset_hf_for_tf['label'], dtype=np.int32)\n",
    "        print(\"Données de test prêtes.\")\n",
    "    else:\n",
    "        print(\"ERREUR: Données de test manquantes.\")\n",
    "        test_features_dict_tf = {'input_ids': np.array([]), 'attention_mask': np.array([])}\n",
    "        test_labels_keras_tf = np.array([])\n",
    "\n",
    "# --- Ré-entraînement du Modèle Transformer sur Données Augmentées avec Strategy Scope ---\n",
    "print(f\"\\n--- Ré-entraînement du Transformer ({MODEL_NAME_HF}) sur Données Augmentées (avec Strategy Scope) ---\")\n",
    "\n",
    "# Vérifier si les données sont prêtes\n",
    "if train_features_dict_tf_aug['input_ids'].shape[0] == 0 or test_features_dict_tf['input_ids'].shape[0] == 0:\n",
    "    print(\"Données d'entraînement ou de test vides. Section Transformer sautée.\")\n",
    "else:\n",
    "    TF_KERAS_EPOCHS_AUG = 3\n",
    "    TF_KERAS_BATCH_SIZE_AUG = 16\n",
    "    LEARNING_RATE_TF_AUG = 3e-5\n",
    "    WEIGHT_DECAY_TF_AUG = 0.01\n",
    "\n",
    "    # Calculer num_train_steps et num_warmup_steps\n",
    "    num_train_samples_aug = train_features_dict_tf_aug['input_ids'].shape[0]\n",
    "    steps_per_epoch_aug = math.ceil(num_train_samples_aug / TF_KERAS_BATCH_SIZE_AUG)\n",
    "    num_train_steps_aug = steps_per_epoch_aug * TF_KERAS_EPOCHS_AUG\n",
    "    num_warmup_steps_aug = int(0.1 * num_train_steps_aug)\n",
    "\n",
    "    # --- Utilisation explicite de Strategy Scope ---\n",
    "    strategy = tf.distribute.get_strategy() # Obtenir la stratégie actuelle (probablement DefaultStrategy)\n",
    "    print(f\"Utilisation de la stratégie TensorFlow: {strategy.__class__.__name__}\")\n",
    "\n",
    "    model_hf_aug = None\n",
    "    optimizer_tf_aug = None\n",
    "    compilation_successful = False\n",
    "\n",
    "    with strategy.scope():\n",
    "        print(\"Dans strategy.scope()... Chargement du modèle...\")\n",
    "        try:\n",
    "            model_hf_aug = TFAutoModelForSequenceClassification.from_pretrained(\n",
    "                MODEL_NAME_HF,\n",
    "                num_labels=num_classes\n",
    "            )\n",
    "            print(f\"Nouvelle instance du modèle {MODEL_NAME_HF} (TensorFlow) chargée.\")\n",
    "        except Exception as e:\n",
    "            print(f\"Erreur lors du chargement du modèle dans strategy.scope(): {e}\")\n",
    "            model_hf_aug = None # S'assurer qu'il est None en cas d'erreur\n",
    "\n",
    "        if model_hf_aug:\n",
    "            print(\"Dans strategy.scope()... Création de l'optimiseur...\")\n",
    "            try:\n",
    "                # Priorité à create_optimizer\n",
    "                optimizer_tf_aug, _ = create_optimizer(\n",
    "                    init_lr=LEARNING_RATE_TF_AUG,\n",
    "                    num_train_steps=num_train_steps_aug,\n",
    "                    num_warmup_steps=num_warmup_steps_aug,\n",
    "                    weight_decay_rate=WEIGHT_DECAY_TF_AUG\n",
    "                )\n",
    "                print(f\"Utilisation de transformers.create_optimizer...\")\n",
    "            except Exception as e_create_opt:\n",
    "                print(f\"Erreur avec create_optimizer: {e_create_opt}. Tentative avec tf.keras.optimizers.AdamW.\")\n",
    "                try:\n",
    "                    optimizer_tf_aug = tf.keras.optimizers.AdamW(\n",
    "                        learning_rate=LEARNING_RATE_TF_AUG,\n",
    "                        weight_decay=WEIGHT_DECAY_TF_AUG\n",
    "                    )\n",
    "                    print(f\"Utilisation de tf.keras.optimizers.AdamW...\")\n",
    "                except Exception as e_adamw:\n",
    "                    print(f\"Erreur avec AdamW: {e_adamw}. Tentative avec Adam.\")\n",
    "                    optimizer_tf_aug = tf.keras.optimizers.Adam(learning_rate=LEARNING_RATE_TF_AUG)\n",
    "                    print(f\"Utilisation de tf.keras.optimizers.Adam...\")\n",
    "\n",
    "            if optimizer_tf_aug:\n",
    "                print(\"Dans strategy.scope()... Compilation du modèle...\")\n",
    "                try:\n",
    "                    model_hf_aug.compile(\n",
    "                        optimizer=optimizer_tf_aug,\n",
    "                        loss=tf.keras.losses.SparseCategoricalCrossentropy(from_logits=True),\n",
    "                        metrics=[tf.keras.metrics.SparseCategoricalAccuracy('accuracy')]\n",
    "                    )\n",
    "                    print(\"Compilation réussie dans strategy.scope().\")\n",
    "                    compilation_successful = True\n",
    "                except Exception as e_compile:\n",
    "                    print(f\"ERREUR lors de la compilation dans strategy.scope(): {e_compile}\")\n",
    "                    # Afficher la trace complète si l'erreur persiste\n",
    "                    import traceback\n",
    "                    traceback.print_exc()\n",
    "            else:\n",
    "                print(\"ERREUR: Aucun optimiseur n'a pu être créé dans strategy.scope().\")\n",
    "        else:\n",
    "            print(\"ERREUR: Le modèle n'a pas pu être chargé dans strategy.scope().\")\n",
    "\n",
    "    # --- Fin de strategy.scope() ---\n",
    "\n",
    "    # Continuer seulement si la compilation a réussi\n",
    "    if compilation_successful and model_hf_aug:\n",
    "        early_stopping_tf_aug = tf.keras.callbacks.EarlyStopping(\n",
    "            monitor='val_loss', patience=1, restore_best_weights=True, verbose=1\n",
    "        )\n",
    "\n",
    "        print(f\"\\nDébut de l'entraînement Keras augmenté pour {TF_KERAS_EPOCHS_AUG} époques...\")\n",
    "        history_transformer_tf_aug = model_hf_aug.fit(\n",
    "            train_features_dict_tf_aug,\n",
    "            train_labels_keras_tf_aug,\n",
    "            validation_data=(test_features_dict_tf, test_labels_keras_tf),\n",
    "            epochs=TF_KERAS_EPOCHS_AUG,\n",
    "            batch_size=TF_KERAS_BATCH_SIZE_AUG,\n",
    "            callbacks=[early_stopping_tf_aug]\n",
    "        )\n",
    "\n",
    "        print(\"\\nÉvaluation du modèle Transformer TF (Augmenté) sur le jeu de test original...\")\n",
    "        eval_loss_tf_aug, eval_acc_tf_aug = model_hf_aug.evaluate(test_features_dict_tf, test_labels_keras_tf, verbose=0)\n",
    "        print(f\"Loss sur le test (Augmenté): {eval_loss_tf_aug:.4f}, Accuracy sur le test (Augmenté): {eval_acc_tf_aug:.4f}\")\n",
    "\n",
    "        print(\"\\nGénération des prédictions et du rapport de classification (Augmenté)...\")\n",
    "        predictions_output_tf_aug = model_hf_aug.predict(test_features_dict_tf)\n",
    "        logits_tf_aug = predictions_output_tf_aug.logits\n",
    "        y_pred_transformer_tf_int_aug = np.argmax(logits_tf_aug, axis=1)\n",
    "        y_pred_transformer_tf_str_aug = label_encoder_global.inverse_transform(y_pred_transformer_tf_int_aug)\n",
    "\n",
    "        model_name_key_aug = f\"Transformer TF ({MODEL_NAME_HF.split('/')[-1]} + Aug)\"\n",
    "        evaluate_model(model_name_key_aug, y_test_str, y_pred_transformer_tf_str_aug)\n",
    "\n",
    "        if 'results_summary' not in locals() or not isinstance(results_summary, dict): results_summary = {}\n",
    "        report_dict_aug = classification_report(y_test_str, y_pred_transformer_tf_str_aug, output_dict=True, zero_division=0)\n",
    "        results_summary[model_name_key_aug] = {'accuracy': eval_acc_tf_aug, 'precision_macro': report_dict_aug['macro avg']['precision'], 'recall_macro': report_dict_aug['macro avg']['recall'], 'f1_macro': report_dict_aug['macro avg']['f1-score']}\n",
    "        print(f\"Analyse du {model_name_key_aug} terminée.\")\n",
    "    else:\n",
    "        print(\"\\nÉchec de la compilation ou du chargement du modèle Transformer. Section d'entraînement et d'évaluation sautée.\")\n",
    "\n",
    "\n",
    "# --- Ré-entraînement Régression Logistique (TF-IDF) sur Données Augmentées (Identique à avant) ---\n",
    "print(\"\\n--- Ré-entraînement Régression Logistique (TF-IDF) sur Données Augmentées ---\")\n",
    "if 'SEED' not in locals(): SEED = 42\n",
    "tfidf_vectorizer_lr_on_aug = TfidfVectorizer(max_features=5000, stop_words='english', ngram_range=(1,2))\n",
    "print(\"Vectorisation TF-IDF (Entraînement Augmenté)...\")\n",
    "X_train_tfidf_lr_on_aug = tfidf_vectorizer_lr_on_aug.fit_transform(X_train_text_augmented)\n",
    "print(\"Transformation TF-IDF (Test Original)...\")\n",
    "X_test_tfidf_lr_original_transformed_by_aug_fitter = tfidf_vectorizer_lr_on_aug.transform(X_test_text)\n",
    "lr_model_on_aug = LogisticRegression(max_iter=1000, random_state=SEED, solver='liblinear', C=1.0, class_weight='balanced')\n",
    "print(\"Entraînement de la Régression Logistique (Augmenté)...\")\n",
    "lr_model_on_aug.fit(X_train_tfidf_lr_on_aug, y_train_str_augmented)\n",
    "print(\"\\nÉvaluation de la Régression Logistique (TF-IDF + Augmenté)...\")\n",
    "y_pred_lr_on_aug = lr_model_on_aug.predict(X_test_tfidf_lr_original_transformed_by_aug_fitter)\n",
    "model_name_lr_aug_key = \"Logistic Regression (TF-IDF + Aug)\"\n",
    "evaluate_model(model_name_lr_aug_key, y_test_str, y_pred_lr_on_aug)\n",
    "if 'results_summary' not in locals() or not isinstance(results_summary, dict): results_summary = {}\n",
    "if model_name_lr_aug_key not in results_summary:\n",
    "    report_lr_aug_dict = classification_report(y_test_str, y_pred_lr_on_aug, output_dict=True, zero_division=0)\n",
    "    results_summary[model_name_lr_aug_key] = {'accuracy': accuracy_score(y_test_str, y_pred_lr_on_aug), 'precision_macro': report_lr_aug_dict['macro avg']['precision'], 'recall_macro': report_lr_aug_dict['macro avg']['recall'], 'f1_macro': report_lr_aug_dict['macro avg']['f1-score']}\n",
    "print(f\"Analyse de la {model_name_lr_aug_key} terminée.\")\n",
    "\n",
    "\n",
    "# --- Afficher le tableau récapitulatif mis à jour (Identique à avant) ---\n",
    "print(\"\\n--- Tableau Récapitulatif des Performances (incluant modèles sur données augmentées) ---\")\n",
    "try: display\n",
    "except NameError: display = print # Fallback pour environnements non-Jupyter\n",
    "\n",
    "if 'results_summary' in locals() and isinstance(results_summary, dict) and results_summary:\n",
    "    updated_results_df_aug = pd.DataFrame.from_dict(results_summary, orient='index')\n",
    "    if 'f1_macro' in updated_results_df_aug.columns:\n",
    "        updated_results_df_aug = updated_results_df_aug.sort_values(by='f1_macro', ascending=False)\n",
    "    else:\n",
    "        print(\"ATTENTION: Colonne 'f1_macro' manquante pour le tri.\")\n",
    "    display(updated_results_df_aug)\n",
    "else:\n",
    "    print(\"results_summary est vide ou non défini. Aucun résultat à afficher.\")"
   ]
  },
  {
   "cell_type": "markdown",
   "metadata": {},
   "source": [
    "# 10. Génération de Tweet"
   ]
  },
  {
   "cell_type": "code",
   "execution_count": null,
   "metadata": {},
   "outputs": [],
   "source": [
    "import pandas as pd\n",
    "\n",
    "# On nettoie le dataset pour avoir des tweets ayant plus de 20 charactères\n",
    "df = df.dropna()\n",
    "df = df[df['text'].str.len() > 20]\n",
    "\n",
    "# Format with prefix tags\n",
    "df['formatted'] = df['label'].apply(lambda s: f\"<{s.lower()}>\") + \" \" + df['text']\n",
    "\n",
    "# On prends un sample de 100 tweet aléatoires (trop long a s'entrainer sinon\"\n",
    "df = df.sample(n=100, random_state=42).copy()\n",
    "\n",
    "# Save as plain text, one sample per line\n",
    "with open(\"formatted_tweets.txt\", \"w\", encoding=\"utf-8\") as f:\n",
    "    for line in df['formatted']:\n",
    "        f.write(line.strip() + \"\\n\")\n"
   ]
  },
  {
   "cell_type": "code",
   "execution_count": null,
   "metadata": {},
   "outputs": [
    {
     "name": "stdout",
     "output_type": "stream",
     "text": [
      "$QC is $15.50 or $20.50, not that you know. I am not going to do any stock trading. $QC is $15.50 or $20.50, not that you know\n"
     ]
    }
   ],
   "source": [
    "from transformers import GPT2Tokenizer, GPT2LMHeadModel\n",
    "\n",
    "model_path = \"./tweet-model\"\n",
    "tokenizer = GPT2Tokenizer.from_pretrained(model_path)\n",
    "model = GPT2LMHeadModel.from_pretrained(model_path)\n",
    "\n",
    "#On va generé des tweet a l'aide de nos données d'entrainement\n",
    "def generate_tweet_finetuned(sentiment=\"positive\", max_length=50):\n",
    "    prompt = f\"<{sentiment}>\"\n",
    "    inputs = tokenizer(prompt, return_tensors=\"pt\")\n",
    "    outputs = model.generate(\n",
    "        **inputs,\n",
    "        max_length=max_length,\n",
    "        do_sample=True,\n",
    "        top_p=0.95,\n",
    "        top_k=50,\n",
    "        temperature=0.8,\n",
    "        pad_token_id=tokenizer.eos_token_id\n",
    "    )\n",
    "    return tokenizer.decode(outputs[0], skip_special_tokens=True).replace(prompt, \"\").strip()\n",
    "\n",
    "print(generate_tweet_finetuned(\"negative\"))"
   ]
  },
  {
   "cell_type": "markdown",
   "metadata": {},
   "source": [
    "# --- Fin du Notebook ---"
   ]
  }
 ],
 "metadata": {
  "kernelspec": {
   "display_name": ".venv",
   "language": "python",
   "name": "python3"
  },
  "language_info": {
   "codemirror_mode": {
    "name": "ipython",
    "version": 3
   },
   "file_extension": ".py",
   "mimetype": "text/x-python",
   "name": "python",
   "nbconvert_exporter": "python",
   "pygments_lexer": "ipython3",
   "version": "3.12.3"
  }
 },
 "nbformat": 4,
 "nbformat_minor": 4
}
